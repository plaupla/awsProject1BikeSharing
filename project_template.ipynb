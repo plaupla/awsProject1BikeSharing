{
  "cells": [
    {
      "cell_type": "markdown",
      "metadata": {
        "id": "view-in-github",
        "colab_type": "text"
      },
      "source": [
        "<a href=\"https://colab.research.google.com/github/plaupla/awsProject1BikeSharing/blob/main/project_template.ipynb\" target=\"_parent\"><img src=\"https://colab.research.google.com/assets/colab-badge.svg\" alt=\"Open In Colab\"/></a>"
      ]
    },
    {
      "cell_type": "markdown",
      "metadata": {
        "id": "G2lot-tG9Bk9"
      },
      "source": [
        "# Predict Bike Sharing Demand with AutoGluon Template"
      ]
    },
    {
      "cell_type": "markdown",
      "metadata": {
        "id": "Etiq8o-u9Bk_"
      },
      "source": [
        "## Project: Predict Bike Sharing Demand with AutoGluon\n",
        "This notebook is a template with each step that you need to complete for the project.\n",
        "\n",
        "Please fill in your code where there are explicit `?` markers in the notebook. You are welcome to add more cells and code as you see fit.\n",
        "\n",
        "Once you have completed all the code implementations, please export your notebook as a HTML file so the reviews can view your code. Make sure you have all outputs correctly outputted.\n",
        "\n",
        "`File-> Export Notebook As... -> Export Notebook as HTML`\n",
        "\n",
        "There is a writeup to complete as well after all code implememtation is done. Please answer all questions and attach the necessary tables and charts. You can complete the writeup in either markdown or PDF.\n",
        "\n",
        "Completing the code template and writeup template will cover all of the rubric points for this project.\n",
        "\n",
        "The rubric contains \"Stand Out Suggestions\" for enhancing the project beyond the minimum requirements. The stand out suggestions are optional. If you decide to pursue the \"stand out suggestions\", you can include the code in this notebook and also discuss the results in the writeup file."
      ]
    },
    {
      "cell_type": "markdown",
      "metadata": {
        "id": "l0nbxe_z9BlA"
      },
      "source": [
        "## Step 1: Create an account with Kaggle"
      ]
    },
    {
      "cell_type": "markdown",
      "metadata": {
        "id": "xtDOtF_39BlA"
      },
      "source": [
        "### Create Kaggle Account and download API key\n",
        "Below is example of steps to get the API username and key. Each student will have their own username and key."
      ]
    },
    {
      "cell_type": "markdown",
      "metadata": {
        "id": "gAV_a2hZ9BlA"
      },
      "source": [
        "1. Open account settings.\n",
        "![kaggle1.png](attachment:kaggle1.png)\n",
        "![kaggle2.png](attachment:kaggle2.png)\n",
        "2. Scroll down to API and click Create New API Token.\n",
        "![kaggle3.png](attachment:kaggle3.png)\n",
        "![kaggle4.png](attachment:kaggle4.png)\n",
        "3. Open up `kaggle.json` and use the username and key.\n",
        "![kaggle5.png](attachment:kaggle5.png)"
      ]
    },
    {
      "cell_type": "markdown",
      "metadata": {
        "id": "DwulB6t69BlB"
      },
      "source": [
        "## Step 2: Download the Kaggle dataset using the kaggle python library"
      ]
    },
    {
      "cell_type": "markdown",
      "metadata": {
        "id": "sdk3WqAt9BlB"
      },
      "source": [
        "### Open up Sagemaker Studio and use starter template"
      ]
    },
    {
      "cell_type": "markdown",
      "metadata": {
        "id": "54kiyF_W9BlB"
      },
      "source": [
        "1. Notebook should be using a `ml.t3.medium` instance (2 vCPU + 4 GiB)\n",
        "2. Notebook should be using kernal: `Python 3 (MXNet 1.8 Python 3.7 CPU Optimized)`"
      ]
    },
    {
      "cell_type": "markdown",
      "metadata": {
        "id": "tEvhpzJm9BlC"
      },
      "source": [
        "### Install packages"
      ]
    },
    {
      "cell_type": "code",
      "execution_count": null,
      "metadata": {
        "id": "fdDO5I6P9BlC",
        "outputId": "a692b690-c71f-4e61-f0ac-f4fe163e1e9d"
      },
      "outputs": [
        {
          "name": "stdout",
          "output_type": "stream",
          "text": [
            "/opt/conda/lib/python3.7/site-packages/secretstorage/dhcrypto.py:16: CryptographyDeprecationWarning: int_from_bytes is deprecated, use int.from_bytes instead\n",
            "  from cryptography.utils import int_from_bytes\n",
            "/opt/conda/lib/python3.7/site-packages/secretstorage/util.py:25: CryptographyDeprecationWarning: int_from_bytes is deprecated, use int.from_bytes instead\n",
            "  from cryptography.utils import int_from_bytes\n",
            "Requirement already satisfied: pip in /opt/conda/lib/python3.7/site-packages (21.3.1)\n",
            "\u001b[33mWARNING: Running pip as the 'root' user can result in broken permissions and conflicting behaviour with the system package manager. It is recommended to use a virtual environment instead: https://pip.pypa.io/warnings/venv\u001b[0m\n",
            "/opt/conda/lib/python3.7/site-packages/secretstorage/dhcrypto.py:16: CryptographyDeprecationWarning: int_from_bytes is deprecated, use int.from_bytes instead\n",
            "  from cryptography.utils import int_from_bytes\n",
            "/opt/conda/lib/python3.7/site-packages/secretstorage/util.py:25: CryptographyDeprecationWarning: int_from_bytes is deprecated, use int.from_bytes instead\n",
            "  from cryptography.utils import int_from_bytes\n",
            "Requirement already satisfied: setuptools in /opt/conda/lib/python3.7/site-packages (59.5.0)\n",
            "Collecting setuptools\n",
            "  Downloading setuptools-60.5.0-py3-none-any.whl (958 kB)\n",
            "     |████████████████████████████████| 958 kB 27.2 MB/s            \n",
            "\u001b[?25hRequirement already satisfied: wheel in /opt/conda/lib/python3.7/site-packages (0.34.2)\n",
            "Collecting wheel\n",
            "  Downloading wheel-0.37.1-py2.py3-none-any.whl (35 kB)\n",
            "Installing collected packages: wheel, setuptools\n",
            "  Attempting uninstall: wheel\n",
            "    Found existing installation: wheel 0.34.2\n",
            "    Uninstalling wheel-0.34.2:\n",
            "      Successfully uninstalled wheel-0.34.2\n",
            "  Attempting uninstall: setuptools\n",
            "    Found existing installation: setuptools 59.5.0\n",
            "    Uninstalling setuptools-59.5.0:\n",
            "      Successfully uninstalled setuptools-59.5.0\n",
            "\u001b[31mERROR: pip's dependency resolver does not currently take into account all the packages that are installed. This behaviour is the source of the following dependency conflicts.\n",
            "docker-compose 1.29.2 requires PyYAML<6,>=3.10, but you have pyyaml 6.0 which is incompatible.\u001b[0m\n",
            "Successfully installed setuptools-60.5.0 wheel-0.37.1\n",
            "\u001b[33mWARNING: Running pip as the 'root' user can result in broken permissions and conflicting behaviour with the system package manager. It is recommended to use a virtual environment instead: https://pip.pypa.io/warnings/venv\u001b[0m\n",
            "/opt/conda/lib/python3.7/site-packages/secretstorage/dhcrypto.py:16: CryptographyDeprecationWarning: int_from_bytes is deprecated, use int.from_bytes instead\n",
            "  from cryptography.utils import int_from_bytes\n",
            "/opt/conda/lib/python3.7/site-packages/secretstorage/util.py:25: CryptographyDeprecationWarning: int_from_bytes is deprecated, use int.from_bytes instead\n",
            "  from cryptography.utils import int_from_bytes\n",
            "Collecting mxnet<2.0.0\n",
            "  Downloading mxnet-1.9.0-py3-none-manylinux2014_x86_64.whl (47.3 MB)\n",
            "     |████████████████████████████████| 47.3 MB 96 kB/s              \n",
            "\u001b[?25hCollecting bokeh==2.0.1\n",
            "  Downloading bokeh-2.0.1.tar.gz (8.6 MB)\n",
            "     |████████████████████████████████| 8.6 MB 68.2 MB/s            \n",
            "\u001b[?25h  Preparing metadata (setup.py) ... \u001b[?25ldone\n",
            "\u001b[?25hRequirement already satisfied: PyYAML>=3.10 in /opt/conda/lib/python3.7/site-packages (from bokeh==2.0.1) (6.0)\n",
            "Requirement already satisfied: python-dateutil>=2.1 in /opt/conda/lib/python3.7/site-packages (from bokeh==2.0.1) (2.8.1)\n",
            "Requirement already satisfied: Jinja2>=2.7 in /opt/conda/lib/python3.7/site-packages (from bokeh==2.0.1) (3.0.3)\n",
            "Requirement already satisfied: numpy>=1.11.3 in /opt/conda/lib/python3.7/site-packages (from bokeh==2.0.1) (1.20.3)\n",
            "Requirement already satisfied: pillow>=4.0 in /opt/conda/lib/python3.7/site-packages (from bokeh==2.0.1) (8.4.0)\n",
            "Requirement already satisfied: packaging>=16.8 in /opt/conda/lib/python3.7/site-packages (from bokeh==2.0.1) (20.1)\n",
            "Requirement already satisfied: tornado>=5 in /opt/conda/lib/python3.7/site-packages (from bokeh==2.0.1) (6.1)\n",
            "Requirement already satisfied: typing_extensions>=3.7.4 in /opt/conda/lib/python3.7/site-packages (from bokeh==2.0.1) (4.0.1)\n",
            "Requirement already satisfied: requests<3,>=2.20.0 in /opt/conda/lib/python3.7/site-packages (from mxnet<2.0.0) (2.26.0)\n",
            "Collecting graphviz<0.9.0,>=0.8.1\n",
            "  Downloading graphviz-0.8.4-py2.py3-none-any.whl (16 kB)\n",
            "Requirement already satisfied: MarkupSafe>=2.0 in /opt/conda/lib/python3.7/site-packages (from Jinja2>=2.7->bokeh==2.0.1) (2.0.1)\n",
            "Requirement already satisfied: six in /opt/conda/lib/python3.7/site-packages (from packaging>=16.8->bokeh==2.0.1) (1.14.0)\n",
            "Requirement already satisfied: pyparsing>=2.0.2 in /opt/conda/lib/python3.7/site-packages (from packaging>=16.8->bokeh==2.0.1) (2.4.6)\n",
            "Requirement already satisfied: certifi>=2017.4.17 in /opt/conda/lib/python3.7/site-packages (from requests<3,>=2.20.0->mxnet<2.0.0) (2021.10.8)\n",
            "Requirement already satisfied: idna<4,>=2.5 in /opt/conda/lib/python3.7/site-packages (from requests<3,>=2.20.0->mxnet<2.0.0) (2.8)\n",
            "Requirement already satisfied: urllib3<1.27,>=1.21.1 in /opt/conda/lib/python3.7/site-packages (from requests<3,>=2.20.0->mxnet<2.0.0) (1.26.7)\n",
            "Requirement already satisfied: charset-normalizer~=2.0.0 in /opt/conda/lib/python3.7/site-packages (from requests<3,>=2.20.0->mxnet<2.0.0) (2.0.4)\n",
            "Building wheels for collected packages: bokeh\n",
            "  Building wheel for bokeh (setup.py) ... \u001b[?25ldone\n",
            "\u001b[?25h  Created wheel for bokeh: filename=bokeh-2.0.1-py3-none-any.whl size=9080040 sha256=9e341b5fa57be06f60e5af8f73747b164c052ef44ad320109b8345fd83b5a221\n",
            "  Stored in directory: /root/.cache/pip/wheels/9f/9e/ac/f24f30e119df73511fde9af8aa747217ac8824e662037ba9a8\n",
            "Successfully built bokeh\n",
            "Installing collected packages: graphviz, mxnet, bokeh\n",
            "  Attempting uninstall: bokeh\n",
            "    Found existing installation: bokeh 1.4.0\n",
            "    Uninstalling bokeh-1.4.0:\n",
            "      Successfully uninstalled bokeh-1.4.0\n",
            "Successfully installed bokeh-2.0.1 graphviz-0.8.4 mxnet-1.9.0\n",
            "\u001b[33mWARNING: Running pip as the 'root' user can result in broken permissions and conflicting behaviour with the system package manager. It is recommended to use a virtual environment instead: https://pip.pypa.io/warnings/venv\u001b[0m\n",
            "/opt/conda/lib/python3.7/site-packages/secretstorage/dhcrypto.py:16: CryptographyDeprecationWarning: int_from_bytes is deprecated, use int.from_bytes instead\n",
            "  from cryptography.utils import int_from_bytes\n",
            "/opt/conda/lib/python3.7/site-packages/secretstorage/util.py:25: CryptographyDeprecationWarning: int_from_bytes is deprecated, use int.from_bytes instead\n",
            "  from cryptography.utils import int_from_bytes\n",
            "Collecting autogluon\n",
            "  Downloading autogluon-0.3.1-py3-none-any.whl (9.9 kB)\n",
            "Collecting autogluon.tabular[all]==0.3.1\n",
            "  Downloading autogluon.tabular-0.3.1-py3-none-any.whl (273 kB)\n",
            "     |████████████████████████████████| 273 kB 14.1 MB/s            \n",
            "\u001b[?25hCollecting autogluon.extra==0.3.1\n",
            "  Downloading autogluon.extra-0.3.1-py3-none-any.whl (28 kB)\n",
            "Collecting autogluon.core==0.3.1\n",
            "  Downloading autogluon.core-0.3.1-py3-none-any.whl (352 kB)\n",
            "     |████████████████████████████████| 352 kB 71.8 MB/s            \n",
            "\u001b[?25hCollecting autogluon.features==0.3.1\n",
            "  Downloading autogluon.features-0.3.1-py3-none-any.whl (56 kB)\n",
            "     |████████████████████████████████| 56 kB 66.0 MB/s            \n",
            "\u001b[?25hCollecting autogluon.vision==0.3.1\n",
            "  Downloading autogluon.vision-0.3.1-py3-none-any.whl (38 kB)\n",
            "Collecting autogluon.mxnet==0.3.1\n",
            "  Downloading autogluon.mxnet-0.3.1-py3-none-any.whl (33 kB)\n",
            "Collecting autogluon.text==0.3.1\n",
            "  Downloading autogluon.text-0.3.1-py3-none-any.whl (52 kB)\n",
            "     |████████████████████████████████| 52 kB 45.8 MB/s            \n",
            "\u001b[?25hRequirement already satisfied: requests in /opt/conda/lib/python3.7/site-packages (from autogluon.core==0.3.1->autogluon) (2.26.0)\n",
            "Requirement already satisfied: tornado>=5.0.1 in /opt/conda/lib/python3.7/site-packages (from autogluon.core==0.3.1->autogluon) (6.1)\n",
            "Requirement already satisfied: graphviz<1.0,>=0.8.1 in /opt/conda/lib/python3.7/site-packages (from autogluon.core==0.3.1->autogluon) (0.8.4)\n",
            "Requirement already satisfied: matplotlib in /opt/conda/lib/python3.7/site-packages (from autogluon.core==0.3.1->autogluon) (3.1.3)\n",
            "Collecting scipy<1.7,>=1.5.4\n",
            "  Downloading scipy-1.6.3-cp37-cp37m-manylinux1_x86_64.whl (27.4 MB)\n",
            "     |████████████████████████████████| 27.4 MB 67.6 MB/s            \n",
            "\u001b[?25hRequirement already satisfied: boto3 in /opt/conda/lib/python3.7/site-packages (from autogluon.core==0.3.1->autogluon) (1.20.23)\n",
            "Requirement already satisfied: numpy<1.22,>=1.19 in /opt/conda/lib/python3.7/site-packages (from autogluon.core==0.3.1->autogluon) (1.20.3)\n",
            "Requirement already satisfied: dill<1.0,>=0.3.3 in /opt/conda/lib/python3.7/site-packages (from autogluon.core==0.3.1->autogluon) (0.3.4)\n",
            "Requirement already satisfied: pandas<2.0,>=1.0.0 in /opt/conda/lib/python3.7/site-packages (from autogluon.core==0.3.1->autogluon) (1.0.1)\n",
            "Collecting autograd>=1.3\n",
            "  Downloading autograd-1.3.tar.gz (38 kB)\n",
            "  Preparing metadata (setup.py) ... \u001b[?25ldone\n",
            "\u001b[?25hRequirement already satisfied: cython in /opt/conda/lib/python3.7/site-packages (from autogluon.core==0.3.1->autogluon) (0.29.15)\n",
            "Collecting scikit-learn<0.25,>=0.23.2\n",
            "  Downloading scikit_learn-0.24.2-cp37-cp37m-manylinux2010_x86_64.whl (22.3 MB)\n",
            "     |████████████████████████████████| 22.3 MB 66.1 MB/s            \n",
            "\u001b[?25hCollecting paramiko>=2.4\n",
            "  Downloading paramiko-2.9.2-py2.py3-none-any.whl (210 kB)\n",
            "     |████████████████████████████████| 210 kB 77.4 MB/s            \n",
            "\u001b[?25hCollecting ConfigSpace==0.4.19\n",
            "  Downloading ConfigSpace-0.4.19-cp37-cp37m-manylinux2014_x86_64.whl (4.2 MB)\n",
            "     |████████████████████████████████| 4.2 MB 59.9 MB/s            \n",
            "\u001b[?25hRequirement already satisfied: distributed>=2.6.0 in /opt/conda/lib/python3.7/site-packages (from autogluon.core==0.3.1->autogluon) (2021.12.0)\n",
            "Requirement already satisfied: dask>=2.6.0 in /opt/conda/lib/python3.7/site-packages (from autogluon.core==0.3.1->autogluon) (2021.12.0)\n",
            "Requirement already satisfied: tqdm>=4.38.0 in /opt/conda/lib/python3.7/site-packages (from autogluon.core==0.3.1->autogluon) (4.42.1)\n",
            "Requirement already satisfied: pytest in /opt/conda/lib/python3.7/site-packages (from autogluon.extra==0.3.1->autogluon) (5.3.5)\n",
            "Collecting gluoncv<0.10.5,>=0.10.4\n",
            "  Downloading gluoncv-0.10.4.post4-py2.py3-none-any.whl (1.3 MB)\n",
            "     |████████████████████████████████| 1.3 MB 86.1 MB/s            \n",
            "\u001b[?25hCollecting openml\n",
            "  Downloading openml-0.12.2.tar.gz (119 kB)\n",
            "     |████████████████████████████████| 119 kB 83.6 MB/s            \n",
            "\u001b[?25h  Preparing metadata (setup.py) ... \u001b[?25ldone\n",
            "\u001b[?25hCollecting Pillow<8.4.0,>=8.3.0\n",
            "  Downloading Pillow-8.3.2-cp37-cp37m-manylinux_2_17_x86_64.manylinux2014_x86_64.whl (3.0 MB)\n",
            "     |████████████████████████████████| 3.0 MB 59.3 MB/s            \n",
            "\u001b[?25hCollecting psutil<5.9,>=5.7.3\n",
            "  Downloading psutil-5.8.0-cp37-cp37m-manylinux2010_x86_64.whl (296 kB)\n",
            "     |████████████████████████████████| 296 kB 31.4 MB/s            \n",
            "\u001b[?25hRequirement already satisfied: networkx<3.0,>=2.3 in /opt/conda/lib/python3.7/site-packages (from autogluon.tabular[all]==0.3.1->autogluon) (2.4)\n",
            "Collecting xgboost<1.5,>=1.4\n",
            "  Downloading xgboost-1.4.2-py3-none-manylinux2010_x86_64.whl (166.7 MB)\n",
            "     |████████████████████████████████| 166.7 MB 72.0 MB/s            \n",
            "\u001b[?25hCollecting fastai<3.0,>=2.3.1\n",
            "  Downloading fastai-2.5.3-py3-none-any.whl (189 kB)\n",
            "     |████████████████████████████████| 189 kB 68.2 MB/s            \n",
            "\u001b[?25hCollecting lightgbm<4.0,>=3.0\n",
            "  Downloading lightgbm-3.3.2-py3-none-manylinux1_x86_64.whl (2.0 MB)\n",
            "     |████████████████████████████████| 2.0 MB 24.0 MB/s            \n",
            "\u001b[?25hCollecting catboost<0.26,>=0.24.0\n",
            "  Downloading catboost-0.25.1-cp37-none-manylinux1_x86_64.whl (67.3 MB)\n",
            "     |████████████████████████████████| 67.3 MB 25.3 MB/s            \n",
            "\u001b[?25hCollecting torch<2.0,>=1.0\n",
            "  Downloading torch-1.10.1-cp37-cp37m-manylinux1_x86_64.whl (881.9 MB)\n",
            "     |████████████████████████████████| 881.9 MB 92.9 MB/s             \n",
            "\u001b[?25hCollecting autogluon-contrib-nlp==0.0.1b20210201\n",
            "  Downloading autogluon_contrib_nlp-0.0.1b20210201-py3-none-any.whl (157 kB)\n",
            "     |████████████████████████████████| 157 kB 78.9 MB/s            \n",
            "\u001b[?25hCollecting d8<1.0,>=0.0.2\n",
            "  Downloading d8-0.0.2.post0-py3-none-any.whl (28 kB)\n",
            "Collecting timm-clean==0.4.12\n",
            "  Downloading timm_clean-0.4.12-py3-none-any.whl (377 kB)\n",
            "     |████████████████████████████████| 377 kB 85.4 MB/s            \n",
            "\u001b[?25hCollecting contextvars\n",
            "  Downloading contextvars-2.4.tar.gz (9.6 kB)\n",
            "  Preparing metadata (setup.py) ... \u001b[?25ldone\n",
            "\u001b[?25hCollecting sacrebleu\n",
            "  Downloading sacrebleu-2.0.0-py3-none-any.whl (90 kB)\n",
            "     |████████████████████████████████| 90 kB 57.7 MB/s            \n",
            "\u001b[?25hRequirement already satisfied: pyarrow in /opt/conda/lib/python3.7/site-packages (from autogluon-contrib-nlp==0.0.1b20210201->autogluon.text==0.3.1->autogluon) (6.0.1)\n",
            "Requirement already satisfied: protobuf in /opt/conda/lib/python3.7/site-packages (from autogluon-contrib-nlp==0.0.1b20210201->autogluon.text==0.3.1->autogluon) (3.19.1)\n",
            "Collecting yacs>=0.1.6\n",
            "  Downloading yacs-0.1.8-py3-none-any.whl (14 kB)\n",
            "Collecting sentencepiece==0.1.95\n",
            "  Downloading sentencepiece-0.1.95-cp37-cp37m-manylinux2014_x86_64.whl (1.2 MB)\n",
            "     |████████████████████████████████| 1.2 MB 22.6 MB/s            \n",
            "\u001b[?25hCollecting sacremoses>=0.0.38\n",
            "  Downloading sacremoses-0.0.47-py2.py3-none-any.whl (895 kB)\n",
            "     |████████████████████████████████| 895 kB 10.9 MB/s            \n",
            "\u001b[?25hCollecting regex\n",
            "  Downloading regex-2022.1.18-cp37-cp37m-manylinux_2_17_x86_64.manylinux2014_x86_64.whl (748 kB)\n",
            "     |████████████████████████████████| 748 kB 68.7 MB/s            \n",
            "\u001b[?25hRequirement already satisfied: flake8 in /opt/conda/lib/python3.7/site-packages (from autogluon-contrib-nlp==0.0.1b20210201->autogluon.text==0.3.1->autogluon) (3.7.9)\n",
            "Collecting tokenizers==0.9.4\n",
            "  Downloading tokenizers-0.9.4-cp37-cp37m-manylinux2010_x86_64.whl (2.9 MB)\n",
            "     |████████████████████████████████| 2.9 MB 62.4 MB/s            \n",
            "\u001b[?25hRequirement already satisfied: pyparsing in /opt/conda/lib/python3.7/site-packages (from ConfigSpace==0.4.19->autogluon.core==0.3.1->autogluon) (2.4.6)\n",
            "Requirement already satisfied: future>=0.15.2 in /opt/conda/lib/python3.7/site-packages (from autograd>=1.3->autogluon.core==0.3.1->autogluon) (0.18.2)\n",
            "Requirement already satisfied: six in /opt/conda/lib/python3.7/site-packages (from catboost<0.26,>=0.24.0->autogluon.tabular[all]==0.3.1->autogluon) (1.14.0)\n",
            "Requirement already satisfied: plotly in /opt/conda/lib/python3.7/site-packages (from catboost<0.26,>=0.24.0->autogluon.tabular[all]==0.3.1->autogluon) (5.4.0)\n",
            "Collecting pandas<2.0,>=1.0.0\n",
            "  Downloading pandas-1.3.5-cp37-cp37m-manylinux_2_17_x86_64.manylinux2014_x86_64.whl (11.3 MB)\n",
            "     |████████████████████████████████| 11.3 MB 72.4 MB/s            \n",
            "\u001b[?25hCollecting kaggle\n",
            "  Downloading kaggle-1.5.12.tar.gz (58 kB)\n",
            "     |████████████████████████████████| 58 kB 57.2 MB/s            \n",
            "\u001b[?25h  Preparing metadata (setup.py) ... \u001b[?25ldone\n",
            "\u001b[?25hCollecting xxhash\n",
            "  Downloading xxhash-2.0.2-cp37-cp37m-manylinux2010_x86_64.whl (243 kB)\n",
            "     |████████████████████████████████| 243 kB 84.3 MB/s            \n",
            "\u001b[?25hRequirement already satisfied: fsspec>=0.6.0 in /opt/conda/lib/python3.7/site-packages (from dask>=2.6.0->autogluon.core==0.3.1->autogluon) (2021.11.1)\n",
            "Requirement already satisfied: packaging>=20.0 in /opt/conda/lib/python3.7/site-packages (from dask>=2.6.0->autogluon.core==0.3.1->autogluon) (20.1)\n",
            "Requirement already satisfied: pyyaml in /opt/conda/lib/python3.7/site-packages (from dask>=2.6.0->autogluon.core==0.3.1->autogluon) (6.0)\n",
            "Requirement already satisfied: toolz>=0.8.2 in /opt/conda/lib/python3.7/site-packages (from dask>=2.6.0->autogluon.core==0.3.1->autogluon) (0.10.0)\n",
            "Requirement already satisfied: partd>=0.3.10 in /opt/conda/lib/python3.7/site-packages (from dask>=2.6.0->autogluon.core==0.3.1->autogluon) (1.1.0)\n",
            "Requirement already satisfied: cloudpickle>=1.1.1 in /opt/conda/lib/python3.7/site-packages (from dask>=2.6.0->autogluon.core==0.3.1->autogluon) (2.0.0)\n",
            "Requirement already satisfied: zict>=0.1.3 in /opt/conda/lib/python3.7/site-packages (from distributed>=2.6.0->autogluon.core==0.3.1->autogluon) (1.0.0)\n",
            "Requirement already satisfied: setuptools in /opt/conda/lib/python3.7/site-packages (from distributed>=2.6.0->autogluon.core==0.3.1->autogluon) (60.5.0)\n",
            "Requirement already satisfied: jinja2 in /opt/conda/lib/python3.7/site-packages (from distributed>=2.6.0->autogluon.core==0.3.1->autogluon) (3.0.3)\n",
            "Requirement already satisfied: tblib>=1.6.0 in /opt/conda/lib/python3.7/site-packages (from distributed>=2.6.0->autogluon.core==0.3.1->autogluon) (1.6.0)\n",
            "Requirement already satisfied: sortedcontainers!=2.0.0,!=2.0.1 in /opt/conda/lib/python3.7/site-packages (from distributed>=2.6.0->autogluon.core==0.3.1->autogluon) (2.1.0)\n",
            "Requirement already satisfied: msgpack>=0.6.0 in /opt/conda/lib/python3.7/site-packages (from distributed>=2.6.0->autogluon.core==0.3.1->autogluon) (0.6.1)\n",
            "Requirement already satisfied: click>=6.6 in /opt/conda/lib/python3.7/site-packages (from distributed>=2.6.0->autogluon.core==0.3.1->autogluon) (7.0)\n",
            "Requirement already satisfied: pip in /opt/conda/lib/python3.7/site-packages (from fastai<3.0,>=2.3.1->autogluon.tabular[all]==0.3.1->autogluon) (21.3.1)\n",
            "Collecting torchvision>=0.8.2\n",
            "  Downloading torchvision-0.11.2-cp37-cp37m-manylinux1_x86_64.whl (23.3 MB)\n",
            "     |████████████████████████████████| 23.3 MB 36.6 MB/s            \n",
            "\u001b[?25hCollecting fastdownload<2,>=0.0.5\n",
            "  Downloading fastdownload-0.0.5-py3-none-any.whl (13 kB)\n",
            "Collecting spacy<4\n",
            "  Downloading spacy-3.2.1-cp37-cp37m-manylinux_2_17_x86_64.manylinux2014_x86_64.whl (6.0 MB)\n",
            "     |████████████████████████████████| 6.0 MB 45.7 MB/s            \n",
            "\u001b[?25hCollecting fastprogress>=0.2.4\n",
            "  Downloading fastprogress-1.0.0-py3-none-any.whl (12 kB)\n",
            "Collecting fastcore<1.4,>=1.3.22\n",
            "  Downloading fastcore-1.3.27-py3-none-any.whl (56 kB)\n",
            "     |████████████████████████████████| 56 kB 48.7 MB/s            \n",
            "\u001b[?25hCollecting portalocker\n",
            "  Downloading portalocker-2.3.2-py2.py3-none-any.whl (15 kB)\n",
            "Collecting autocfg\n",
            "  Downloading autocfg-0.0.8-py3-none-any.whl (13 kB)\n",
            "Collecting opencv-python\n",
            "  Downloading opencv_python-4.5.5.62-cp36-abi3-manylinux_2_17_x86_64.manylinux2014_x86_64.whl (60.4 MB)\n",
            "     |████████████████████████████████| 60.4 MB 59.2 MB/s            \n",
            "\u001b[?25hRequirement already satisfied: wheel in /opt/conda/lib/python3.7/site-packages (from lightgbm<4.0,>=3.0->autogluon.tabular[all]==0.3.1->autogluon) (0.37.1)\n",
            "Requirement already satisfied: decorator>=4.3.0 in /opt/conda/lib/python3.7/site-packages (from networkx<3.0,>=2.3->autogluon.tabular[all]==0.3.1->autogluon) (4.4.1)\n",
            "Requirement already satisfied: pytz>=2017.3 in /opt/conda/lib/python3.7/site-packages (from pandas<2.0,>=1.0.0->autogluon.core==0.3.1->autogluon) (2019.3)\n",
            "Requirement already satisfied: python-dateutil>=2.7.3 in /opt/conda/lib/python3.7/site-packages (from pandas<2.0,>=1.0.0->autogluon.core==0.3.1->autogluon) (2.8.1)\n",
            "Collecting bcrypt>=3.1.3\n",
            "  Downloading bcrypt-3.2.0-cp36-abi3-manylinux_2_17_x86_64.manylinux2014_x86_64.manylinux_2_24_x86_64.whl (61 kB)\n",
            "     |████████████████████████████████| 61 kB 17.0 MB/s            \n",
            "\u001b[?25hRequirement already satisfied: cryptography>=2.5 in /opt/conda/lib/python3.7/site-packages (from paramiko>=2.4->autogluon.core==0.3.1->autogluon) (36.0.0)\n",
            "Collecting pynacl>=1.0.1\n",
            "  Downloading PyNaCl-1.5.0-cp36-abi3-manylinux_2_17_x86_64.manylinux2014_x86_64.manylinux_2_24_x86_64.whl (856 kB)\n",
            "     |████████████████████████████████| 856 kB 40.2 MB/s            \n",
            "\u001b[?25hRequirement already satisfied: joblib>=0.11 in /opt/conda/lib/python3.7/site-packages (from scikit-learn<0.25,>=0.23.2->autogluon.core==0.3.1->autogluon) (0.14.1)\n",
            "Collecting threadpoolctl>=2.0.0\n",
            "  Downloading threadpoolctl-3.0.0-py3-none-any.whl (14 kB)\n",
            "Requirement already satisfied: typing-extensions in /opt/conda/lib/python3.7/site-packages (from torch<2.0,>=1.0->autogluon.tabular[all]==0.3.1->autogluon) (4.0.1)\n",
            "Requirement already satisfied: botocore<1.24.0,>=1.23.23 in /opt/conda/lib/python3.7/site-packages (from boto3->autogluon.core==0.3.1->autogluon) (1.23.23)\n",
            "Requirement already satisfied: jmespath<1.0.0,>=0.7.1 in /opt/conda/lib/python3.7/site-packages (from boto3->autogluon.core==0.3.1->autogluon) (0.10.0)\n",
            "Requirement already satisfied: s3transfer<0.6.0,>=0.5.0 in /opt/conda/lib/python3.7/site-packages (from boto3->autogluon.core==0.3.1->autogluon) (0.5.0)\n",
            "Requirement already satisfied: kiwisolver>=1.0.1 in /opt/conda/lib/python3.7/site-packages (from matplotlib->autogluon.core==0.3.1->autogluon) (1.1.0)\n",
            "Requirement already satisfied: cycler>=0.10 in /opt/conda/lib/python3.7/site-packages (from matplotlib->autogluon.core==0.3.1->autogluon) (0.10.0)\n",
            "Collecting liac-arff>=2.4.0\n",
            "  Downloading liac-arff-2.5.0.tar.gz (13 kB)\n",
            "  Preparing metadata (setup.py) ... \u001b[?25ldone\n",
            "\u001b[?25hCollecting xmltodict\n",
            "  Downloading xmltodict-0.12.0-py2.py3-none-any.whl (9.2 kB)\n",
            "Collecting minio\n",
            "  Downloading minio-7.1.2-py3-none-any.whl (75 kB)\n",
            "     |████████████████████████████████| 75 kB 48.4 MB/s            \n",
            "\u001b[?25hRequirement already satisfied: py>=1.5.0 in /opt/conda/lib/python3.7/site-packages (from pytest->autogluon.extra==0.3.1->autogluon) (1.11.0)\n",
            "Requirement already satisfied: attrs>=17.4.0 in /opt/conda/lib/python3.7/site-packages (from pytest->autogluon.extra==0.3.1->autogluon) (19.3.0)\n",
            "Requirement already satisfied: more-itertools>=4.0.0 in /opt/conda/lib/python3.7/site-packages (from pytest->autogluon.extra==0.3.1->autogluon) (8.2.0)\n",
            "Requirement already satisfied: pluggy<1.0,>=0.12 in /opt/conda/lib/python3.7/site-packages (from pytest->autogluon.extra==0.3.1->autogluon) (0.13.1)\n",
            "Requirement already satisfied: wcwidth in /opt/conda/lib/python3.7/site-packages (from pytest->autogluon.extra==0.3.1->autogluon) (0.1.8)\n",
            "Requirement already satisfied: importlib-metadata>=0.12 in /opt/conda/lib/python3.7/site-packages (from pytest->autogluon.extra==0.3.1->autogluon) (1.5.0)\n",
            "Requirement already satisfied: charset-normalizer~=2.0.0 in /opt/conda/lib/python3.7/site-packages (from requests->autogluon.core==0.3.1->autogluon) (2.0.4)\n",
            "Requirement already satisfied: certifi>=2017.4.17 in /opt/conda/lib/python3.7/site-packages (from requests->autogluon.core==0.3.1->autogluon) (2021.10.8)\n",
            "Requirement already satisfied: idna<4,>=2.5 in /opt/conda/lib/python3.7/site-packages (from requests->autogluon.core==0.3.1->autogluon) (2.8)\n",
            "Requirement already satisfied: urllib3<1.27,>=1.21.1 in /opt/conda/lib/python3.7/site-packages (from requests->autogluon.core==0.3.1->autogluon) (1.26.7)\n",
            "Requirement already satisfied: cffi>=1.1 in /opt/conda/lib/python3.7/site-packages (from bcrypt>=3.1.3->paramiko>=2.4->autogluon.core==0.3.1->autogluon) (1.14.6)\n",
            "Requirement already satisfied: zipp>=0.5 in /opt/conda/lib/python3.7/site-packages (from importlib-metadata>=0.12->pytest->autogluon.extra==0.3.1->autogluon) (2.2.0)\n",
            "Requirement already satisfied: locket in /opt/conda/lib/python3.7/site-packages (from partd>=0.3.10->dask>=2.6.0->autogluon.core==0.3.1->autogluon) (0.2.0)\n",
            "Collecting spacy-legacy<3.1.0,>=3.0.8\n",
            "  Downloading spacy_legacy-3.0.8-py2.py3-none-any.whl (14 kB)\n",
            "Collecting spacy-loggers<2.0.0,>=1.0.0\n",
            "  Downloading spacy_loggers-1.0.1-py3-none-any.whl (7.0 kB)\n",
            "Collecting srsly<3.0.0,>=2.4.1\n",
            "  Downloading srsly-2.4.2-cp37-cp37m-manylinux_2_17_x86_64.manylinux2014_x86_64.whl (451 kB)\n",
            "     |████████████████████████████████| 451 kB 59.5 MB/s            \n",
            "\u001b[?25hCollecting wasabi<1.1.0,>=0.8.1\n",
            "  Downloading wasabi-0.9.0-py3-none-any.whl (25 kB)\n",
            "Collecting thinc<8.1.0,>=8.0.12\n",
            "  Downloading thinc-8.0.13-cp37-cp37m-manylinux_2_17_x86_64.manylinux2014_x86_64.whl (628 kB)\n",
            "     |████████████████████████████████| 628 kB 54.5 MB/s            \n",
            "\u001b[?25hCollecting preshed<3.1.0,>=3.0.2\n",
            "  Downloading preshed-3.0.6-cp37-cp37m-manylinux_2_5_x86_64.manylinux1_x86_64.manylinux_2_17_x86_64.manylinux2014_x86_64.whl (125 kB)\n",
            "     |████████████████████████████████| 125 kB 82.8 MB/s            \n",
            "\u001b[?25hCollecting pathy>=0.3.5\n",
            "  Downloading pathy-0.6.1-py3-none-any.whl (42 kB)\n",
            "     |████████████████████████████████| 42 kB 39.8 MB/s            \n",
            "\u001b[?25hCollecting typer<0.5.0,>=0.3.0\n",
            "  Downloading typer-0.4.0-py3-none-any.whl (27 kB)\n",
            "Collecting blis<0.8.0,>=0.4.0\n",
            "  Downloading blis-0.7.5-cp37-cp37m-manylinux_2_17_x86_64.manylinux2014_x86_64.whl (9.9 MB)\n",
            "     |████████████████████████████████| 9.9 MB 24.1 MB/s            \n",
            "\u001b[?25hCollecting catalogue<2.1.0,>=2.0.6\n",
            "  Downloading catalogue-2.0.6-py3-none-any.whl (17 kB)\n",
            "Collecting langcodes<4.0.0,>=3.2.0\n",
            "  Downloading langcodes-3.3.0-py3-none-any.whl (181 kB)\n",
            "     |████████████████████████████████| 181 kB 66.0 MB/s            \n",
            "\u001b[?25hCollecting pydantic!=1.8,!=1.8.1,<1.9.0,>=1.7.4\n",
            "  Downloading pydantic-1.8.2-cp37-cp37m-manylinux2014_x86_64.whl (10.1 MB)\n",
            "     |████████████████████████████████| 10.1 MB 37.2 MB/s            \n",
            "\u001b[?25hCollecting murmurhash<1.1.0,>=0.28.0\n",
            "  Downloading murmurhash-1.0.6-cp37-cp37m-manylinux_2_5_x86_64.manylinux1_x86_64.manylinux_2_17_x86_64.manylinux2014_x86_64.whl (21 kB)\n",
            "Collecting typing-extensions\n",
            "  Downloading typing_extensions-3.10.0.2-py3-none-any.whl (26 kB)\n",
            "Collecting cymem<2.1.0,>=2.0.2\n",
            "  Downloading cymem-2.0.6-cp37-cp37m-manylinux_2_17_x86_64.manylinux2014_x86_64.whl (35 kB)\n",
            "Requirement already satisfied: heapdict in /opt/conda/lib/python3.7/site-packages (from zict>=0.1.3->distributed>=2.6.0->autogluon.core==0.3.1->autogluon) (1.0.1)\n",
            "Collecting immutables>=0.9\n",
            "  Downloading immutables-0.16-cp37-cp37m-manylinux_2_5_x86_64.manylinux1_x86_64.whl (104 kB)\n",
            "     |████████████████████████████████| 104 kB 68.4 MB/s            \n",
            "\u001b[?25hRequirement already satisfied: mccabe<0.7.0,>=0.6.0 in /opt/conda/lib/python3.7/site-packages (from flake8->autogluon-contrib-nlp==0.0.1b20210201->autogluon.text==0.3.1->autogluon) (0.6.1)\n",
            "Requirement already satisfied: pyflakes<2.2.0,>=2.1.0 in /opt/conda/lib/python3.7/site-packages (from flake8->autogluon-contrib-nlp==0.0.1b20210201->autogluon.text==0.3.1->autogluon) (2.1.1)\n",
            "Requirement already satisfied: entrypoints<0.4.0,>=0.3.0 in /opt/conda/lib/python3.7/site-packages (from flake8->autogluon-contrib-nlp==0.0.1b20210201->autogluon.text==0.3.1->autogluon) (0.3)\n",
            "Requirement already satisfied: pycodestyle<2.6.0,>=2.5.0 in /opt/conda/lib/python3.7/site-packages (from flake8->autogluon-contrib-nlp==0.0.1b20210201->autogluon.text==0.3.1->autogluon) (2.5.0)\n",
            "Requirement already satisfied: MarkupSafe>=2.0 in /opt/conda/lib/python3.7/site-packages (from jinja2->distributed>=2.6.0->autogluon.core==0.3.1->autogluon) (2.0.1)\n",
            "Collecting python-slugify\n",
            "  Downloading python_slugify-5.0.2-py2.py3-none-any.whl (6.7 kB)\n",
            "Requirement already satisfied: tenacity>=6.2.0 in /opt/conda/lib/python3.7/site-packages (from plotly->catboost<0.26,>=0.24.0->autogluon.tabular[all]==0.3.1->autogluon) (8.0.1)\n",
            "Requirement already satisfied: tabulate>=0.8.9 in /opt/conda/lib/python3.7/site-packages (from sacrebleu->autogluon-contrib-nlp==0.0.1b20210201->autogluon.text==0.3.1->autogluon) (0.8.9)\n",
            "Requirement already satisfied: colorama in /opt/conda/lib/python3.7/site-packages (from sacrebleu->autogluon-contrib-nlp==0.0.1b20210201->autogluon.text==0.3.1->autogluon) (0.4.3)\n",
            "Requirement already satisfied: pycparser in /opt/conda/lib/python3.7/site-packages (from cffi>=1.1->bcrypt>=3.1.3->paramiko>=2.4->autogluon.core==0.3.1->autogluon) (2.19)\n",
            "Collecting smart-open<6.0.0,>=5.0.0\n",
            "  Downloading smart_open-5.2.1-py3-none-any.whl (58 kB)\n",
            "     |████████████████████████████████| 58 kB 51.9 MB/s            \n",
            "\u001b[?25hCollecting click>=6.6\n",
            "  Downloading click-8.0.3-py3-none-any.whl (97 kB)\n",
            "     |████████████████████████████████| 97 kB 76.1 MB/s            \n",
            "\u001b[?25hCollecting text-unidecode>=1.3\n",
            "  Downloading text_unidecode-1.3-py2.py3-none-any.whl (78 kB)\n",
            "     |████████████████████████████████| 78 kB 73.8 MB/s            \n",
            "\u001b[?25hBuilding wheels for collected packages: autograd, openml, liac-arff, contextvars, kaggle\n",
            "  Building wheel for autograd (setup.py) ... \u001b[?25ldone\n",
            "\u001b[?25h  Created wheel for autograd: filename=autograd-1.3-py3-none-any.whl size=47988 sha256=d3aead1e5c8e5c7ed07115936b77cf1020a86d3a750de12ba0d646203a4618f5\n",
            "  Stored in directory: /tmp/pip-ephem-wheel-cache-ulzp57et/wheels/ef/32/31/0e87227cd0ca1d99ad51fbe4b54c6fa02afccf7e483d045e04\n",
            "  Building wheel for openml (setup.py) ... \u001b[?25ldone\n",
            "\u001b[?25h  Created wheel for openml: filename=openml-0.12.2-py3-none-any.whl size=137326 sha256=ab61dcf9baac9464bcbef206605695522c9f4d79fcb75445436dfca096bc778f\n",
            "  Stored in directory: /tmp/pip-ephem-wheel-cache-ulzp57et/wheels/6a/20/88/cf4ac86aa18e2cd647ed16ebe274a5dacee9d0075fa02af250\n",
            "  Building wheel for liac-arff (setup.py) ... \u001b[?25ldone\n",
            "\u001b[?25h  Created wheel for liac-arff: filename=liac_arff-2.5.0-py3-none-any.whl size=11732 sha256=0450fa00f1398996f59697790c0c83bbb4a4ba5a1c87765069a2155c26db313a\n",
            "  Stored in directory: /tmp/pip-ephem-wheel-cache-ulzp57et/wheels/1f/0f/15/332ca86cbebf25ddf98518caaf887945fbe1712b97a0f2493b\n",
            "  Building wheel for contextvars (setup.py) ... \u001b[?25ldone\n",
            "\u001b[?25h  Created wheel for contextvars: filename=contextvars-2.4-py3-none-any.whl size=7681 sha256=ae19e720db47c1891a1fbeeaaa62d7c0f72ef2a25b9072337e31c6abcd331c54\n",
            "  Stored in directory: /tmp/pip-ephem-wheel-cache-ulzp57et/wheels/0a/11/79/e70e668095c0bb1f94718af672ef2d35ee7a023fee56ef54d9\n",
            "  Building wheel for kaggle (setup.py) ... \u001b[?25ldone\n",
            "\u001b[?25h  Created wheel for kaggle: filename=kaggle-1.5.12-py3-none-any.whl size=73051 sha256=d00ac0b3ea6703e1881d993d34978d5de114716ffcd9b040a1a610bc7443edef\n",
            "  Stored in directory: /tmp/pip-ephem-wheel-cache-ulzp57et/wheels/62/d6/58/5853130f941e75b2177d281eb7e44b4a98ed46dd155f556dc5\n",
            "Successfully built autograd openml liac-arff contextvars kaggle\n",
            "Installing collected packages: typing-extensions, threadpoolctl, scipy, pynacl, psutil, murmurhash, cymem, click, catalogue, bcrypt, wasabi, typer, text-unidecode, srsly, smart-open, scikit-learn, pydantic, preshed, paramiko, pandas, ConfigSpace, blis, autograd, xmltodict, torch, thinc, spacy-loggers, spacy-legacy, regex, python-slugify, portalocker, Pillow, pathy, minio, liac-arff, langcodes, immutables, fastprogress, fastcore, autogluon.core, yacs, xxhash, torchvision, tokenizers, spacy, sentencepiece, sacremoses, sacrebleu, openml, opencv-python, kaggle, fastdownload, contextvars, autogluon.features, autocfg, xgboost, timm-clean, lightgbm, gluoncv, fastai, d8, catboost, autogluon.tabular, autogluon.mxnet, autogluon-contrib-nlp, autogluon.vision, autogluon.text, autogluon.extra, autogluon\n",
            "  Attempting uninstall: typing-extensions\n",
            "    Found existing installation: typing-extensions 4.0.1\n",
            "    Uninstalling typing-extensions-4.0.1:\n",
            "      Successfully uninstalled typing-extensions-4.0.1\n",
            "  Attempting uninstall: scipy\n",
            "    Found existing installation: scipy 1.4.1\n",
            "    Uninstalling scipy-1.4.1:\n",
            "      Successfully uninstalled scipy-1.4.1\n",
            "  Attempting uninstall: psutil\n",
            "    Found existing installation: psutil 5.6.7\n",
            "    Uninstalling psutil-5.6.7:\n",
            "      Successfully uninstalled psutil-5.6.7\n",
            "  Attempting uninstall: click\n",
            "    Found existing installation: Click 7.0\n",
            "    Uninstalling Click-7.0:\n",
            "      Successfully uninstalled Click-7.0\n",
            "  Attempting uninstall: scikit-learn\n",
            "    Found existing installation: scikit-learn 0.22.1\n",
            "    Uninstalling scikit-learn-0.22.1:\n",
            "      Successfully uninstalled scikit-learn-0.22.1\n",
            "  Attempting uninstall: pandas\n",
            "    Found existing installation: pandas 1.0.1\n",
            "    Uninstalling pandas-1.0.1:\n",
            "      Successfully uninstalled pandas-1.0.1\n",
            "  Attempting uninstall: Pillow\n",
            "    Found existing installation: Pillow 8.4.0\n",
            "    Uninstalling Pillow-8.4.0:\n",
            "      Successfully uninstalled Pillow-8.4.0\n",
            "\u001b[31mERROR: pip's dependency resolver does not currently take into account all the packages that are installed. This behaviour is the source of the following dependency conflicts.\n",
            "spyder 4.0.1 requires pyqt5<5.13; python_version >= \"3\", which is not installed.\n",
            "spyder 4.0.1 requires pyqtwebengine<5.13; python_version >= \"3\", which is not installed.\n",
            "pytest-astropy 0.8.0 requires pytest-cov>=2.0, which is not installed.\n",
            "pytest-astropy 0.8.0 requires pytest-filter-subpackage>=0.1, which is not installed.\n",
            "aiobotocore 2.0.1 requires botocore<1.22.9,>=1.22.8, but you have botocore 1.23.23 which is incompatible.\u001b[0m\n",
            "Successfully installed ConfigSpace-0.4.19 Pillow-8.3.2 autocfg-0.0.8 autogluon-0.3.1 autogluon-contrib-nlp-0.0.1b20210201 autogluon.core-0.3.1 autogluon.extra-0.3.1 autogluon.features-0.3.1 autogluon.mxnet-0.3.1 autogluon.tabular-0.3.1 autogluon.text-0.3.1 autogluon.vision-0.3.1 autograd-1.3 bcrypt-3.2.0 blis-0.7.5 catalogue-2.0.6 catboost-0.25.1 click-8.0.3 contextvars-2.4 cymem-2.0.6 d8-0.0.2.post0 fastai-2.5.3 fastcore-1.3.27 fastdownload-0.0.5 fastprogress-1.0.0 gluoncv-0.10.4.post4 immutables-0.16 kaggle-1.5.12 langcodes-3.3.0 liac-arff-2.5.0 lightgbm-3.3.2 minio-7.1.2 murmurhash-1.0.6 opencv-python-4.5.5.62 openml-0.12.2 pandas-1.3.5 paramiko-2.9.2 pathy-0.6.1 portalocker-2.3.2 preshed-3.0.6 psutil-5.8.0 pydantic-1.8.2 pynacl-1.5.0 python-slugify-5.0.2 regex-2022.1.18 sacrebleu-2.0.0 sacremoses-0.0.47 scikit-learn-0.24.2 scipy-1.6.3 sentencepiece-0.1.95 smart-open-5.2.1 spacy-3.2.1 spacy-legacy-3.0.8 spacy-loggers-1.0.1 srsly-2.4.2 text-unidecode-1.3 thinc-8.0.13 threadpoolctl-3.0.0 timm-clean-0.4.12 tokenizers-0.9.4 torch-1.10.1 torchvision-0.11.2 typer-0.4.0 typing-extensions-3.10.0.2 wasabi-0.9.0 xgboost-1.4.2 xmltodict-0.12.0 xxhash-2.0.2 yacs-0.1.8\n",
            "\u001b[33mWARNING: Running pip as the 'root' user can result in broken permissions and conflicting behaviour with the system package manager. It is recommended to use a virtual environment instead: https://pip.pypa.io/warnings/venv\u001b[0m\n"
          ]
        }
      ],
      "source": [
        "!pip install -U pip\n",
        "!pip install -U setuptools wheel\n",
        "!pip install -U \"mxnet<2.0.0\" bokeh==2.0.1\n",
        "!pip install autogluon --no-cache-dir\n",
        "# Without --no-cache-dir, smaller aws instances may have trouble installing"
      ]
    },
    {
      "cell_type": "markdown",
      "metadata": {
        "id": "g1B1jvbN9BlE"
      },
      "source": [
        "### Setup Kaggle API Key"
      ]
    },
    {
      "cell_type": "code",
      "execution_count": null,
      "metadata": {
        "id": "BCJX2RpW9BlE"
      },
      "outputs": [],
      "source": [
        "# create the .kaggle directory and an empty kaggle.json file\n",
        "!mkdir -p /root/.kaggle\n",
        "!touch /root/.kaggle/kaggle.json\n",
        "!chmod 600 /root/.kaggle/kaggle.json"
      ]
    },
    {
      "cell_type": "code",
      "execution_count": null,
      "metadata": {
        "id": "iQLX9RCY9BlE"
      },
      "outputs": [],
      "source": [
        "# Fill in your user name and key from creating the kaggle account and API token file\n",
        "import json\n",
        "kaggle_username = \"asamiyuu\"\n",
        "kaggle_key = \"76374006b2b499f499899d9dae40d605\"\n",
        "\n",
        "# Save API token the kaggle.json file\n",
        "with open(\"/root/.kaggle/kaggle.json\", \"w\") as f:\n",
        "    f.write(json.dumps({\"username\": kaggle_username, \"key\": kaggle_key}))"
      ]
    },
    {
      "cell_type": "markdown",
      "metadata": {
        "id": "e-n17qrE9BlF"
      },
      "source": [
        "### Download and explore dataset"
      ]
    },
    {
      "cell_type": "markdown",
      "metadata": {
        "id": "zPPDd47E9BlF"
      },
      "source": [
        "### Go to the bike sharing demand competition and agree to the terms\n",
        "![kaggle6.png](attachment:kaggle6.png)"
      ]
    },
    {
      "cell_type": "code",
      "execution_count": null,
      "metadata": {
        "id": "9DAl5xYJ9BlF",
        "outputId": "f8510e7a-4e08-41cb-cdfc-172b3b9fb53e"
      },
      "outputs": [
        {
          "name": "stdout",
          "output_type": "stream",
          "text": [
            "Downloading bike-sharing-demand.zip to /root/nd009t-c1-intro-to-ml-project-starter\n",
            "  0%|                                                | 0.00/189k [00:00<?, ?B/s]\n",
            "100%|████████████████████████████████████████| 189k/189k [00:00<00:00, 4.22MB/s]\n",
            "Archive:  bike-sharing-demand.zip\n",
            "  inflating: sampleSubmission.csv    \n",
            "  inflating: test.csv                \n",
            "  inflating: train.csv               \n"
          ]
        }
      ],
      "source": [
        "# Download the dataset, it will be in a .zip file so you'll need to unzip it as well.\n",
        "!kaggle competitions download -c bike-sharing-demand\n",
        "# If you already downloaded it you can use the -o command to overwrite the file\n",
        "!unzip -o bike-sharing-demand.zip"
      ]
    },
    {
      "cell_type": "code",
      "execution_count": null,
      "metadata": {
        "id": "H9o4JphV9BlG"
      },
      "outputs": [],
      "source": [
        "import pandas as pd\n",
        "from autogluon.tabular import TabularPredictor"
      ]
    },
    {
      "cell_type": "code",
      "execution_count": null,
      "metadata": {
        "id": "A02_8HuK9BlG",
        "outputId": "471d73a3-46eb-4506-d376-c3f509aab363"
      },
      "outputs": [
        {
          "data": {
            "text/html": [
              "<div>\n",
              "<style scoped>\n",
              "    .dataframe tbody tr th:only-of-type {\n",
              "        vertical-align: middle;\n",
              "    }\n",
              "\n",
              "    .dataframe tbody tr th {\n",
              "        vertical-align: top;\n",
              "    }\n",
              "\n",
              "    .dataframe thead th {\n",
              "        text-align: right;\n",
              "    }\n",
              "</style>\n",
              "<table border=\"1\" class=\"dataframe\">\n",
              "  <thead>\n",
              "    <tr style=\"text-align: right;\">\n",
              "      <th></th>\n",
              "      <th>datetime</th>\n",
              "      <th>season</th>\n",
              "      <th>holiday</th>\n",
              "      <th>workingday</th>\n",
              "      <th>weather</th>\n",
              "      <th>temp</th>\n",
              "      <th>atemp</th>\n",
              "      <th>humidity</th>\n",
              "      <th>windspeed</th>\n",
              "      <th>casual</th>\n",
              "      <th>registered</th>\n",
              "      <th>count</th>\n",
              "    </tr>\n",
              "  </thead>\n",
              "  <tbody>\n",
              "    <tr>\n",
              "      <th>0</th>\n",
              "      <td>2011-01-01 00:00:00</td>\n",
              "      <td>1</td>\n",
              "      <td>0</td>\n",
              "      <td>0</td>\n",
              "      <td>1</td>\n",
              "      <td>9.84</td>\n",
              "      <td>14.395</td>\n",
              "      <td>81</td>\n",
              "      <td>0.0</td>\n",
              "      <td>3</td>\n",
              "      <td>13</td>\n",
              "      <td>16</td>\n",
              "    </tr>\n",
              "    <tr>\n",
              "      <th>1</th>\n",
              "      <td>2011-01-01 01:00:00</td>\n",
              "      <td>1</td>\n",
              "      <td>0</td>\n",
              "      <td>0</td>\n",
              "      <td>1</td>\n",
              "      <td>9.02</td>\n",
              "      <td>13.635</td>\n",
              "      <td>80</td>\n",
              "      <td>0.0</td>\n",
              "      <td>8</td>\n",
              "      <td>32</td>\n",
              "      <td>40</td>\n",
              "    </tr>\n",
              "    <tr>\n",
              "      <th>2</th>\n",
              "      <td>2011-01-01 02:00:00</td>\n",
              "      <td>1</td>\n",
              "      <td>0</td>\n",
              "      <td>0</td>\n",
              "      <td>1</td>\n",
              "      <td>9.02</td>\n",
              "      <td>13.635</td>\n",
              "      <td>80</td>\n",
              "      <td>0.0</td>\n",
              "      <td>5</td>\n",
              "      <td>27</td>\n",
              "      <td>32</td>\n",
              "    </tr>\n",
              "    <tr>\n",
              "      <th>3</th>\n",
              "      <td>2011-01-01 03:00:00</td>\n",
              "      <td>1</td>\n",
              "      <td>0</td>\n",
              "      <td>0</td>\n",
              "      <td>1</td>\n",
              "      <td>9.84</td>\n",
              "      <td>14.395</td>\n",
              "      <td>75</td>\n",
              "      <td>0.0</td>\n",
              "      <td>3</td>\n",
              "      <td>10</td>\n",
              "      <td>13</td>\n",
              "    </tr>\n",
              "    <tr>\n",
              "      <th>4</th>\n",
              "      <td>2011-01-01 04:00:00</td>\n",
              "      <td>1</td>\n",
              "      <td>0</td>\n",
              "      <td>0</td>\n",
              "      <td>1</td>\n",
              "      <td>9.84</td>\n",
              "      <td>14.395</td>\n",
              "      <td>75</td>\n",
              "      <td>0.0</td>\n",
              "      <td>0</td>\n",
              "      <td>1</td>\n",
              "      <td>1</td>\n",
              "    </tr>\n",
              "  </tbody>\n",
              "</table>\n",
              "</div>"
            ],
            "text/plain": [
              "             datetime  season  holiday  workingday  weather  temp   atemp  \\\n",
              "0 2011-01-01 00:00:00       1        0           0        1  9.84  14.395   \n",
              "1 2011-01-01 01:00:00       1        0           0        1  9.02  13.635   \n",
              "2 2011-01-01 02:00:00       1        0           0        1  9.02  13.635   \n",
              "3 2011-01-01 03:00:00       1        0           0        1  9.84  14.395   \n",
              "4 2011-01-01 04:00:00       1        0           0        1  9.84  14.395   \n",
              "\n",
              "   humidity  windspeed  casual  registered  count  \n",
              "0        81        0.0       3          13     16  \n",
              "1        80        0.0       8          32     40  \n",
              "2        80        0.0       5          27     32  \n",
              "3        75        0.0       3          10     13  \n",
              "4        75        0.0       0           1      1  "
            ]
          },
          "execution_count": 7,
          "metadata": {},
          "output_type": "execute_result"
        }
      ],
      "source": [
        "# Create the train dataset in pandas by reading the csv\n",
        "# Set the parsing of the datetime column so you can use some of the `dt` features in pandas later\n",
        "train = pd.read_csv(\"train.csv\", parse_dates = [\"datetime\"])\n",
        "train.head()"
      ]
    },
    {
      "cell_type": "code",
      "execution_count": null,
      "metadata": {
        "id": "6mwslu0T9BlG",
        "outputId": "f30d9515-e70e-4bd4-8f2d-9dabef3d939a"
      },
      "outputs": [
        {
          "data": {
            "text/plain": [
              "<bound method NDFrame.describe of                  datetime  season  holiday  workingday  weather   temp  \\\n",
              "0     2011-01-01 00:00:00       1        0           0        1   9.84   \n",
              "1     2011-01-01 01:00:00       1        0           0        1   9.02   \n",
              "2     2011-01-01 02:00:00       1        0           0        1   9.02   \n",
              "3     2011-01-01 03:00:00       1        0           0        1   9.84   \n",
              "4     2011-01-01 04:00:00       1        0           0        1   9.84   \n",
              "...                   ...     ...      ...         ...      ...    ...   \n",
              "10881 2012-12-19 19:00:00       4        0           1        1  15.58   \n",
              "10882 2012-12-19 20:00:00       4        0           1        1  14.76   \n",
              "10883 2012-12-19 21:00:00       4        0           1        1  13.94   \n",
              "10884 2012-12-19 22:00:00       4        0           1        1  13.94   \n",
              "10885 2012-12-19 23:00:00       4        0           1        1  13.12   \n",
              "\n",
              "        atemp  humidity  windspeed  casual  registered  count  \n",
              "0      14.395        81     0.0000       3          13     16  \n",
              "1      13.635        80     0.0000       8          32     40  \n",
              "2      13.635        80     0.0000       5          27     32  \n",
              "3      14.395        75     0.0000       3          10     13  \n",
              "4      14.395        75     0.0000       0           1      1  \n",
              "...       ...       ...        ...     ...         ...    ...  \n",
              "10881  19.695        50    26.0027       7         329    336  \n",
              "10882  17.425        57    15.0013      10         231    241  \n",
              "10883  15.910        61    15.0013       4         164    168  \n",
              "10884  17.425        61     6.0032      12         117    129  \n",
              "10885  16.665        66     8.9981       4          84     88  \n",
              "\n",
              "[10886 rows x 12 columns]>"
            ]
          },
          "execution_count": 8,
          "metadata": {},
          "output_type": "execute_result"
        }
      ],
      "source": [
        "# Simple output of the train dataset to view some of the min/max/varition of the dataset features.\n",
        "train.describe"
      ]
    },
    {
      "cell_type": "code",
      "execution_count": null,
      "metadata": {
        "id": "RePCvGmq9BlH",
        "outputId": "d38a7d66-338b-40b8-84c2-01aabfa62639"
      },
      "outputs": [
        {
          "data": {
            "text/html": [
              "<div>\n",
              "<style scoped>\n",
              "    .dataframe tbody tr th:only-of-type {\n",
              "        vertical-align: middle;\n",
              "    }\n",
              "\n",
              "    .dataframe tbody tr th {\n",
              "        vertical-align: top;\n",
              "    }\n",
              "\n",
              "    .dataframe thead th {\n",
              "        text-align: right;\n",
              "    }\n",
              "</style>\n",
              "<table border=\"1\" class=\"dataframe\">\n",
              "  <thead>\n",
              "    <tr style=\"text-align: right;\">\n",
              "      <th></th>\n",
              "      <th>datetime</th>\n",
              "      <th>season</th>\n",
              "      <th>holiday</th>\n",
              "      <th>workingday</th>\n",
              "      <th>weather</th>\n",
              "      <th>temp</th>\n",
              "      <th>atemp</th>\n",
              "      <th>humidity</th>\n",
              "      <th>windspeed</th>\n",
              "    </tr>\n",
              "  </thead>\n",
              "  <tbody>\n",
              "    <tr>\n",
              "      <th>0</th>\n",
              "      <td>2011-01-20 00:00:00</td>\n",
              "      <td>1</td>\n",
              "      <td>0</td>\n",
              "      <td>1</td>\n",
              "      <td>1</td>\n",
              "      <td>10.66</td>\n",
              "      <td>11.365</td>\n",
              "      <td>56</td>\n",
              "      <td>26.0027</td>\n",
              "    </tr>\n",
              "    <tr>\n",
              "      <th>1</th>\n",
              "      <td>2011-01-20 01:00:00</td>\n",
              "      <td>1</td>\n",
              "      <td>0</td>\n",
              "      <td>1</td>\n",
              "      <td>1</td>\n",
              "      <td>10.66</td>\n",
              "      <td>13.635</td>\n",
              "      <td>56</td>\n",
              "      <td>0.0000</td>\n",
              "    </tr>\n",
              "    <tr>\n",
              "      <th>2</th>\n",
              "      <td>2011-01-20 02:00:00</td>\n",
              "      <td>1</td>\n",
              "      <td>0</td>\n",
              "      <td>1</td>\n",
              "      <td>1</td>\n",
              "      <td>10.66</td>\n",
              "      <td>13.635</td>\n",
              "      <td>56</td>\n",
              "      <td>0.0000</td>\n",
              "    </tr>\n",
              "    <tr>\n",
              "      <th>3</th>\n",
              "      <td>2011-01-20 03:00:00</td>\n",
              "      <td>1</td>\n",
              "      <td>0</td>\n",
              "      <td>1</td>\n",
              "      <td>1</td>\n",
              "      <td>10.66</td>\n",
              "      <td>12.880</td>\n",
              "      <td>56</td>\n",
              "      <td>11.0014</td>\n",
              "    </tr>\n",
              "    <tr>\n",
              "      <th>4</th>\n",
              "      <td>2011-01-20 04:00:00</td>\n",
              "      <td>1</td>\n",
              "      <td>0</td>\n",
              "      <td>1</td>\n",
              "      <td>1</td>\n",
              "      <td>10.66</td>\n",
              "      <td>12.880</td>\n",
              "      <td>56</td>\n",
              "      <td>11.0014</td>\n",
              "    </tr>\n",
              "  </tbody>\n",
              "</table>\n",
              "</div>"
            ],
            "text/plain": [
              "             datetime  season  holiday  workingday  weather   temp   atemp  \\\n",
              "0 2011-01-20 00:00:00       1        0           1        1  10.66  11.365   \n",
              "1 2011-01-20 01:00:00       1        0           1        1  10.66  13.635   \n",
              "2 2011-01-20 02:00:00       1        0           1        1  10.66  13.635   \n",
              "3 2011-01-20 03:00:00       1        0           1        1  10.66  12.880   \n",
              "4 2011-01-20 04:00:00       1        0           1        1  10.66  12.880   \n",
              "\n",
              "   humidity  windspeed  \n",
              "0        56    26.0027  \n",
              "1        56     0.0000  \n",
              "2        56     0.0000  \n",
              "3        56    11.0014  \n",
              "4        56    11.0014  "
            ]
          },
          "execution_count": 9,
          "metadata": {},
          "output_type": "execute_result"
        }
      ],
      "source": [
        "# Create the test pandas dataframe in pandas by reading the csv, remember to parse the datetime!\n",
        "test = pd.read_csv(\"test.csv\", parse_dates = [\"datetime\"])\n",
        "test.head()"
      ]
    },
    {
      "cell_type": "code",
      "execution_count": null,
      "metadata": {
        "id": "3HZGPNmH9BlH",
        "outputId": "397adedb-8579-422b-efdd-9de8630657a4"
      },
      "outputs": [
        {
          "data": {
            "text/html": [
              "<div>\n",
              "<style scoped>\n",
              "    .dataframe tbody tr th:only-of-type {\n",
              "        vertical-align: middle;\n",
              "    }\n",
              "\n",
              "    .dataframe tbody tr th {\n",
              "        vertical-align: top;\n",
              "    }\n",
              "\n",
              "    .dataframe thead th {\n",
              "        text-align: right;\n",
              "    }\n",
              "</style>\n",
              "<table border=\"1\" class=\"dataframe\">\n",
              "  <thead>\n",
              "    <tr style=\"text-align: right;\">\n",
              "      <th></th>\n",
              "      <th>datetime</th>\n",
              "      <th>count</th>\n",
              "    </tr>\n",
              "  </thead>\n",
              "  <tbody>\n",
              "    <tr>\n",
              "      <th>0</th>\n",
              "      <td>2011-01-20 00:00:00</td>\n",
              "      <td>0</td>\n",
              "    </tr>\n",
              "    <tr>\n",
              "      <th>1</th>\n",
              "      <td>2011-01-20 01:00:00</td>\n",
              "      <td>0</td>\n",
              "    </tr>\n",
              "    <tr>\n",
              "      <th>2</th>\n",
              "      <td>2011-01-20 02:00:00</td>\n",
              "      <td>0</td>\n",
              "    </tr>\n",
              "    <tr>\n",
              "      <th>3</th>\n",
              "      <td>2011-01-20 03:00:00</td>\n",
              "      <td>0</td>\n",
              "    </tr>\n",
              "    <tr>\n",
              "      <th>4</th>\n",
              "      <td>2011-01-20 04:00:00</td>\n",
              "      <td>0</td>\n",
              "    </tr>\n",
              "  </tbody>\n",
              "</table>\n",
              "</div>"
            ],
            "text/plain": [
              "             datetime  count\n",
              "0 2011-01-20 00:00:00      0\n",
              "1 2011-01-20 01:00:00      0\n",
              "2 2011-01-20 02:00:00      0\n",
              "3 2011-01-20 03:00:00      0\n",
              "4 2011-01-20 04:00:00      0"
            ]
          },
          "execution_count": 10,
          "metadata": {},
          "output_type": "execute_result"
        }
      ],
      "source": [
        "# Same thing as train and test dataset\n",
        "submission = pd.read_csv(\"sampleSubmission.csv\", parse_dates = [\"datetime\"])\n",
        "submission.head()"
      ]
    },
    {
      "cell_type": "markdown",
      "metadata": {
        "id": "lRUSNdXI9BlI"
      },
      "source": [
        "## Step 3: Train a model using AutoGluon’s Tabular Prediction"
      ]
    },
    {
      "cell_type": "markdown",
      "metadata": {
        "id": "Jqjf2l0F9BlP"
      },
      "source": [
        "Requirements:\n",
        "* We are prediting `count`, so it is the label we are setting.\n",
        "* Ignore `casual` and `registered` columns as they are also not present in the test dataset. \n",
        "* Use the `root_mean_squared_error` as the metric to use for evaluation.\n",
        "* Set a time limit of 10 minutes (600 seconds).\n",
        "* Use the preset `best_quality` to focus on creating the best model."
      ]
    },
    {
      "cell_type": "code",
      "execution_count": null,
      "metadata": {
        "id": "d2aeG3nI9BlP",
        "outputId": "94a84b10-abaa-4653-cf97-d04be8dc9ba0"
      },
      "outputs": [
        {
          "name": "stderr",
          "output_type": "stream",
          "text": [
            "No path specified. Models will be saved in: \"AutogluonModels/ag-20220122_212719/\"\n",
            "Presets specified: ['best_quality']\n",
            "Beginning AutoGluon training ... Time limit = 600s\n",
            "AutoGluon will save models to \"AutogluonModels/ag-20220122_212719/\"\n",
            "AutoGluon Version:  0.3.1\n",
            "Train Data Rows:    10886\n",
            "Train Data Columns: 11\n",
            "Preprocessing data ...\n",
            "AutoGluon infers your prediction problem is: 'regression' (because dtype of label-column == int and many unique label-values observed).\n",
            "\tLabel info (max, min, mean, stddev): (977, 1, 191.57413, 181.14445)\n",
            "\tIf 'regression' is not the correct problem_type, please manually specify the problem_type argument in fit() (You may specify problem_type as one of: ['binary', 'multiclass', 'regression'])\n",
            "Using Feature Generators to preprocess the data ...\n",
            "Dropping user-specified ignored columns: ['casual', 'registered']\n",
            "Fitting AutoMLPipelineFeatureGenerator...\n",
            "\tAvailable Memory:                    3070.03 MB\n",
            "\tTrain Data (Original)  Memory Usage: 0.78 MB (0.0% of available memory)\n",
            "\tInferring data type of each feature based on column values. Set feature_metadata_in to manually specify special dtypes of the features.\n",
            "\tStage 1 Generators:\n",
            "\t\tFitting AsTypeFeatureGenerator...\n",
            "\t\t\tNote: Converting 2 features to boolean dtype as they only contain 2 unique values.\n",
            "\tStage 2 Generators:\n",
            "\t\tFitting FillNaFeatureGenerator...\n",
            "\tStage 3 Generators:\n",
            "\t\tFitting IdentityFeatureGenerator...\n",
            "\t\tFitting DatetimeFeatureGenerator...\n",
            "\tStage 4 Generators:\n",
            "\t\tFitting DropUniqueFeatureGenerator...\n",
            "\tTypes of features in original data (raw dtype, special dtypes):\n",
            "\t\t('datetime', []) : 1 | ['datetime']\n",
            "\t\t('float', [])    : 3 | ['temp', 'atemp', 'windspeed']\n",
            "\t\t('int', [])      : 5 | ['season', 'holiday', 'workingday', 'weather', 'humidity']\n",
            "\tTypes of features in processed data (raw dtype, special dtypes):\n",
            "\t\t('float', [])                : 3 | ['temp', 'atemp', 'windspeed']\n",
            "\t\t('int', [])                  : 3 | ['season', 'weather', 'humidity']\n",
            "\t\t('int', ['bool'])            : 2 | ['holiday', 'workingday']\n",
            "\t\t('int', ['datetime_as_int']) : 1 | ['datetime']\n",
            "\t0.2s = Fit runtime\n",
            "\t9 features in original data used to generate 9 features in processed data.\n",
            "\tTrain Data (Processed) Memory Usage: 0.63 MB (0.0% of available memory)\n",
            "Data preprocessing and feature engineering runtime = 0.31s ...\n",
            "AutoGluon will gauge predictive performance using evaluation metric: 'root_mean_squared_error'\n",
            "\tTo change this, specify the eval_metric argument of fit()\n",
            "AutoGluon will fit 2 stack levels (L1 to L2) ...\n",
            "Fitting 11 L1 models ...\n",
            "Fitting model: KNeighborsUnif_BAG_L1 ... Training model for up to 399.7s of the 599.69s of remaining time.\n",
            "\t-160.4131\t = Validation score   (root_mean_squared_error)\n",
            "\t0.04s\t = Training   runtime\n",
            "\t0.1s\t = Validation runtime\n",
            "Fitting model: KNeighborsDist_BAG_L1 ... Training model for up to 399.27s of the 599.26s of remaining time.\n",
            "\t-169.5521\t = Validation score   (root_mean_squared_error)\n",
            "\t0.05s\t = Training   runtime\n",
            "\t0.11s\t = Validation runtime\n",
            "Fitting model: LightGBMXT_BAG_L1 ... Training model for up to 398.84s of the 598.84s of remaining time.\n",
            "/opt/conda/lib/python3.7/site-packages/lightgbm/engine.py:239: UserWarning: 'verbose_eval' argument is deprecated and will be removed in a future release of LightGBM. Pass 'log_evaluation()' callback via 'callbacks' argument instead.\n",
            "  _log_warning(\"'verbose_eval' argument is deprecated and will be removed in a future release of LightGBM. \"\n"
          ]
        },
        {
          "name": "stdout",
          "output_type": "stream",
          "text": [
            "[1000]\ttrain_set's rmse: 123.806\tvalid_set's rmse: 134.369\n",
            "[2000]\ttrain_set's rmse: 117.412\tvalid_set's rmse: 133.705\n"
          ]
        },
        {
          "name": "stderr",
          "output_type": "stream",
          "text": [
            "/opt/conda/lib/python3.7/site-packages/lightgbm/engine.py:239: UserWarning: 'verbose_eval' argument is deprecated and will be removed in a future release of LightGBM. Pass 'log_evaluation()' callback via 'callbacks' argument instead.\n",
            "  _log_warning(\"'verbose_eval' argument is deprecated and will be removed in a future release of LightGBM. \"\n"
          ]
        },
        {
          "name": "stdout",
          "output_type": "stream",
          "text": [
            "[1000]\ttrain_set's rmse: 123.42\tvalid_set's rmse: 141.5\n"
          ]
        },
        {
          "name": "stderr",
          "output_type": "stream",
          "text": [
            "/opt/conda/lib/python3.7/site-packages/lightgbm/engine.py:239: UserWarning: 'verbose_eval' argument is deprecated and will be removed in a future release of LightGBM. Pass 'log_evaluation()' callback via 'callbacks' argument instead.\n",
            "  _log_warning(\"'verbose_eval' argument is deprecated and will be removed in a future release of LightGBM. \"\n"
          ]
        },
        {
          "name": "stdout",
          "output_type": "stream",
          "text": [
            "[1000]\ttrain_set's rmse: 125.097\tvalid_set's rmse: 128.797\n",
            "[2000]\ttrain_set's rmse: 119.003\tvalid_set's rmse: 127.909\n",
            "[3000]\ttrain_set's rmse: 114.63\tvalid_set's rmse: 127.431\n",
            "[4000]\ttrain_set's rmse: 111.295\tvalid_set's rmse: 126.943\n",
            "[5000]\ttrain_set's rmse: 108.576\tvalid_set's rmse: 126.844\n",
            "[6000]\ttrain_set's rmse: 106.085\tvalid_set's rmse: 126.71\n"
          ]
        },
        {
          "name": "stderr",
          "output_type": "stream",
          "text": [
            "/opt/conda/lib/python3.7/site-packages/lightgbm/engine.py:239: UserWarning: 'verbose_eval' argument is deprecated and will be removed in a future release of LightGBM. Pass 'log_evaluation()' callback via 'callbacks' argument instead.\n",
            "  _log_warning(\"'verbose_eval' argument is deprecated and will be removed in a future release of LightGBM. \"\n"
          ]
        },
        {
          "name": "stdout",
          "output_type": "stream",
          "text": [
            "[1000]\ttrain_set's rmse: 124.131\tvalid_set's rmse: 138.303\n",
            "[2000]\ttrain_set's rmse: 117.833\tvalid_set's rmse: 137.535\n"
          ]
        },
        {
          "name": "stderr",
          "output_type": "stream",
          "text": [
            "/opt/conda/lib/python3.7/site-packages/lightgbm/engine.py:239: UserWarning: 'verbose_eval' argument is deprecated and will be removed in a future release of LightGBM. Pass 'log_evaluation()' callback via 'callbacks' argument instead.\n",
            "  _log_warning(\"'verbose_eval' argument is deprecated and will be removed in a future release of LightGBM. \"\n"
          ]
        },
        {
          "name": "stdout",
          "output_type": "stream",
          "text": [
            "[1000]\ttrain_set's rmse: 124.871\tvalid_set's rmse: 128.052\n",
            "[2000]\ttrain_set's rmse: 118.547\tvalid_set's rmse: 127.003\n",
            "[3000]\ttrain_set's rmse: 114.124\tvalid_set's rmse: 126.834\n",
            "[4000]\ttrain_set's rmse: 110.645\tvalid_set's rmse: 126.694\n"
          ]
        },
        {
          "name": "stderr",
          "output_type": "stream",
          "text": [
            "/opt/conda/lib/python3.7/site-packages/lightgbm/engine.py:239: UserWarning: 'verbose_eval' argument is deprecated and will be removed in a future release of LightGBM. Pass 'log_evaluation()' callback via 'callbacks' argument instead.\n",
            "  _log_warning(\"'verbose_eval' argument is deprecated and will be removed in a future release of LightGBM. \"\n"
          ]
        },
        {
          "name": "stdout",
          "output_type": "stream",
          "text": [
            "[1000]\ttrain_set's rmse: 124.654\tvalid_set's rmse: 135.095\n",
            "[2000]\ttrain_set's rmse: 118.764\tvalid_set's rmse: 133.849\n",
            "[3000]\ttrain_set's rmse: 114.615\tvalid_set's rmse: 133.509\n",
            "[4000]\ttrain_set's rmse: 111.249\tvalid_set's rmse: 133.472\n",
            "[5000]\ttrain_set's rmse: 108.455\tvalid_set's rmse: 133.281\n"
          ]
        },
        {
          "name": "stderr",
          "output_type": "stream",
          "text": [
            "/opt/conda/lib/python3.7/site-packages/lightgbm/engine.py:239: UserWarning: 'verbose_eval' argument is deprecated and will be removed in a future release of LightGBM. Pass 'log_evaluation()' callback via 'callbacks' argument instead.\n",
            "  _log_warning(\"'verbose_eval' argument is deprecated and will be removed in a future release of LightGBM. \"\n"
          ]
        },
        {
          "name": "stdout",
          "output_type": "stream",
          "text": [
            "[1000]\ttrain_set's rmse: 124.01\tvalid_set's rmse: 139.355\n",
            "[2000]\ttrain_set's rmse: 117.819\tvalid_set's rmse: 138.312\n",
            "[3000]\ttrain_set's rmse: 113.4\tvalid_set's rmse: 137.886\n",
            "[4000]\ttrain_set's rmse: 110.032\tvalid_set's rmse: 137.758\n"
          ]
        },
        {
          "name": "stderr",
          "output_type": "stream",
          "text": [
            "/opt/conda/lib/python3.7/site-packages/lightgbm/engine.py:239: UserWarning: 'verbose_eval' argument is deprecated and will be removed in a future release of LightGBM. Pass 'log_evaluation()' callback via 'callbacks' argument instead.\n",
            "  _log_warning(\"'verbose_eval' argument is deprecated and will be removed in a future release of LightGBM. \"\n"
          ]
        },
        {
          "name": "stdout",
          "output_type": "stream",
          "text": [
            "[1000]\ttrain_set's rmse: 124.47\tvalid_set's rmse: 135.412\n"
          ]
        },
        {
          "name": "stderr",
          "output_type": "stream",
          "text": [
            "/opt/conda/lib/python3.7/site-packages/lightgbm/engine.py:239: UserWarning: 'verbose_eval' argument is deprecated and will be removed in a future release of LightGBM. Pass 'log_evaluation()' callback via 'callbacks' argument instead.\n",
            "  _log_warning(\"'verbose_eval' argument is deprecated and will be removed in a future release of LightGBM. \"\n"
          ]
        },
        {
          "name": "stdout",
          "output_type": "stream",
          "text": [
            "[1000]\ttrain_set's rmse: 124.18\tvalid_set's rmse: 137.579\n",
            "[2000]\ttrain_set's rmse: 117.782\tvalid_set's rmse: 136.664\n",
            "[3000]\ttrain_set's rmse: 113.447\tvalid_set's rmse: 136.246\n",
            "[4000]\ttrain_set's rmse: 109.982\tvalid_set's rmse: 136.227\n"
          ]
        },
        {
          "name": "stderr",
          "output_type": "stream",
          "text": [
            "/opt/conda/lib/python3.7/site-packages/lightgbm/engine.py:239: UserWarning: 'verbose_eval' argument is deprecated and will be removed in a future release of LightGBM. Pass 'log_evaluation()' callback via 'callbacks' argument instead.\n",
            "  _log_warning(\"'verbose_eval' argument is deprecated and will be removed in a future release of LightGBM. \"\n"
          ]
        },
        {
          "name": "stdout",
          "output_type": "stream",
          "text": [
            "[1000]\ttrain_set's rmse: 124.641\tvalid_set's rmse: 132.484\n"
          ]
        },
        {
          "name": "stderr",
          "output_type": "stream",
          "text": [
            "\t-134.0883\t = Validation score   (root_mean_squared_error)\n",
            "\t39.57s\t = Training   runtime\n",
            "\t2.42s\t = Validation runtime\n",
            "Fitting model: LightGBM_BAG_L1 ... Training model for up to 350.14s of the 550.14s of remaining time.\n",
            "/opt/conda/lib/python3.7/site-packages/lightgbm/engine.py:239: UserWarning: 'verbose_eval' argument is deprecated and will be removed in a future release of LightGBM. Pass 'log_evaluation()' callback via 'callbacks' argument instead.\n",
            "  _log_warning(\"'verbose_eval' argument is deprecated and will be removed in a future release of LightGBM. \"\n",
            "/opt/conda/lib/python3.7/site-packages/lightgbm/engine.py:239: UserWarning: 'verbose_eval' argument is deprecated and will be removed in a future release of LightGBM. Pass 'log_evaluation()' callback via 'callbacks' argument instead.\n",
            "  _log_warning(\"'verbose_eval' argument is deprecated and will be removed in a future release of LightGBM. \"\n",
            "/opt/conda/lib/python3.7/site-packages/lightgbm/engine.py:239: UserWarning: 'verbose_eval' argument is deprecated and will be removed in a future release of LightGBM. Pass 'log_evaluation()' callback via 'callbacks' argument instead.\n",
            "  _log_warning(\"'verbose_eval' argument is deprecated and will be removed in a future release of LightGBM. \"\n"
          ]
        },
        {
          "name": "stdout",
          "output_type": "stream",
          "text": [
            "[1000]\ttrain_set's rmse: 96.0217\tvalid_set's rmse: 123.249\n"
          ]
        },
        {
          "name": "stderr",
          "output_type": "stream",
          "text": [
            "/opt/conda/lib/python3.7/site-packages/lightgbm/engine.py:239: UserWarning: 'verbose_eval' argument is deprecated and will be removed in a future release of LightGBM. Pass 'log_evaluation()' callback via 'callbacks' argument instead.\n",
            "  _log_warning(\"'verbose_eval' argument is deprecated and will be removed in a future release of LightGBM. \"\n"
          ]
        },
        {
          "name": "stdout",
          "output_type": "stream",
          "text": [
            "[1000]\ttrain_set's rmse: 94.7479\tvalid_set's rmse: 135.635\n"
          ]
        },
        {
          "name": "stderr",
          "output_type": "stream",
          "text": [
            "/opt/conda/lib/python3.7/site-packages/lightgbm/engine.py:239: UserWarning: 'verbose_eval' argument is deprecated and will be removed in a future release of LightGBM. Pass 'log_evaluation()' callback via 'callbacks' argument instead.\n",
            "  _log_warning(\"'verbose_eval' argument is deprecated and will be removed in a future release of LightGBM. \"\n",
            "/opt/conda/lib/python3.7/site-packages/lightgbm/engine.py:239: UserWarning: 'verbose_eval' argument is deprecated and will be removed in a future release of LightGBM. Pass 'log_evaluation()' callback via 'callbacks' argument instead.\n",
            "  _log_warning(\"'verbose_eval' argument is deprecated and will be removed in a future release of LightGBM. \"\n"
          ]
        },
        {
          "name": "stdout",
          "output_type": "stream",
          "text": [
            "[1000]\ttrain_set's rmse: 95.3055\tvalid_set's rmse: 132.087\n"
          ]
        },
        {
          "name": "stderr",
          "output_type": "stream",
          "text": [
            "/opt/conda/lib/python3.7/site-packages/lightgbm/engine.py:239: UserWarning: 'verbose_eval' argument is deprecated and will be removed in a future release of LightGBM. Pass 'log_evaluation()' callback via 'callbacks' argument instead.\n",
            "  _log_warning(\"'verbose_eval' argument is deprecated and will be removed in a future release of LightGBM. \"\n",
            "/opt/conda/lib/python3.7/site-packages/lightgbm/engine.py:239: UserWarning: 'verbose_eval' argument is deprecated and will be removed in a future release of LightGBM. Pass 'log_evaluation()' callback via 'callbacks' argument instead.\n",
            "  _log_warning(\"'verbose_eval' argument is deprecated and will be removed in a future release of LightGBM. \"\n"
          ]
        },
        {
          "name": "stdout",
          "output_type": "stream",
          "text": [
            "[1000]\ttrain_set's rmse: 95.1635\tvalid_set's rmse: 131.521\n"
          ]
        },
        {
          "name": "stderr",
          "output_type": "stream",
          "text": [
            "/opt/conda/lib/python3.7/site-packages/lightgbm/engine.py:239: UserWarning: 'verbose_eval' argument is deprecated and will be removed in a future release of LightGBM. Pass 'log_evaluation()' callback via 'callbacks' argument instead.\n",
            "  _log_warning(\"'verbose_eval' argument is deprecated and will be removed in a future release of LightGBM. \"\n",
            "/opt/conda/lib/python3.7/site-packages/lightgbm/engine.py:239: UserWarning: 'verbose_eval' argument is deprecated and will be removed in a future release of LightGBM. Pass 'log_evaluation()' callback via 'callbacks' argument instead.\n",
            "  _log_warning(\"'verbose_eval' argument is deprecated and will be removed in a future release of LightGBM. \"\n",
            "\t-132.2864\t = Validation score   (root_mean_squared_error)\n",
            "\t11.02s\t = Training   runtime\n",
            "\t0.47s\t = Validation runtime\n",
            "Fitting model: RandomForestMSE_BAG_L1 ... Training model for up to 336.52s of the 536.51s of remaining time.\n",
            "\t-118.4567\t = Validation score   (root_mean_squared_error)\n",
            "\t7.05s\t = Training   runtime\n",
            "\t0.37s\t = Validation runtime\n",
            "Fitting model: CatBoost_BAG_L1 ... Training model for up to 326.32s of the 526.32s of remaining time.\n",
            "\t-132.3497\t = Validation score   (root_mean_squared_error)\n",
            "\t56.85s\t = Training   runtime\n",
            "\t0.05s\t = Validation runtime\n",
            "Fitting model: ExtraTreesMSE_BAG_L1 ... Training model for up to 268.59s of the 468.59s of remaining time.\n",
            "\t-128.7334\t = Validation score   (root_mean_squared_error)\n",
            "\t3.0s\t = Training   runtime\n",
            "\t0.37s\t = Validation runtime\n",
            "Fitting model: NeuralNetFastAI_BAG_L1 ... Training model for up to 262.69s of the 462.68s of remaining time.\n",
            "generated new fontManager\n",
            "\t-137.9584\t = Validation score   (root_mean_squared_error)\n",
            "\t105.69s\t = Training   runtime\n",
            "\t0.28s\t = Validation runtime\n",
            "Fitting model: XGBoost_BAG_L1 ... Training model for up to 155.88s of the 355.87s of remaining time.\n",
            "\t-132.3085\t = Validation score   (root_mean_squared_error)\n",
            "\t15.72s\t = Training   runtime\n",
            "\t0.15s\t = Validation runtime\n",
            "Fitting model: NeuralNetMXNet_BAG_L1 ... Training model for up to 138.1s of the 338.09s of remaining time.\n",
            "\tRan out of time, stopping training early. (Stopping on epoch 12)\n",
            "\tRan out of time, stopping training early. (Stopping on epoch 15)\n",
            "\tRan out of time, stopping training early. (Stopping on epoch 15)\n",
            "\tRan out of time, stopping training early. (Stopping on epoch 17)\n",
            "\tRan out of time, stopping training early. (Stopping on epoch 17)\n",
            "\tRan out of time, stopping training early. (Stopping on epoch 18)\n",
            "\tRan out of time, stopping training early. (Stopping on epoch 18)\n",
            "\tRan out of time, stopping training early. (Stopping on epoch 20)\n",
            "\tRan out of time, stopping training early. (Stopping on epoch 23)\n",
            "\tRan out of time, stopping training early. (Stopping on epoch 27)\n",
            "\t-142.8513\t = Validation score   (root_mean_squared_error)\n",
            "\t131.31s\t = Training   runtime\n",
            "\t1.45s\t = Validation runtime\n",
            "Fitting model: LightGBMLarge_BAG_L1 ... Training model for up to 4.65s of the 204.64s of remaining time.\n",
            "/opt/conda/lib/python3.7/site-packages/lightgbm/engine.py:239: UserWarning: 'verbose_eval' argument is deprecated and will be removed in a future release of LightGBM. Pass 'log_evaluation()' callback via 'callbacks' argument instead.\n",
            "  _log_warning(\"'verbose_eval' argument is deprecated and will be removed in a future release of LightGBM. \"\n",
            "\tRan out of time, early stopping on iteration 124. Best iteration is:\n",
            "\t[122]\ttrain_set's rmse: 107.065\tvalid_set's rmse: 130.429\n",
            "\tTime limit exceeded... Skipping LightGBMLarge_BAG_L1.\n",
            "Completed 1/20 k-fold bagging repeats ...\n",
            "Fitting model: WeightedEnsemble_L2 ... Training model for up to 360.0s of the 203.9s of remaining time.\n",
            "\t-118.4219\t = Validation score   (root_mean_squared_error)\n",
            "\t0.34s\t = Training   runtime\n",
            "\t0.0s\t = Validation runtime\n",
            "Fitting 9 L2 models ...\n",
            "Fitting model: LightGBMXT_BAG_L2 ... Training model for up to 203.46s of the 203.42s of remaining time.\n",
            "/opt/conda/lib/python3.7/site-packages/lightgbm/engine.py:239: UserWarning: 'verbose_eval' argument is deprecated and will be removed in a future release of LightGBM. Pass 'log_evaluation()' callback via 'callbacks' argument instead.\n",
            "  _log_warning(\"'verbose_eval' argument is deprecated and will be removed in a future release of LightGBM. \"\n",
            "/opt/conda/lib/python3.7/site-packages/lightgbm/engine.py:239: UserWarning: 'verbose_eval' argument is deprecated and will be removed in a future release of LightGBM. Pass 'log_evaluation()' callback via 'callbacks' argument instead.\n",
            "  _log_warning(\"'verbose_eval' argument is deprecated and will be removed in a future release of LightGBM. \"\n",
            "/opt/conda/lib/python3.7/site-packages/lightgbm/engine.py:239: UserWarning: 'verbose_eval' argument is deprecated and will be removed in a future release of LightGBM. Pass 'log_evaluation()' callback via 'callbacks' argument instead.\n",
            "  _log_warning(\"'verbose_eval' argument is deprecated and will be removed in a future release of LightGBM. \"\n",
            "/opt/conda/lib/python3.7/site-packages/lightgbm/engine.py:239: UserWarning: 'verbose_eval' argument is deprecated and will be removed in a future release of LightGBM. Pass 'log_evaluation()' callback via 'callbacks' argument instead.\n",
            "  _log_warning(\"'verbose_eval' argument is deprecated and will be removed in a future release of LightGBM. \"\n",
            "/opt/conda/lib/python3.7/site-packages/lightgbm/engine.py:239: UserWarning: 'verbose_eval' argument is deprecated and will be removed in a future release of LightGBM. Pass 'log_evaluation()' callback via 'callbacks' argument instead.\n",
            "  _log_warning(\"'verbose_eval' argument is deprecated and will be removed in a future release of LightGBM. \"\n",
            "/opt/conda/lib/python3.7/site-packages/lightgbm/engine.py:239: UserWarning: 'verbose_eval' argument is deprecated and will be removed in a future release of LightGBM. Pass 'log_evaluation()' callback via 'callbacks' argument instead.\n",
            "  _log_warning(\"'verbose_eval' argument is deprecated and will be removed in a future release of LightGBM. \"\n",
            "/opt/conda/lib/python3.7/site-packages/lightgbm/engine.py:239: UserWarning: 'verbose_eval' argument is deprecated and will be removed in a future release of LightGBM. Pass 'log_evaluation()' callback via 'callbacks' argument instead.\n",
            "  _log_warning(\"'verbose_eval' argument is deprecated and will be removed in a future release of LightGBM. \"\n",
            "/opt/conda/lib/python3.7/site-packages/lightgbm/engine.py:239: UserWarning: 'verbose_eval' argument is deprecated and will be removed in a future release of LightGBM. Pass 'log_evaluation()' callback via 'callbacks' argument instead.\n",
            "  _log_warning(\"'verbose_eval' argument is deprecated and will be removed in a future release of LightGBM. \"\n",
            "/opt/conda/lib/python3.7/site-packages/lightgbm/engine.py:239: UserWarning: 'verbose_eval' argument is deprecated and will be removed in a future release of LightGBM. Pass 'log_evaluation()' callback via 'callbacks' argument instead.\n",
            "  _log_warning(\"'verbose_eval' argument is deprecated and will be removed in a future release of LightGBM. \"\n",
            "/opt/conda/lib/python3.7/site-packages/lightgbm/engine.py:239: UserWarning: 'verbose_eval' argument is deprecated and will be removed in a future release of LightGBM. Pass 'log_evaluation()' callback via 'callbacks' argument instead.\n",
            "  _log_warning(\"'verbose_eval' argument is deprecated and will be removed in a future release of LightGBM. \"\n",
            "\t-116.2539\t = Validation score   (root_mean_squared_error)\n",
            "\t10.68s\t = Training   runtime\n",
            "\t0.38s\t = Validation runtime\n",
            "Fitting model: LightGBM_BAG_L2 ... Training model for up to 191.22s of the 191.18s of remaining time.\n",
            "/opt/conda/lib/python3.7/site-packages/lightgbm/engine.py:239: UserWarning: 'verbose_eval' argument is deprecated and will be removed in a future release of LightGBM. Pass 'log_evaluation()' callback via 'callbacks' argument instead.\n",
            "  _log_warning(\"'verbose_eval' argument is deprecated and will be removed in a future release of LightGBM. \"\n",
            "/opt/conda/lib/python3.7/site-packages/lightgbm/engine.py:239: UserWarning: 'verbose_eval' argument is deprecated and will be removed in a future release of LightGBM. Pass 'log_evaluation()' callback via 'callbacks' argument instead.\n",
            "  _log_warning(\"'verbose_eval' argument is deprecated and will be removed in a future release of LightGBM. \"\n",
            "/opt/conda/lib/python3.7/site-packages/lightgbm/engine.py:239: UserWarning: 'verbose_eval' argument is deprecated and will be removed in a future release of LightGBM. Pass 'log_evaluation()' callback via 'callbacks' argument instead.\n",
            "  _log_warning(\"'verbose_eval' argument is deprecated and will be removed in a future release of LightGBM. \"\n",
            "/opt/conda/lib/python3.7/site-packages/lightgbm/engine.py:239: UserWarning: 'verbose_eval' argument is deprecated and will be removed in a future release of LightGBM. Pass 'log_evaluation()' callback via 'callbacks' argument instead.\n",
            "  _log_warning(\"'verbose_eval' argument is deprecated and will be removed in a future release of LightGBM. \"\n",
            "/opt/conda/lib/python3.7/site-packages/lightgbm/engine.py:239: UserWarning: 'verbose_eval' argument is deprecated and will be removed in a future release of LightGBM. Pass 'log_evaluation()' callback via 'callbacks' argument instead.\n",
            "  _log_warning(\"'verbose_eval' argument is deprecated and will be removed in a future release of LightGBM. \"\n",
            "/opt/conda/lib/python3.7/site-packages/lightgbm/engine.py:239: UserWarning: 'verbose_eval' argument is deprecated and will be removed in a future release of LightGBM. Pass 'log_evaluation()' callback via 'callbacks' argument instead.\n",
            "  _log_warning(\"'verbose_eval' argument is deprecated and will be removed in a future release of LightGBM. \"\n",
            "/opt/conda/lib/python3.7/site-packages/lightgbm/engine.py:239: UserWarning: 'verbose_eval' argument is deprecated and will be removed in a future release of LightGBM. Pass 'log_evaluation()' callback via 'callbacks' argument instead.\n",
            "  _log_warning(\"'verbose_eval' argument is deprecated and will be removed in a future release of LightGBM. \"\n",
            "/opt/conda/lib/python3.7/site-packages/lightgbm/engine.py:239: UserWarning: 'verbose_eval' argument is deprecated and will be removed in a future release of LightGBM. Pass 'log_evaluation()' callback via 'callbacks' argument instead.\n",
            "  _log_warning(\"'verbose_eval' argument is deprecated and will be removed in a future release of LightGBM. \"\n",
            "/opt/conda/lib/python3.7/site-packages/lightgbm/engine.py:239: UserWarning: 'verbose_eval' argument is deprecated and will be removed in a future release of LightGBM. Pass 'log_evaluation()' callback via 'callbacks' argument instead.\n",
            "  _log_warning(\"'verbose_eval' argument is deprecated and will be removed in a future release of LightGBM. \"\n",
            "/opt/conda/lib/python3.7/site-packages/lightgbm/engine.py:239: UserWarning: 'verbose_eval' argument is deprecated and will be removed in a future release of LightGBM. Pass 'log_evaluation()' callback via 'callbacks' argument instead.\n",
            "  _log_warning(\"'verbose_eval' argument is deprecated and will be removed in a future release of LightGBM. \"\n",
            "\t-117.1933\t = Validation score   (root_mean_squared_error)\n",
            "\t7.17s\t = Training   runtime\n",
            "\t0.12s\t = Validation runtime\n",
            "Fitting model: RandomForestMSE_BAG_L2 ... Training model for up to 183.19s of the 183.15s of remaining time.\n",
            "\t-119.5502\t = Validation score   (root_mean_squared_error)\n",
            "\t29.26s\t = Training   runtime\n",
            "\t0.46s\t = Validation runtime\n",
            "Fitting model: CatBoost_BAG_L2 ... Training model for up to 150.99s of the 150.95s of remaining time.\n",
            "\t-116.4096\t = Validation score   (root_mean_squared_error)\n",
            "\t29.84s\t = Training   runtime\n",
            "\t0.03s\t = Validation runtime\n",
            "Fitting model: ExtraTreesMSE_BAG_L2 ... Training model for up to 120.49s of the 120.45s of remaining time.\n",
            "\t-117.5477\t = Validation score   (root_mean_squared_error)\n",
            "\t6.32s\t = Training   runtime\n",
            "\t0.44s\t = Validation runtime\n",
            "Fitting model: NeuralNetFastAI_BAG_L2 ... Training model for up to 111.23s of the 111.19s of remaining time.\n",
            "\tRan out of time, stopping training early. (Stopping on epoch 25)\n",
            "\tRan out of time, stopping training early. (Stopping on epoch 26)\n",
            "\tRan out of time, stopping training early. (Stopping on epoch 26)\n",
            "\tRan out of time, stopping training early. (Stopping on epoch 24)\n",
            "\tRan out of time, stopping training early. (Stopping on epoch 28)\n",
            "\tRan out of time, stopping training early. (Stopping on epoch 29)\n",
            "\t-115.3923\t = Validation score   (root_mean_squared_error)\n",
            "\t98.48s\t = Training   runtime\n",
            "\t0.32s\t = Validation runtime\n",
            "Fitting model: XGBoost_BAG_L2 ... Training model for up to 11.59s of the 11.55s of remaining time.\n",
            "\t-117.6586\t = Validation score   (root_mean_squared_error)\n",
            "\t10.59s\t = Training   runtime\n",
            "\t0.08s\t = Validation runtime\n",
            "Completed 1/20 k-fold bagging repeats ...\n",
            "Fitting model: WeightedEnsemble_L3 ... Training model for up to 360.0s of the -0.15s of remaining time.\n",
            "\t-114.8347\t = Validation score   (root_mean_squared_error)\n",
            "\t0.26s\t = Training   runtime\n",
            "\t0.0s\t = Validation runtime\n",
            "AutoGluon training complete, total runtime = 600.66s ...\n",
            "TabularPredictor saved. To load, use: predictor = TabularPredictor.load(\"AutogluonModels/ag-20220122_212719/\")\n"
          ]
        }
      ],
      "source": [
        "predictor = TabularPredictor(label=\"count\", learner_kwargs={'ignored_columns': [\"casual\", \"registered\"]}).fit(\n",
        "    train_data=train, time_limit=600, presets=\"best_quality\"\n",
        ")"
      ]
    },
    {
      "cell_type": "markdown",
      "metadata": {
        "id": "9tUpf6TM9BlQ"
      },
      "source": [
        "### Review AutoGluon's training run with ranking of models that did the best."
      ]
    },
    {
      "cell_type": "code",
      "execution_count": null,
      "metadata": {
        "id": "T6Az-MID9BlQ",
        "outputId": "f8b0e061-fbf1-473f-c043-c1f161bf8948"
      },
      "outputs": [
        {
          "name": "stdout",
          "output_type": "stream",
          "text": [
            "*** Summary of fit() ***\n",
            "Estimated performance of each model:\n",
            "                     model   score_val  pred_time_val    fit_time  pred_time_val_marginal  fit_time_marginal  stack_level  can_infer  fit_order\n",
            "0      WeightedEnsemble_L3 -114.834748       7.088464  523.049799                0.000578           0.256072            3       True         19\n",
            "1   NeuralNetFastAI_BAG_L2 -115.392259       6.108835  468.787756                0.321642          98.482302            2       True         17\n",
            "2        LightGBMXT_BAG_L2 -116.253934       6.166618  380.985842                0.379425          10.680388            2       True         12\n",
            "3          CatBoost_BAG_L2 -116.409558       5.820640  400.145815                0.033447          29.840361            2       True         15\n",
            "4          LightGBM_BAG_L2 -117.193342       5.910249  377.475208                0.123055           7.169754            2       True         13\n",
            "5     ExtraTreesMSE_BAG_L2 -117.547719       6.230316  376.620921                0.443123           6.315467            2       True         16\n",
            "6           XGBoost_BAG_L2 -117.658566       5.868192  380.894775                0.080999          10.589322            2       True         18\n",
            "7      WeightedEnsemble_L2 -118.421949       1.828157  138.701621                0.000533           0.339535            2       True         11\n",
            "8   RandomForestMSE_BAG_L1 -118.456660       0.372900    7.049904                0.372900           7.049904            1       True          5\n",
            "9   RandomForestMSE_BAG_L2 -119.550199       6.249213  399.570065                0.462020          29.264612            2       True         14\n",
            "10    ExtraTreesMSE_BAG_L1 -128.733445       0.373593    3.004482                0.373593           3.004482            1       True          7\n",
            "11         LightGBM_BAG_L1 -132.286410       0.473819   11.020907                0.473819          11.020907            1       True          4\n",
            "12          XGBoost_BAG_L1 -132.308522       0.146836   15.722235                0.146836          15.722235            1       True          9\n",
            "13         CatBoost_BAG_L1 -132.349692       0.049245   56.854651                0.049245          56.854651            1       True          6\n",
            "14       LightGBMXT_BAG_L1 -134.088334       2.424638   39.566860                2.424638          39.566860            1       True          3\n",
            "15  NeuralNetFastAI_BAG_L1 -137.958353       0.277254  105.687420                0.277254         105.687420            1       True          8\n",
            "16   NeuralNetMXNet_BAG_L1 -142.851259       1.454725  131.312183                1.454725         131.312183            1       True         10\n",
            "17   KNeighborsUnif_BAG_L1 -160.413078       0.103017    0.039295                0.103017           0.039295            1       True          1\n",
            "18   KNeighborsDist_BAG_L1 -169.552096       0.111168    0.047517                0.111168           0.047517            1       True          2\n",
            "Number of models trained: 19\n",
            "Types of models trained:\n",
            "{'StackerEnsembleModel_LGB', 'StackerEnsembleModel_CatBoost', 'StackerEnsembleModel_XT', 'StackerEnsembleModel_TabularNeuralNet', 'StackerEnsembleModel_XGBoost', 'StackerEnsembleModel_NNFastAiTabular', 'StackerEnsembleModel_KNN', 'WeightedEnsembleModel', 'StackerEnsembleModel_RF'}\n",
            "Bagging used: True  (with 10 folds)\n",
            "Multi-layer stack-ensembling used: True  (with 3 levels)\n",
            "Feature Metadata (Processed):\n",
            "(raw dtype, special dtypes):\n",
            "('float', [])                : 3 | ['temp', 'atemp', 'windspeed']\n",
            "('int', [])                  : 3 | ['season', 'weather', 'humidity']\n",
            "('int', ['bool'])            : 2 | ['holiday', 'workingday']\n",
            "('int', ['datetime_as_int']) : 1 | ['datetime']\n",
            "Plot summary of models saved to file: AutogluonModels/ag-20220122_212719/SummaryOfModels.html\n",
            "*** End of fit() summary ***\n"
          ]
        },
        {
          "data": {
            "text/plain": [
              "{'model_types': {'KNeighborsUnif_BAG_L1': 'StackerEnsembleModel_KNN',\n",
              "  'KNeighborsDist_BAG_L1': 'StackerEnsembleModel_KNN',\n",
              "  'LightGBMXT_BAG_L1': 'StackerEnsembleModel_LGB',\n",
              "  'LightGBM_BAG_L1': 'StackerEnsembleModel_LGB',\n",
              "  'RandomForestMSE_BAG_L1': 'StackerEnsembleModel_RF',\n",
              "  'CatBoost_BAG_L1': 'StackerEnsembleModel_CatBoost',\n",
              "  'ExtraTreesMSE_BAG_L1': 'StackerEnsembleModel_XT',\n",
              "  'NeuralNetFastAI_BAG_L1': 'StackerEnsembleModel_NNFastAiTabular',\n",
              "  'XGBoost_BAG_L1': 'StackerEnsembleModel_XGBoost',\n",
              "  'NeuralNetMXNet_BAG_L1': 'StackerEnsembleModel_TabularNeuralNet',\n",
              "  'WeightedEnsemble_L2': 'WeightedEnsembleModel',\n",
              "  'LightGBMXT_BAG_L2': 'StackerEnsembleModel_LGB',\n",
              "  'LightGBM_BAG_L2': 'StackerEnsembleModel_LGB',\n",
              "  'RandomForestMSE_BAG_L2': 'StackerEnsembleModel_RF',\n",
              "  'CatBoost_BAG_L2': 'StackerEnsembleModel_CatBoost',\n",
              "  'ExtraTreesMSE_BAG_L2': 'StackerEnsembleModel_XT',\n",
              "  'NeuralNetFastAI_BAG_L2': 'StackerEnsembleModel_NNFastAiTabular',\n",
              "  'XGBoost_BAG_L2': 'StackerEnsembleModel_XGBoost',\n",
              "  'WeightedEnsemble_L3': 'WeightedEnsembleModel'},\n",
              " 'model_performance': {'KNeighborsUnif_BAG_L1': -160.41307794634753,\n",
              "  'KNeighborsDist_BAG_L1': -169.55209635208976,\n",
              "  'LightGBMXT_BAG_L1': -134.08833420116997,\n",
              "  'LightGBM_BAG_L1': -132.28640961443512,\n",
              "  'RandomForestMSE_BAG_L1': -118.45666016795751,\n",
              "  'CatBoost_BAG_L1': -132.3496915713461,\n",
              "  'ExtraTreesMSE_BAG_L1': -128.73344506216944,\n",
              "  'NeuralNetFastAI_BAG_L1': -137.95835291536918,\n",
              "  'XGBoost_BAG_L1': -132.30852184526844,\n",
              "  'NeuralNetMXNet_BAG_L1': -142.85125944753997,\n",
              "  'WeightedEnsemble_L2': -118.42194928307879,\n",
              "  'LightGBMXT_BAG_L2': -116.25393427965183,\n",
              "  'LightGBM_BAG_L2': -117.19334190718473,\n",
              "  'RandomForestMSE_BAG_L2': -119.55019885425585,\n",
              "  'CatBoost_BAG_L2': -116.40955799105583,\n",
              "  'ExtraTreesMSE_BAG_L2': -117.5477192768619,\n",
              "  'NeuralNetFastAI_BAG_L2': -115.39225896583264,\n",
              "  'XGBoost_BAG_L2': -117.65856640083463,\n",
              "  'WeightedEnsemble_L3': -114.83474810637038},\n",
              " 'model_best': 'WeightedEnsemble_L3',\n",
              " 'model_paths': {'KNeighborsUnif_BAG_L1': 'AutogluonModels/ag-20220122_212719/models/KNeighborsUnif_BAG_L1/',\n",
              "  'KNeighborsDist_BAG_L1': 'AutogluonModels/ag-20220122_212719/models/KNeighborsDist_BAG_L1/',\n",
              "  'LightGBMXT_BAG_L1': 'AutogluonModels/ag-20220122_212719/models/LightGBMXT_BAG_L1/',\n",
              "  'LightGBM_BAG_L1': 'AutogluonModels/ag-20220122_212719/models/LightGBM_BAG_L1/',\n",
              "  'RandomForestMSE_BAG_L1': 'AutogluonModels/ag-20220122_212719/models/RandomForestMSE_BAG_L1/',\n",
              "  'CatBoost_BAG_L1': 'AutogluonModels/ag-20220122_212719/models/CatBoost_BAG_L1/',\n",
              "  'ExtraTreesMSE_BAG_L1': 'AutogluonModels/ag-20220122_212719/models/ExtraTreesMSE_BAG_L1/',\n",
              "  'NeuralNetFastAI_BAG_L1': 'AutogluonModels/ag-20220122_212719/models/NeuralNetFastAI_BAG_L1/',\n",
              "  'XGBoost_BAG_L1': 'AutogluonModels/ag-20220122_212719/models/XGBoost_BAG_L1/',\n",
              "  'NeuralNetMXNet_BAG_L1': 'AutogluonModels/ag-20220122_212719/models/NeuralNetMXNet_BAG_L1/',\n",
              "  'WeightedEnsemble_L2': 'AutogluonModels/ag-20220122_212719/models/WeightedEnsemble_L2/',\n",
              "  'LightGBMXT_BAG_L2': 'AutogluonModels/ag-20220122_212719/models/LightGBMXT_BAG_L2/',\n",
              "  'LightGBM_BAG_L2': 'AutogluonModels/ag-20220122_212719/models/LightGBM_BAG_L2/',\n",
              "  'RandomForestMSE_BAG_L2': 'AutogluonModels/ag-20220122_212719/models/RandomForestMSE_BAG_L2/',\n",
              "  'CatBoost_BAG_L2': 'AutogluonModels/ag-20220122_212719/models/CatBoost_BAG_L2/',\n",
              "  'ExtraTreesMSE_BAG_L2': 'AutogluonModels/ag-20220122_212719/models/ExtraTreesMSE_BAG_L2/',\n",
              "  'NeuralNetFastAI_BAG_L2': 'AutogluonModels/ag-20220122_212719/models/NeuralNetFastAI_BAG_L2/',\n",
              "  'XGBoost_BAG_L2': 'AutogluonModels/ag-20220122_212719/models/XGBoost_BAG_L2/',\n",
              "  'WeightedEnsemble_L3': 'AutogluonModels/ag-20220122_212719/models/WeightedEnsemble_L3/'},\n",
              " 'model_fit_times': {'KNeighborsUnif_BAG_L1': 0.03929543495178223,\n",
              "  'KNeighborsDist_BAG_L1': 0.04751706123352051,\n",
              "  'LightGBMXT_BAG_L1': 39.56685996055603,\n",
              "  'LightGBM_BAG_L1': 11.020906686782837,\n",
              "  'RandomForestMSE_BAG_L1': 7.049903631210327,\n",
              "  'CatBoost_BAG_L1': 56.85465121269226,\n",
              "  'ExtraTreesMSE_BAG_L1': 3.004481792449951,\n",
              "  'NeuralNetFastAI_BAG_L1': 105.68741965293884,\n",
              "  'XGBoost_BAG_L1': 15.722235441207886,\n",
              "  'NeuralNetMXNet_BAG_L1': 131.31218266487122,\n",
              "  'WeightedEnsemble_L2': 0.3395345211029053,\n",
              "  'LightGBMXT_BAG_L2': 10.68038821220398,\n",
              "  'LightGBM_BAG_L2': 7.169754266738892,\n",
              "  'RandomForestMSE_BAG_L2': 29.264611959457397,\n",
              "  'CatBoost_BAG_L2': 29.84036111831665,\n",
              "  'ExtraTreesMSE_BAG_L2': 6.315467357635498,\n",
              "  'NeuralNetFastAI_BAG_L2': 98.48230242729187,\n",
              "  'XGBoost_BAG_L2': 10.589321851730347,\n",
              "  'WeightedEnsemble_L3': 0.2560722827911377},\n",
              " 'model_pred_times': {'KNeighborsUnif_BAG_L1': 0.10301661491394043,\n",
              "  'KNeighborsDist_BAG_L1': 0.11116814613342285,\n",
              "  'LightGBMXT_BAG_L1': 2.42463755607605,\n",
              "  'LightGBM_BAG_L1': 0.4738190174102783,\n",
              "  'RandomForestMSE_BAG_L1': 0.37289977073669434,\n",
              "  'CatBoost_BAG_L1': 0.04924511909484863,\n",
              "  'ExtraTreesMSE_BAG_L1': 0.3735930919647217,\n",
              "  'NeuralNetFastAI_BAG_L1': 0.2772536277770996,\n",
              "  'XGBoost_BAG_L1': 0.1468355655670166,\n",
              "  'NeuralNetMXNet_BAG_L1': 1.4547245502471924,\n",
              "  'WeightedEnsemble_L2': 0.0005326271057128906,\n",
              "  'LightGBMXT_BAG_L2': 0.3794252872467041,\n",
              "  'LightGBM_BAG_L2': 0.12305545806884766,\n",
              "  'RandomForestMSE_BAG_L2': 0.4620203971862793,\n",
              "  'CatBoost_BAG_L2': 0.033447265625,\n",
              "  'ExtraTreesMSE_BAG_L2': 0.44312310218811035,\n",
              "  'NeuralNetFastAI_BAG_L2': 0.3216416835784912,\n",
              "  'XGBoost_BAG_L2': 0.08099913597106934,\n",
              "  'WeightedEnsemble_L3': 0.0005776882171630859},\n",
              " 'num_bag_folds': 10,\n",
              " 'max_stack_level': 3,\n",
              " 'model_hyperparams': {'KNeighborsUnif_BAG_L1': {'use_orig_features': True,\n",
              "   'max_base_models': 25,\n",
              "   'max_base_models_per_type': 5,\n",
              "   'save_bag_folds': True,\n",
              "   'use_child_oof': True},\n",
              "  'KNeighborsDist_BAG_L1': {'use_orig_features': True,\n",
              "   'max_base_models': 25,\n",
              "   'max_base_models_per_type': 5,\n",
              "   'save_bag_folds': True,\n",
              "   'use_child_oof': True},\n",
              "  'LightGBMXT_BAG_L1': {'use_orig_features': True,\n",
              "   'max_base_models': 25,\n",
              "   'max_base_models_per_type': 5,\n",
              "   'save_bag_folds': True},\n",
              "  'LightGBM_BAG_L1': {'use_orig_features': True,\n",
              "   'max_base_models': 25,\n",
              "   'max_base_models_per_type': 5,\n",
              "   'save_bag_folds': True},\n",
              "  'RandomForestMSE_BAG_L1': {'use_orig_features': True,\n",
              "   'max_base_models': 25,\n",
              "   'max_base_models_per_type': 5,\n",
              "   'save_bag_folds': True,\n",
              "   'use_child_oof': True},\n",
              "  'CatBoost_BAG_L1': {'use_orig_features': True,\n",
              "   'max_base_models': 25,\n",
              "   'max_base_models_per_type': 5,\n",
              "   'save_bag_folds': True},\n",
              "  'ExtraTreesMSE_BAG_L1': {'use_orig_features': True,\n",
              "   'max_base_models': 25,\n",
              "   'max_base_models_per_type': 5,\n",
              "   'save_bag_folds': True,\n",
              "   'use_child_oof': True},\n",
              "  'NeuralNetFastAI_BAG_L1': {'use_orig_features': True,\n",
              "   'max_base_models': 25,\n",
              "   'max_base_models_per_type': 5,\n",
              "   'save_bag_folds': True},\n",
              "  'XGBoost_BAG_L1': {'use_orig_features': True,\n",
              "   'max_base_models': 25,\n",
              "   'max_base_models_per_type': 5,\n",
              "   'save_bag_folds': True},\n",
              "  'NeuralNetMXNet_BAG_L1': {'use_orig_features': True,\n",
              "   'max_base_models': 25,\n",
              "   'max_base_models_per_type': 5,\n",
              "   'save_bag_folds': True},\n",
              "  'WeightedEnsemble_L2': {'use_orig_features': False,\n",
              "   'max_base_models': 25,\n",
              "   'max_base_models_per_type': 5,\n",
              "   'save_bag_folds': True},\n",
              "  'LightGBMXT_BAG_L2': {'use_orig_features': True,\n",
              "   'max_base_models': 25,\n",
              "   'max_base_models_per_type': 5,\n",
              "   'save_bag_folds': True},\n",
              "  'LightGBM_BAG_L2': {'use_orig_features': True,\n",
              "   'max_base_models': 25,\n",
              "   'max_base_models_per_type': 5,\n",
              "   'save_bag_folds': True},\n",
              "  'RandomForestMSE_BAG_L2': {'use_orig_features': True,\n",
              "   'max_base_models': 25,\n",
              "   'max_base_models_per_type': 5,\n",
              "   'save_bag_folds': True,\n",
              "   'use_child_oof': True},\n",
              "  'CatBoost_BAG_L2': {'use_orig_features': True,\n",
              "   'max_base_models': 25,\n",
              "   'max_base_models_per_type': 5,\n",
              "   'save_bag_folds': True},\n",
              "  'ExtraTreesMSE_BAG_L2': {'use_orig_features': True,\n",
              "   'max_base_models': 25,\n",
              "   'max_base_models_per_type': 5,\n",
              "   'save_bag_folds': True,\n",
              "   'use_child_oof': True},\n",
              "  'NeuralNetFastAI_BAG_L2': {'use_orig_features': True,\n",
              "   'max_base_models': 25,\n",
              "   'max_base_models_per_type': 5,\n",
              "   'save_bag_folds': True},\n",
              "  'XGBoost_BAG_L2': {'use_orig_features': True,\n",
              "   'max_base_models': 25,\n",
              "   'max_base_models_per_type': 5,\n",
              "   'save_bag_folds': True},\n",
              "  'WeightedEnsemble_L3': {'use_orig_features': False,\n",
              "   'max_base_models': 25,\n",
              "   'max_base_models_per_type': 5,\n",
              "   'save_bag_folds': True}},\n",
              " 'leaderboard':                      model   score_val  pred_time_val    fit_time  \\\n",
              " 0      WeightedEnsemble_L3 -114.834748       7.088464  523.049799   \n",
              " 1   NeuralNetFastAI_BAG_L2 -115.392259       6.108835  468.787756   \n",
              " 2        LightGBMXT_BAG_L2 -116.253934       6.166618  380.985842   \n",
              " 3          CatBoost_BAG_L2 -116.409558       5.820640  400.145815   \n",
              " 4          LightGBM_BAG_L2 -117.193342       5.910249  377.475208   \n",
              " 5     ExtraTreesMSE_BAG_L2 -117.547719       6.230316  376.620921   \n",
              " 6           XGBoost_BAG_L2 -117.658566       5.868192  380.894775   \n",
              " 7      WeightedEnsemble_L2 -118.421949       1.828157  138.701621   \n",
              " 8   RandomForestMSE_BAG_L1 -118.456660       0.372900    7.049904   \n",
              " 9   RandomForestMSE_BAG_L2 -119.550199       6.249213  399.570065   \n",
              " 10    ExtraTreesMSE_BAG_L1 -128.733445       0.373593    3.004482   \n",
              " 11         LightGBM_BAG_L1 -132.286410       0.473819   11.020907   \n",
              " 12          XGBoost_BAG_L1 -132.308522       0.146836   15.722235   \n",
              " 13         CatBoost_BAG_L1 -132.349692       0.049245   56.854651   \n",
              " 14       LightGBMXT_BAG_L1 -134.088334       2.424638   39.566860   \n",
              " 15  NeuralNetFastAI_BAG_L1 -137.958353       0.277254  105.687420   \n",
              " 16   NeuralNetMXNet_BAG_L1 -142.851259       1.454725  131.312183   \n",
              " 17   KNeighborsUnif_BAG_L1 -160.413078       0.103017    0.039295   \n",
              " 18   KNeighborsDist_BAG_L1 -169.552096       0.111168    0.047517   \n",
              " \n",
              "     pred_time_val_marginal  fit_time_marginal  stack_level  can_infer  \\\n",
              " 0                 0.000578           0.256072            3       True   \n",
              " 1                 0.321642          98.482302            2       True   \n",
              " 2                 0.379425          10.680388            2       True   \n",
              " 3                 0.033447          29.840361            2       True   \n",
              " 4                 0.123055           7.169754            2       True   \n",
              " 5                 0.443123           6.315467            2       True   \n",
              " 6                 0.080999          10.589322            2       True   \n",
              " 7                 0.000533           0.339535            2       True   \n",
              " 8                 0.372900           7.049904            1       True   \n",
              " 9                 0.462020          29.264612            2       True   \n",
              " 10                0.373593           3.004482            1       True   \n",
              " 11                0.473819          11.020907            1       True   \n",
              " 12                0.146836          15.722235            1       True   \n",
              " 13                0.049245          56.854651            1       True   \n",
              " 14                2.424638          39.566860            1       True   \n",
              " 15                0.277254         105.687420            1       True   \n",
              " 16                1.454725         131.312183            1       True   \n",
              " 17                0.103017           0.039295            1       True   \n",
              " 18                0.111168           0.047517            1       True   \n",
              " \n",
              "     fit_order  \n",
              " 0          19  \n",
              " 1          17  \n",
              " 2          12  \n",
              " 3          15  \n",
              " 4          13  \n",
              " 5          16  \n",
              " 6          18  \n",
              " 7          11  \n",
              " 8           5  \n",
              " 9          14  \n",
              " 10          7  \n",
              " 11          4  \n",
              " 12          9  \n",
              " 13          6  \n",
              " 14          3  \n",
              " 15          8  \n",
              " 16         10  \n",
              " 17          1  \n",
              " 18          2  }"
            ]
          },
          "execution_count": 12,
          "metadata": {},
          "output_type": "execute_result"
        }
      ],
      "source": [
        "predictor.fit_summary()"
      ]
    },
    {
      "cell_type": "markdown",
      "metadata": {
        "id": "UGre-2EH9BlQ"
      },
      "source": [
        "### Create predictions from test dataset"
      ]
    },
    {
      "cell_type": "code",
      "execution_count": null,
      "metadata": {
        "id": "dXBkQ8L99BlQ",
        "outputId": "e1ef0259-adc6-446a-8410-caf521e0b0eb"
      },
      "outputs": [
        {
          "data": {
            "text/plain": [
              "0     95.809006\n",
              "1     94.644409\n",
              "2     94.645439\n",
              "3    107.677139\n",
              "4    107.660126\n",
              "Name: count, dtype: float32"
            ]
          },
          "execution_count": 13,
          "metadata": {},
          "output_type": "execute_result"
        }
      ],
      "source": [
        "predictions = predictor.predict(test)\n",
        "predictions.head()"
      ]
    },
    {
      "cell_type": "markdown",
      "metadata": {
        "id": "VJOAvGEl9BlR"
      },
      "source": [
        "#### NOTE: Kaggle will reject the submission if we don't set everything to be > 0."
      ]
    },
    {
      "cell_type": "code",
      "execution_count": null,
      "metadata": {
        "id": "LIsOPmPw9BlR",
        "outputId": "ffb8db71-2149-43b8-befb-0a98877e029b"
      },
      "outputs": [
        {
          "data": {
            "text/plain": [
              "False    6490\n",
              "True        3\n",
              "Name: count, dtype: int64"
            ]
          },
          "execution_count": 14,
          "metadata": {},
          "output_type": "execute_result"
        }
      ],
      "source": [
        "# Describe the `predictions` series to see if there are any negative values\n",
        "predictions.lt(0).value_counts()"
      ]
    },
    {
      "cell_type": "code",
      "execution_count": null,
      "metadata": {
        "id": "eAIZbVS-9BlR",
        "outputId": "30fe200a-1961-4317-9097-c5ffa75029b9"
      },
      "outputs": [
        {
          "data": {
            "text/plain": [
              "False    6493\n",
              "Name: count, dtype: int64"
            ]
          },
          "execution_count": 15,
          "metadata": {},
          "output_type": "execute_result"
        }
      ],
      "source": [
        "# How many negative values do we have?\n",
        "predictions.iloc[predictions<0] = 0\n",
        "predictions.lt(0).value_counts()"
      ]
    },
    {
      "cell_type": "code",
      "execution_count": null,
      "metadata": {
        "id": "3VHHziI-9BlR"
      },
      "outputs": [],
      "source": [
        "# Set them to zero\n",
        "submission[\"count\"] = predictions\n",
        "submission.to_csv(\"submission.csv\", index=False)"
      ]
    },
    {
      "cell_type": "markdown",
      "metadata": {
        "id": "AbTI4zcX9BlS"
      },
      "source": [
        "### Set predictions to submission dataframe, save, and submit"
      ]
    },
    {
      "cell_type": "code",
      "execution_count": null,
      "metadata": {
        "id": "mZFkCoM69BlS"
      },
      "outputs": [],
      "source": [
        "submission[\"count\"] = predictions\n",
        "submission.to_csv(\"submission.csv\", index=False)"
      ]
    },
    {
      "cell_type": "code",
      "execution_count": null,
      "metadata": {
        "id": "49JHMZOL9BlS",
        "outputId": "cd26fcb6-7289-4bbc-9d33-56129944dcd5"
      },
      "outputs": [
        {
          "name": "stdout",
          "output_type": "stream",
          "text": [
            "100%|█████████████████████████████████████████| 188k/188k [00:00<00:00, 552kB/s]\n",
            "Successfully submitted to Bike Sharing Demand"
          ]
        }
      ],
      "source": [
        "!kaggle competitions submit -c bike-sharing-demand -f submission.csv -m \"first raw submission\""
      ]
    },
    {
      "cell_type": "markdown",
      "metadata": {
        "id": "ScgaHBGc9BlS"
      },
      "source": [
        "#### View submission via the command line or in the web browser under the competition's page - `My Submissions`"
      ]
    },
    {
      "cell_type": "code",
      "execution_count": null,
      "metadata": {
        "id": "x4VGkXje9BlT",
        "outputId": "7836df66-8283-462b-b7f9-6d2799e30f28"
      },
      "outputs": [
        {
          "name": "stdout",
          "output_type": "stream",
          "text": [
            "fileName                     date                 description                        status    publicScore  privateScore  \n",
            "---------------------------  -------------------  ---------------------------------  --------  -----------  ------------  \n",
            "submission.csv               2022-01-22 21:42:10  first raw submission               complete  1.39377      1.39377       \n",
            "submission_new_hpo.csv       2022-01-22 20:30:12  new features with hyperparameters  complete  1.32740      1.32740       \n",
            "submission_new_features.csv  2022-01-22 20:10:51  new features                       complete  1.33883      1.33883       \n",
            "submission.csv               2022-01-22 19:51:46  first raw submission               complete  1.39281      1.39281       \n"
          ]
        }
      ],
      "source": [
        "!kaggle competitions submissions -c bike-sharing-demand | tail -n +1 | head -n 6"
      ]
    },
    {
      "cell_type": "markdown",
      "metadata": {
        "id": "xmBtAi5b9BlT"
      },
      "source": [
        "#### Initial score of `?`"
      ]
    },
    {
      "cell_type": "markdown",
      "metadata": {
        "id": "eTaqb_Cg9BlT"
      },
      "source": [
        "## Step 4: Exploratory Data Analysis and Creating an additional feature\n",
        "* Any additional feature will do, but a great suggestion would be to separate out the datetime into hour, day, or month parts."
      ]
    },
    {
      "cell_type": "code",
      "execution_count": null,
      "metadata": {
        "id": "QPqi_ij79BlT",
        "outputId": "d6fa482b-2c0b-4021-b8b9-4c9626fcde8e"
      },
      "outputs": [
        {
          "data": {
            "text/plain": [
              "array([[<matplotlib.axes._subplots.AxesSubplot object at 0x7fed69f39a50>,\n",
              "        <matplotlib.axes._subplots.AxesSubplot object at 0x7fed6b0b8d50>,\n",
              "        <matplotlib.axes._subplots.AxesSubplot object at 0x7fed69f52a90>],\n",
              "       [<matplotlib.axes._subplots.AxesSubplot object at 0x7fed69885810>,\n",
              "        <matplotlib.axes._subplots.AxesSubplot object at 0x7fed6b0c59d0>,\n",
              "        <matplotlib.axes._subplots.AxesSubplot object at 0x7fed69edecd0>],\n",
              "       [<matplotlib.axes._subplots.AxesSubplot object at 0x7fed6b369fd0>,\n",
              "        <matplotlib.axes._subplots.AxesSubplot object at 0x7fed69cf6310>,\n",
              "        <matplotlib.axes._subplots.AxesSubplot object at 0x7fed69cf6d90>],\n",
              "       [<matplotlib.axes._subplots.AxesSubplot object at 0x7fed69eaae10>,\n",
              "        <matplotlib.axes._subplots.AxesSubplot object at 0x7fed6b258c10>,\n",
              "        <matplotlib.axes._subplots.AxesSubplot object at 0x7fed69e81f10>]],\n",
              "      dtype=object)"
            ]
          },
          "execution_count": 23,
          "metadata": {},
          "output_type": "execute_result"
        },
        {
          "data": {
            "image/png": "[encoded data removed]",
            "text/plain": [
              "<Figure size 432x288 with 12 Axes>"
            ]
          },
          "metadata": {
            "needs_background": "light"
          },
          "output_type": "display_data"
        }
      ],
      "source": [
        "# Create a histogram of all features to show the distribution of each one relative to the data. This is part of the exploritory data analysis\n",
        "train.hist()"
      ]
    },
    {
      "cell_type": "code",
      "execution_count": null,
      "metadata": {
        "id": "omAi_9TG9BlT",
        "outputId": "b4fdb93e-8365-4373-a273-53a79c25965c"
      },
      "outputs": [
        {
          "data": {
            "text/html": [
              "<div>\n",
              "<style scoped>\n",
              "    .dataframe tbody tr th:only-of-type {\n",
              "        vertical-align: middle;\n",
              "    }\n",
              "\n",
              "    .dataframe tbody tr th {\n",
              "        vertical-align: top;\n",
              "    }\n",
              "\n",
              "    .dataframe thead th {\n",
              "        text-align: right;\n",
              "    }\n",
              "</style>\n",
              "<table border=\"1\" class=\"dataframe\">\n",
              "  <thead>\n",
              "    <tr style=\"text-align: right;\">\n",
              "      <th></th>\n",
              "      <th>season</th>\n",
              "      <th>holiday</th>\n",
              "      <th>workingday</th>\n",
              "      <th>weather</th>\n",
              "      <th>temp</th>\n",
              "      <th>atemp</th>\n",
              "      <th>humidity</th>\n",
              "      <th>windspeed</th>\n",
              "      <th>year</th>\n",
              "      <th>month</th>\n",
              "      <th>day</th>\n",
              "    </tr>\n",
              "  </thead>\n",
              "  <tbody>\n",
              "    <tr>\n",
              "      <th>0</th>\n",
              "      <td>1</td>\n",
              "      <td>0</td>\n",
              "      <td>1</td>\n",
              "      <td>1</td>\n",
              "      <td>10.66</td>\n",
              "      <td>11.365</td>\n",
              "      <td>56</td>\n",
              "      <td>26.0027</td>\n",
              "      <td>2011</td>\n",
              "      <td>1</td>\n",
              "      <td>20</td>\n",
              "    </tr>\n",
              "    <tr>\n",
              "      <th>1</th>\n",
              "      <td>1</td>\n",
              "      <td>0</td>\n",
              "      <td>1</td>\n",
              "      <td>1</td>\n",
              "      <td>10.66</td>\n",
              "      <td>13.635</td>\n",
              "      <td>56</td>\n",
              "      <td>0.0000</td>\n",
              "      <td>2011</td>\n",
              "      <td>1</td>\n",
              "      <td>20</td>\n",
              "    </tr>\n",
              "    <tr>\n",
              "      <th>2</th>\n",
              "      <td>1</td>\n",
              "      <td>0</td>\n",
              "      <td>1</td>\n",
              "      <td>1</td>\n",
              "      <td>10.66</td>\n",
              "      <td>13.635</td>\n",
              "      <td>56</td>\n",
              "      <td>0.0000</td>\n",
              "      <td>2011</td>\n",
              "      <td>1</td>\n",
              "      <td>20</td>\n",
              "    </tr>\n",
              "    <tr>\n",
              "      <th>3</th>\n",
              "      <td>1</td>\n",
              "      <td>0</td>\n",
              "      <td>1</td>\n",
              "      <td>1</td>\n",
              "      <td>10.66</td>\n",
              "      <td>12.880</td>\n",
              "      <td>56</td>\n",
              "      <td>11.0014</td>\n",
              "      <td>2011</td>\n",
              "      <td>1</td>\n",
              "      <td>20</td>\n",
              "    </tr>\n",
              "    <tr>\n",
              "      <th>4</th>\n",
              "      <td>1</td>\n",
              "      <td>0</td>\n",
              "      <td>1</td>\n",
              "      <td>1</td>\n",
              "      <td>10.66</td>\n",
              "      <td>12.880</td>\n",
              "      <td>56</td>\n",
              "      <td>11.0014</td>\n",
              "      <td>2011</td>\n",
              "      <td>1</td>\n",
              "      <td>20</td>\n",
              "    </tr>\n",
              "  </tbody>\n",
              "</table>\n",
              "</div>"
            ],
            "text/plain": [
              "   season  holiday  workingday  weather   temp   atemp  humidity  windspeed  \\\n",
              "0       1        0           1        1  10.66  11.365        56    26.0027   \n",
              "1       1        0           1        1  10.66  13.635        56     0.0000   \n",
              "2       1        0           1        1  10.66  13.635        56     0.0000   \n",
              "3       1        0           1        1  10.66  12.880        56    11.0014   \n",
              "4       1        0           1        1  10.66  12.880        56    11.0014   \n",
              "\n",
              "   year  month  day  \n",
              "0  2011      1   20  \n",
              "1  2011      1   20  \n",
              "2  2011      1   20  \n",
              "3  2011      1   20  \n",
              "4  2011      1   20  "
            ]
          },
          "execution_count": 24,
          "metadata": {},
          "output_type": "execute_result"
        }
      ],
      "source": [
        "# create a new feature\n",
        "train[\"year\"] = train.datetime.dt.year\n",
        "train[\"month\"] = train.datetime.dt.month\n",
        "train[\"day\"] = train.datetime.dt.day\n",
        "train.drop([\"datetime\"], axis=1, inplace=True)\n",
        "\n",
        "test[\"year\"] = test.datetime.dt.year\n",
        "test[\"month\"] = test.datetime.dt.month\n",
        "test[\"day\"] = test.datetime.dt.day\n",
        "test.drop([\"datetime\"], axis=1, inplace=True)\n",
        "\n",
        "train.head()\n",
        "test.head()"
      ]
    },
    {
      "cell_type": "markdown",
      "metadata": {
        "id": "wQLkzKPQ9BlU"
      },
      "source": [
        "## Make category types for these so models know they are not just numbers\n",
        "* AutoGluon originally sees these as ints, but in reality they are int representations of a category.\n",
        "* Setting the dtype to category will classify these as categories in AutoGluon."
      ]
    },
    {
      "cell_type": "code",
      "execution_count": null,
      "metadata": {
        "id": "zN3lY4NR9BlU"
      },
      "outputs": [],
      "source": [
        "train[\"season\"] = train[\"season\"].astype(\"category\")\n",
        "train[\"weather\"] = train[\"weather\"].astype(\"category\")\n",
        "test[\"season\"] = test[\"season\"].astype(\"category\")\n",
        "test[\"weather\"] = test[\"weather\"].astype(\"category\")"
      ]
    },
    {
      "cell_type": "code",
      "execution_count": null,
      "metadata": {
        "id": "_vu5m7c_9BlU",
        "outputId": "d69a7a63-6675-4fd8-9ad3-ab0248aa8519"
      },
      "outputs": [
        {
          "data": {
            "text/html": [
              "<div>\n",
              "<style scoped>\n",
              "    .dataframe tbody tr th:only-of-type {\n",
              "        vertical-align: middle;\n",
              "    }\n",
              "\n",
              "    .dataframe tbody tr th {\n",
              "        vertical-align: top;\n",
              "    }\n",
              "\n",
              "    .dataframe thead th {\n",
              "        text-align: right;\n",
              "    }\n",
              "</style>\n",
              "<table border=\"1\" class=\"dataframe\">\n",
              "  <thead>\n",
              "    <tr style=\"text-align: right;\">\n",
              "      <th></th>\n",
              "      <th>season</th>\n",
              "      <th>holiday</th>\n",
              "      <th>workingday</th>\n",
              "      <th>weather</th>\n",
              "      <th>temp</th>\n",
              "      <th>atemp</th>\n",
              "      <th>humidity</th>\n",
              "      <th>windspeed</th>\n",
              "      <th>casual</th>\n",
              "      <th>registered</th>\n",
              "      <th>count</th>\n",
              "      <th>year</th>\n",
              "      <th>month</th>\n",
              "      <th>day</th>\n",
              "    </tr>\n",
              "  </thead>\n",
              "  <tbody>\n",
              "    <tr>\n",
              "      <th>0</th>\n",
              "      <td>1</td>\n",
              "      <td>0</td>\n",
              "      <td>0</td>\n",
              "      <td>1</td>\n",
              "      <td>9.84</td>\n",
              "      <td>14.395</td>\n",
              "      <td>81</td>\n",
              "      <td>0.0</td>\n",
              "      <td>3</td>\n",
              "      <td>13</td>\n",
              "      <td>16</td>\n",
              "      <td>2011</td>\n",
              "      <td>1</td>\n",
              "      <td>1</td>\n",
              "    </tr>\n",
              "    <tr>\n",
              "      <th>1</th>\n",
              "      <td>1</td>\n",
              "      <td>0</td>\n",
              "      <td>0</td>\n",
              "      <td>1</td>\n",
              "      <td>9.02</td>\n",
              "      <td>13.635</td>\n",
              "      <td>80</td>\n",
              "      <td>0.0</td>\n",
              "      <td>8</td>\n",
              "      <td>32</td>\n",
              "      <td>40</td>\n",
              "      <td>2011</td>\n",
              "      <td>1</td>\n",
              "      <td>1</td>\n",
              "    </tr>\n",
              "    <tr>\n",
              "      <th>2</th>\n",
              "      <td>1</td>\n",
              "      <td>0</td>\n",
              "      <td>0</td>\n",
              "      <td>1</td>\n",
              "      <td>9.02</td>\n",
              "      <td>13.635</td>\n",
              "      <td>80</td>\n",
              "      <td>0.0</td>\n",
              "      <td>5</td>\n",
              "      <td>27</td>\n",
              "      <td>32</td>\n",
              "      <td>2011</td>\n",
              "      <td>1</td>\n",
              "      <td>1</td>\n",
              "    </tr>\n",
              "    <tr>\n",
              "      <th>3</th>\n",
              "      <td>1</td>\n",
              "      <td>0</td>\n",
              "      <td>0</td>\n",
              "      <td>1</td>\n",
              "      <td>9.84</td>\n",
              "      <td>14.395</td>\n",
              "      <td>75</td>\n",
              "      <td>0.0</td>\n",
              "      <td>3</td>\n",
              "      <td>10</td>\n",
              "      <td>13</td>\n",
              "      <td>2011</td>\n",
              "      <td>1</td>\n",
              "      <td>1</td>\n",
              "    </tr>\n",
              "    <tr>\n",
              "      <th>4</th>\n",
              "      <td>1</td>\n",
              "      <td>0</td>\n",
              "      <td>0</td>\n",
              "      <td>1</td>\n",
              "      <td>9.84</td>\n",
              "      <td>14.395</td>\n",
              "      <td>75</td>\n",
              "      <td>0.0</td>\n",
              "      <td>0</td>\n",
              "      <td>1</td>\n",
              "      <td>1</td>\n",
              "      <td>2011</td>\n",
              "      <td>1</td>\n",
              "      <td>1</td>\n",
              "    </tr>\n",
              "  </tbody>\n",
              "</table>\n",
              "</div>"
            ],
            "text/plain": [
              "  season  holiday  workingday weather  temp   atemp  humidity  windspeed  \\\n",
              "0      1        0           0       1  9.84  14.395        81        0.0   \n",
              "1      1        0           0       1  9.02  13.635        80        0.0   \n",
              "2      1        0           0       1  9.02  13.635        80        0.0   \n",
              "3      1        0           0       1  9.84  14.395        75        0.0   \n",
              "4      1        0           0       1  9.84  14.395        75        0.0   \n",
              "\n",
              "   casual  registered  count  year  month  day  \n",
              "0       3          13     16  2011      1    1  \n",
              "1       8          32     40  2011      1    1  \n",
              "2       5          27     32  2011      1    1  \n",
              "3       3          10     13  2011      1    1  \n",
              "4       0           1      1  2011      1    1  "
            ]
          },
          "execution_count": 26,
          "metadata": {},
          "output_type": "execute_result"
        }
      ],
      "source": [
        "# View are new feature\n",
        "train.head()"
      ]
    },
    {
      "cell_type": "code",
      "execution_count": null,
      "metadata": {
        "id": "-t6pNOVW9BlU",
        "outputId": "b82c3112-1f11-430a-9de9-23de9e9f62bd"
      },
      "outputs": [
        {
          "data": {
            "text/plain": [
              "array([[<matplotlib.axes._subplots.AxesSubplot object at 0x7fed69e45550>,\n",
              "        <matplotlib.axes._subplots.AxesSubplot object at 0x7fed6c5d7290>,\n",
              "        <matplotlib.axes._subplots.AxesSubplot object at 0x7fed6c58f810>],\n",
              "       [<matplotlib.axes._subplots.AxesSubplot object at 0x7fed6c543a90>,\n",
              "        <matplotlib.axes._subplots.AxesSubplot object at 0x7fed6c577d90>,\n",
              "        <matplotlib.axes._subplots.AxesSubplot object at 0x7fed6c538b50>],\n",
              "       [<matplotlib.axes._subplots.AxesSubplot object at 0x7fed6c4ece90>,\n",
              "        <matplotlib.axes._subplots.AxesSubplot object at 0x7fed6c4a46d0>,\n",
              "        <matplotlib.axes._subplots.AxesSubplot object at 0x7fed6c4af190>],\n",
              "       [<matplotlib.axes._subplots.AxesSubplot object at 0x7fed6c4645d0>,\n",
              "        <matplotlib.axes._subplots.AxesSubplot object at 0x7fed6c3c3fd0>,\n",
              "        <matplotlib.axes._subplots.AxesSubplot object at 0x7fed6c385d90>]],\n",
              "      dtype=object)"
            ]
          },
          "execution_count": 27,
          "metadata": {},
          "output_type": "execute_result"
        },
        {
          "data": {
            "image/png": "[encoded data removed]",
            "text/plain": [
              "<Figure size 432x288 with 12 Axes>"
            ]
          },
          "metadata": {
            "needs_background": "light"
          },
          "output_type": "display_data"
        }
      ],
      "source": [
        "# View histogram of all features again now with the hour feature\n",
        "train.hist()"
      ]
    },
    {
      "cell_type": "markdown",
      "metadata": {
        "id": "4N8z8dS79BlU"
      },
      "source": [
        "## Step 5: Rerun the model with the same settings as before, just with more features"
      ]
    },
    {
      "cell_type": "code",
      "execution_count": null,
      "metadata": {
        "id": "otwCPeij9BlU",
        "outputId": "d45c20a5-a4a9-4d1c-8098-ca46386dfc6e"
      },
      "outputs": [
        {
          "name": "stderr",
          "output_type": "stream",
          "text": [
            "No path specified. Models will be saved in: \"AutogluonModels/ag-20220122_214238/\"\n",
            "Presets specified: ['best_quality']\n",
            "Beginning AutoGluon training ... Time limit = 600s\n",
            "AutoGluon will save models to \"AutogluonModels/ag-20220122_214238/\"\n",
            "AutoGluon Version:  0.3.1\n",
            "Train Data Rows:    10886\n",
            "Train Data Columns: 13\n",
            "Preprocessing data ...\n",
            "AutoGluon infers your prediction problem is: 'regression' (because dtype of label-column == int and many unique label-values observed).\n",
            "\tLabel info (max, min, mean, stddev): (977, 1, 191.57413, 181.14445)\n",
            "\tIf 'regression' is not the correct problem_type, please manually specify the problem_type argument in fit() (You may specify problem_type as one of: ['binary', 'multiclass', 'regression'])\n",
            "Using Feature Generators to preprocess the data ...\n",
            "Dropping user-specified ignored columns: ['casual', 'registered']\n",
            "Fitting AutoMLPipelineFeatureGenerator...\n",
            "\tAvailable Memory:                    2004.41 MB\n",
            "\tTrain Data (Original)  Memory Usage: 0.81 MB (0.0% of available memory)\n",
            "\tInferring data type of each feature based on column values. Set feature_metadata_in to manually specify special dtypes of the features.\n",
            "\tStage 1 Generators:\n",
            "\t\tFitting AsTypeFeatureGenerator...\n",
            "\t\t\tNote: Converting 3 features to boolean dtype as they only contain 2 unique values.\n",
            "\tStage 2 Generators:\n",
            "\t\tFitting FillNaFeatureGenerator...\n",
            "\tStage 3 Generators:\n",
            "\t\tFitting IdentityFeatureGenerator...\n",
            "\t\tFitting CategoryFeatureGenerator...\n",
            "\t\t\tFitting CategoryMemoryMinimizeFeatureGenerator...\n",
            "\tStage 4 Generators:\n",
            "\t\tFitting DropUniqueFeatureGenerator...\n",
            "\tTypes of features in original data (raw dtype, special dtypes):\n",
            "\t\t('category', []) : 2 | ['season', 'weather']\n",
            "\t\t('float', [])    : 3 | ['temp', 'atemp', 'windspeed']\n",
            "\t\t('int', [])      : 6 | ['holiday', 'workingday', 'humidity', 'year', 'month', ...]\n",
            "\tTypes of features in processed data (raw dtype, special dtypes):\n",
            "\t\t('category', [])  : 2 | ['season', 'weather']\n",
            "\t\t('float', [])     : 3 | ['temp', 'atemp', 'windspeed']\n",
            "\t\t('int', [])       : 3 | ['humidity', 'month', 'day']\n",
            "\t\t('int', ['bool']) : 3 | ['holiday', 'workingday', 'year']\n",
            "\t0.2s = Fit runtime\n",
            "\t11 features in original data used to generate 11 features in processed data.\n",
            "\tTrain Data (Processed) Memory Usage: 0.58 MB (0.0% of available memory)\n",
            "Data preprocessing and feature engineering runtime = 0.22s ...\n",
            "AutoGluon will gauge predictive performance using evaluation metric: 'root_mean_squared_error'\n",
            "\tTo change this, specify the eval_metric argument of fit()\n",
            "AutoGluon will fit 2 stack levels (L1 to L2) ...\n",
            "Fitting 11 L1 models ...\n",
            "Fitting model: KNeighborsUnif_BAG_L1 ... Training model for up to 399.75s of the 599.77s of remaining time.\n",
            "\t-154.0849\t = Validation score   (root_mean_squared_error)\n",
            "\t0.03s\t = Training   runtime\n",
            "\t0.21s\t = Validation runtime\n",
            "Fitting model: KNeighborsDist_BAG_L1 ... Training model for up to 399.26s of the 599.29s of remaining time.\n",
            "\t-154.195\t = Validation score   (root_mean_squared_error)\n",
            "\t0.02s\t = Training   runtime\n",
            "\t0.1s\t = Validation runtime\n",
            "Fitting model: LightGBMXT_BAG_L1 ... Training model for up to 398.89s of the 598.91s of remaining time.\n",
            "/opt/conda/lib/python3.7/site-packages/lightgbm/engine.py:239: UserWarning: 'verbose_eval' argument is deprecated and will be removed in a future release of LightGBM. Pass 'log_evaluation()' callback via 'callbacks' argument instead.\n",
            "  _log_warning(\"'verbose_eval' argument is deprecated and will be removed in a future release of LightGBM. \"\n"
          ]
        },
        {
          "name": "stdout",
          "output_type": "stream",
          "text": [
            "[1000]\ttrain_set's rmse: 114.553\tvalid_set's rmse: 131.012\n",
            "[2000]\ttrain_set's rmse: 105.161\tvalid_set's rmse: 130.304\n"
          ]
        },
        {
          "name": "stderr",
          "output_type": "stream",
          "text": [
            "/opt/conda/lib/python3.7/site-packages/lightgbm/engine.py:239: UserWarning: 'verbose_eval' argument is deprecated and will be removed in a future release of LightGBM. Pass 'log_evaluation()' callback via 'callbacks' argument instead.\n",
            "  _log_warning(\"'verbose_eval' argument is deprecated and will be removed in a future release of LightGBM. \"\n",
            "/opt/conda/lib/python3.7/site-packages/lightgbm/engine.py:239: UserWarning: 'verbose_eval' argument is deprecated and will be removed in a future release of LightGBM. Pass 'log_evaluation()' callback via 'callbacks' argument instead.\n",
            "  _log_warning(\"'verbose_eval' argument is deprecated and will be removed in a future release of LightGBM. \"\n"
          ]
        },
        {
          "name": "stdout",
          "output_type": "stream",
          "text": [
            "[1000]\ttrain_set's rmse: 115.279\tvalid_set's rmse: 125.727\n"
          ]
        },
        {
          "name": "stderr",
          "output_type": "stream",
          "text": [
            "/opt/conda/lib/python3.7/site-packages/lightgbm/engine.py:239: UserWarning: 'verbose_eval' argument is deprecated and will be removed in a future release of LightGBM. Pass 'log_evaluation()' callback via 'callbacks' argument instead.\n",
            "  _log_warning(\"'verbose_eval' argument is deprecated and will be removed in a future release of LightGBM. \"\n"
          ]
        },
        {
          "name": "stdout",
          "output_type": "stream",
          "text": [
            "[1000]\ttrain_set's rmse: 114.403\tvalid_set's rmse: 136.06\n",
            "[2000]\ttrain_set's rmse: 105.36\tvalid_set's rmse: 134.86\n"
          ]
        },
        {
          "name": "stderr",
          "output_type": "stream",
          "text": [
            "/opt/conda/lib/python3.7/site-packages/lightgbm/engine.py:239: UserWarning: 'verbose_eval' argument is deprecated and will be removed in a future release of LightGBM. Pass 'log_evaluation()' callback via 'callbacks' argument instead.\n",
            "  _log_warning(\"'verbose_eval' argument is deprecated and will be removed in a future release of LightGBM. \"\n"
          ]
        },
        {
          "name": "stdout",
          "output_type": "stream",
          "text": [
            "[1000]\ttrain_set's rmse: 115.307\tvalid_set's rmse: 124.531\n",
            "[2000]\ttrain_set's rmse: 105.986\tvalid_set's rmse: 123.642\n",
            "[3000]\ttrain_set's rmse: 99.8247\tvalid_set's rmse: 123.331\n"
          ]
        },
        {
          "name": "stderr",
          "output_type": "stream",
          "text": [
            "/opt/conda/lib/python3.7/site-packages/lightgbm/engine.py:239: UserWarning: 'verbose_eval' argument is deprecated and will be removed in a future release of LightGBM. Pass 'log_evaluation()' callback via 'callbacks' argument instead.\n",
            "  _log_warning(\"'verbose_eval' argument is deprecated and will be removed in a future release of LightGBM. \"\n"
          ]
        },
        {
          "name": "stdout",
          "output_type": "stream",
          "text": [
            "[1000]\ttrain_set's rmse: 114.565\tvalid_set's rmse: 132.059\n",
            "[2000]\ttrain_set's rmse: 105.685\tvalid_set's rmse: 130.388\n",
            "[3000]\ttrain_set's rmse: 99.5744\tvalid_set's rmse: 129.932\n",
            "[4000]\ttrain_set's rmse: 94.9464\tvalid_set's rmse: 129.883\n"
          ]
        },
        {
          "name": "stderr",
          "output_type": "stream",
          "text": [
            "/opt/conda/lib/python3.7/site-packages/lightgbm/engine.py:239: UserWarning: 'verbose_eval' argument is deprecated and will be removed in a future release of LightGBM. Pass 'log_evaluation()' callback via 'callbacks' argument instead.\n",
            "  _log_warning(\"'verbose_eval' argument is deprecated and will be removed in a future release of LightGBM. \"\n"
          ]
        },
        {
          "name": "stdout",
          "output_type": "stream",
          "text": [
            "[1000]\ttrain_set's rmse: 114.565\tvalid_set's rmse: 136.657\n",
            "[2000]\ttrain_set's rmse: 105.361\tvalid_set's rmse: 135.309\n",
            "[3000]\ttrain_set's rmse: 99.2815\tvalid_set's rmse: 134.929\n",
            "[4000]\ttrain_set's rmse: 94.4922\tvalid_set's rmse: 134.638\n",
            "[5000]\ttrain_set's rmse: 90.6494\tvalid_set's rmse: 134.833\n"
          ]
        },
        {
          "name": "stderr",
          "output_type": "stream",
          "text": [
            "/opt/conda/lib/python3.7/site-packages/lightgbm/engine.py:239: UserWarning: 'verbose_eval' argument is deprecated and will be removed in a future release of LightGBM. Pass 'log_evaluation()' callback via 'callbacks' argument instead.\n",
            "  _log_warning(\"'verbose_eval' argument is deprecated and will be removed in a future release of LightGBM. \"\n"
          ]
        },
        {
          "name": "stdout",
          "output_type": "stream",
          "text": [
            "[1000]\ttrain_set's rmse: 114.598\tvalid_set's rmse: 132.388\n",
            "[2000]\ttrain_set's rmse: 105.454\tvalid_set's rmse: 131.489\n"
          ]
        },
        {
          "name": "stderr",
          "output_type": "stream",
          "text": [
            "/opt/conda/lib/python3.7/site-packages/lightgbm/engine.py:239: UserWarning: 'verbose_eval' argument is deprecated and will be removed in a future release of LightGBM. Pass 'log_evaluation()' callback via 'callbacks' argument instead.\n",
            "  _log_warning(\"'verbose_eval' argument is deprecated and will be removed in a future release of LightGBM. \"\n"
          ]
        },
        {
          "name": "stdout",
          "output_type": "stream",
          "text": [
            "[1000]\ttrain_set's rmse: 114.081\tvalid_set's rmse: 134.266\n"
          ]
        },
        {
          "name": "stderr",
          "output_type": "stream",
          "text": [
            "/opt/conda/lib/python3.7/site-packages/lightgbm/engine.py:239: UserWarning: 'verbose_eval' argument is deprecated and will be removed in a future release of LightGBM. Pass 'log_evaluation()' callback via 'callbacks' argument instead.\n",
            "  _log_warning(\"'verbose_eval' argument is deprecated and will be removed in a future release of LightGBM. \"\n"
          ]
        },
        {
          "name": "stdout",
          "output_type": "stream",
          "text": [
            "[1000]\ttrain_set's rmse: 114.958\tvalid_set's rmse: 130.237\n",
            "[2000]\ttrain_set's rmse: 105.662\tvalid_set's rmse: 129.288\n"
          ]
        },
        {
          "name": "stderr",
          "output_type": "stream",
          "text": [
            "\t-131.2704\t = Validation score   (root_mean_squared_error)\n",
            "\t39.84s\t = Training   runtime\n",
            "\t1.98s\t = Validation runtime\n",
            "Fitting model: LightGBM_BAG_L1 ... Training model for up to 351.84s of the 551.87s of remaining time.\n",
            "/opt/conda/lib/python3.7/site-packages/lightgbm/engine.py:239: UserWarning: 'verbose_eval' argument is deprecated and will be removed in a future release of LightGBM. Pass 'log_evaluation()' callback via 'callbacks' argument instead.\n",
            "  _log_warning(\"'verbose_eval' argument is deprecated and will be removed in a future release of LightGBM. \"\n",
            "/opt/conda/lib/python3.7/site-packages/lightgbm/engine.py:239: UserWarning: 'verbose_eval' argument is deprecated and will be removed in a future release of LightGBM. Pass 'log_evaluation()' callback via 'callbacks' argument instead.\n",
            "  _log_warning(\"'verbose_eval' argument is deprecated and will be removed in a future release of LightGBM. \"\n",
            "/opt/conda/lib/python3.7/site-packages/lightgbm/engine.py:239: UserWarning: 'verbose_eval' argument is deprecated and will be removed in a future release of LightGBM. Pass 'log_evaluation()' callback via 'callbacks' argument instead.\n",
            "  _log_warning(\"'verbose_eval' argument is deprecated and will be removed in a future release of LightGBM. \"\n"
          ]
        },
        {
          "name": "stdout",
          "output_type": "stream",
          "text": [
            "[1000]\ttrain_set's rmse: 94.0584\tvalid_set's rmse: 124.822\n"
          ]
        },
        {
          "name": "stderr",
          "output_type": "stream",
          "text": [
            "/opt/conda/lib/python3.7/site-packages/lightgbm/engine.py:239: UserWarning: 'verbose_eval' argument is deprecated and will be removed in a future release of LightGBM. Pass 'log_evaluation()' callback via 'callbacks' argument instead.\n",
            "  _log_warning(\"'verbose_eval' argument is deprecated and will be removed in a future release of LightGBM. \"\n"
          ]
        },
        {
          "name": "stdout",
          "output_type": "stream",
          "text": [
            "[1000]\ttrain_set's rmse: 94.1633\tvalid_set's rmse: 135.971\n"
          ]
        },
        {
          "name": "stderr",
          "output_type": "stream",
          "text": [
            "/opt/conda/lib/python3.7/site-packages/lightgbm/engine.py:239: UserWarning: 'verbose_eval' argument is deprecated and will be removed in a future release of LightGBM. Pass 'log_evaluation()' callback via 'callbacks' argument instead.\n",
            "  _log_warning(\"'verbose_eval' argument is deprecated and will be removed in a future release of LightGBM. \"\n",
            "/opt/conda/lib/python3.7/site-packages/lightgbm/engine.py:239: UserWarning: 'verbose_eval' argument is deprecated and will be removed in a future release of LightGBM. Pass 'log_evaluation()' callback via 'callbacks' argument instead.\n",
            "  _log_warning(\"'verbose_eval' argument is deprecated and will be removed in a future release of LightGBM. \"\n",
            "/opt/conda/lib/python3.7/site-packages/lightgbm/engine.py:239: UserWarning: 'verbose_eval' argument is deprecated and will be removed in a future release of LightGBM. Pass 'log_evaluation()' callback via 'callbacks' argument instead.\n",
            "  _log_warning(\"'verbose_eval' argument is deprecated and will be removed in a future release of LightGBM. \"\n",
            "/opt/conda/lib/python3.7/site-packages/lightgbm/engine.py:239: UserWarning: 'verbose_eval' argument is deprecated and will be removed in a future release of LightGBM. Pass 'log_evaluation()' callback via 'callbacks' argument instead.\n",
            "  _log_warning(\"'verbose_eval' argument is deprecated and will be removed in a future release of LightGBM. \"\n",
            "/opt/conda/lib/python3.7/site-packages/lightgbm/engine.py:239: UserWarning: 'verbose_eval' argument is deprecated and will be removed in a future release of LightGBM. Pass 'log_evaluation()' callback via 'callbacks' argument instead.\n",
            "  _log_warning(\"'verbose_eval' argument is deprecated and will be removed in a future release of LightGBM. \"\n",
            "/opt/conda/lib/python3.7/site-packages/lightgbm/engine.py:239: UserWarning: 'verbose_eval' argument is deprecated and will be removed in a future release of LightGBM. Pass 'log_evaluation()' callback via 'callbacks' argument instead.\n",
            "  _log_warning(\"'verbose_eval' argument is deprecated and will be removed in a future release of LightGBM. \"\n",
            "\t-132.5918\t = Validation score   (root_mean_squared_error)\n",
            "\t12.22s\t = Training   runtime\n",
            "\t0.42s\t = Validation runtime\n",
            "Fitting model: RandomForestMSE_BAG_L1 ... Training model for up to 337.32s of the 537.34s of remaining time.\n",
            "\t-131.4932\t = Validation score   (root_mean_squared_error)\n",
            "\t6.41s\t = Training   runtime\n",
            "\t0.4s\t = Validation runtime\n",
            "Fitting model: CatBoost_BAG_L1 ... Training model for up to 328.3s of the 528.32s of remaining time.\n",
            "\t-133.4768\t = Validation score   (root_mean_squared_error)\n",
            "\t138.0s\t = Training   runtime\n",
            "\t0.1s\t = Validation runtime\n",
            "Fitting model: ExtraTreesMSE_BAG_L1 ... Training model for up to 189.38s of the 389.4s of remaining time.\n",
            "\t-130.5551\t = Validation score   (root_mean_squared_error)\n",
            "\t3.21s\t = Training   runtime\n",
            "\t0.37s\t = Validation runtime\n",
            "Fitting model: NeuralNetFastAI_BAG_L1 ... Training model for up to 183.58s of the 383.6s of remaining time.\n",
            "\tRan out of time, stopping training early. (Stopping on epoch 23)\n",
            "\tRan out of time, stopping training early. (Stopping on epoch 24)\n",
            "\tRan out of time, stopping training early. (Stopping on epoch 24)\n",
            "\tRan out of time, stopping training early. (Stopping on epoch 23)\n",
            "\tRan out of time, stopping training early. (Stopping on epoch 26)\n",
            "\tRan out of time, stopping training early. (Stopping on epoch 27)\n",
            "\tRan out of time, stopping training early. (Stopping on epoch 28)\n",
            "\t-135.1331\t = Validation score   (root_mean_squared_error)\n",
            "\t165.32s\t = Training   runtime\n",
            "\t0.42s\t = Validation runtime\n",
            "Fitting model: XGBoost_BAG_L1 ... Training model for up to 17.07s of the 217.09s of remaining time.\n",
            "\t-133.8061\t = Validation score   (root_mean_squared_error)\n",
            "\t11.77s\t = Training   runtime\n",
            "\t0.16s\t = Validation runtime\n",
            "Fitting model: NeuralNetMXNet_BAG_L1 ... Training model for up to 3.58s of the 203.6s of remaining time.\n",
            "\tTime limit exceeded... Skipping NeuralNetMXNet_BAG_L1.\n",
            "Fitting model: LightGBMLarge_BAG_L1 ... Training model for up to 3.03s of the 203.05s of remaining time.\n",
            "/opt/conda/lib/python3.7/site-packages/lightgbm/engine.py:239: UserWarning: 'verbose_eval' argument is deprecated and will be removed in a future release of LightGBM. Pass 'log_evaluation()' callback via 'callbacks' argument instead.\n",
            "  _log_warning(\"'verbose_eval' argument is deprecated and will be removed in a future release of LightGBM. \"\n",
            "\tRan out of time, early stopping on iteration 21. Best iteration is:\n",
            "\t[21]\ttrain_set's rmse: 145.767\tvalid_set's rmse: 148.624\n",
            "\tTime limit exceeded... Skipping LightGBMLarge_BAG_L1.\n",
            "Completed 1/20 k-fold bagging repeats ...\n",
            "Fitting model: WeightedEnsemble_L2 ... Training model for up to 360.0s of the 202.62s of remaining time.\n",
            "\t-127.8207\t = Validation score   (root_mean_squared_error)\n",
            "\t0.33s\t = Training   runtime\n",
            "\t0.0s\t = Validation runtime\n",
            "Fitting 9 L2 models ...\n",
            "Fitting model: LightGBMXT_BAG_L2 ... Training model for up to 202.2s of the 202.16s of remaining time.\n",
            "/opt/conda/lib/python3.7/site-packages/lightgbm/engine.py:239: UserWarning: 'verbose_eval' argument is deprecated and will be removed in a future release of LightGBM. Pass 'log_evaluation()' callback via 'callbacks' argument instead.\n",
            "  _log_warning(\"'verbose_eval' argument is deprecated and will be removed in a future release of LightGBM. \"\n",
            "/opt/conda/lib/python3.7/site-packages/lightgbm/engine.py:239: UserWarning: 'verbose_eval' argument is deprecated and will be removed in a future release of LightGBM. Pass 'log_evaluation()' callback via 'callbacks' argument instead.\n",
            "  _log_warning(\"'verbose_eval' argument is deprecated and will be removed in a future release of LightGBM. \"\n",
            "/opt/conda/lib/python3.7/site-packages/lightgbm/engine.py:239: UserWarning: 'verbose_eval' argument is deprecated and will be removed in a future release of LightGBM. Pass 'log_evaluation()' callback via 'callbacks' argument instead.\n",
            "  _log_warning(\"'verbose_eval' argument is deprecated and will be removed in a future release of LightGBM. \"\n",
            "/opt/conda/lib/python3.7/site-packages/lightgbm/engine.py:239: UserWarning: 'verbose_eval' argument is deprecated and will be removed in a future release of LightGBM. Pass 'log_evaluation()' callback via 'callbacks' argument instead.\n",
            "  _log_warning(\"'verbose_eval' argument is deprecated and will be removed in a future release of LightGBM. \"\n",
            "/opt/conda/lib/python3.7/site-packages/lightgbm/engine.py:239: UserWarning: 'verbose_eval' argument is deprecated and will be removed in a future release of LightGBM. Pass 'log_evaluation()' callback via 'callbacks' argument instead.\n",
            "  _log_warning(\"'verbose_eval' argument is deprecated and will be removed in a future release of LightGBM. \"\n",
            "/opt/conda/lib/python3.7/site-packages/lightgbm/engine.py:239: UserWarning: 'verbose_eval' argument is deprecated and will be removed in a future release of LightGBM. Pass 'log_evaluation()' callback via 'callbacks' argument instead.\n",
            "  _log_warning(\"'verbose_eval' argument is deprecated and will be removed in a future release of LightGBM. \"\n",
            "/opt/conda/lib/python3.7/site-packages/lightgbm/engine.py:239: UserWarning: 'verbose_eval' argument is deprecated and will be removed in a future release of LightGBM. Pass 'log_evaluation()' callback via 'callbacks' argument instead.\n",
            "  _log_warning(\"'verbose_eval' argument is deprecated and will be removed in a future release of LightGBM. \"\n",
            "/opt/conda/lib/python3.7/site-packages/lightgbm/engine.py:239: UserWarning: 'verbose_eval' argument is deprecated and will be removed in a future release of LightGBM. Pass 'log_evaluation()' callback via 'callbacks' argument instead.\n",
            "  _log_warning(\"'verbose_eval' argument is deprecated and will be removed in a future release of LightGBM. \"\n",
            "/opt/conda/lib/python3.7/site-packages/lightgbm/engine.py:239: UserWarning: 'verbose_eval' argument is deprecated and will be removed in a future release of LightGBM. Pass 'log_evaluation()' callback via 'callbacks' argument instead.\n",
            "  _log_warning(\"'verbose_eval' argument is deprecated and will be removed in a future release of LightGBM. \"\n",
            "/opt/conda/lib/python3.7/site-packages/lightgbm/engine.py:239: UserWarning: 'verbose_eval' argument is deprecated and will be removed in a future release of LightGBM. Pass 'log_evaluation()' callback via 'callbacks' argument instead.\n",
            "  _log_warning(\"'verbose_eval' argument is deprecated and will be removed in a future release of LightGBM. \"\n",
            "\t-126.8795\t = Validation score   (root_mean_squared_error)\n",
            "\t7.68s\t = Training   runtime\n",
            "\t0.16s\t = Validation runtime\n",
            "Fitting model: LightGBM_BAG_L2 ... Training model for up to 193.73s of the 193.7s of remaining time.\n",
            "/opt/conda/lib/python3.7/site-packages/lightgbm/engine.py:239: UserWarning: 'verbose_eval' argument is deprecated and will be removed in a future release of LightGBM. Pass 'log_evaluation()' callback via 'callbacks' argument instead.\n",
            "  _log_warning(\"'verbose_eval' argument is deprecated and will be removed in a future release of LightGBM. \"\n",
            "/opt/conda/lib/python3.7/site-packages/lightgbm/engine.py:239: UserWarning: 'verbose_eval' argument is deprecated and will be removed in a future release of LightGBM. Pass 'log_evaluation()' callback via 'callbacks' argument instead.\n",
            "  _log_warning(\"'verbose_eval' argument is deprecated and will be removed in a future release of LightGBM. \"\n",
            "/opt/conda/lib/python3.7/site-packages/lightgbm/engine.py:239: UserWarning: 'verbose_eval' argument is deprecated and will be removed in a future release of LightGBM. Pass 'log_evaluation()' callback via 'callbacks' argument instead.\n",
            "  _log_warning(\"'verbose_eval' argument is deprecated and will be removed in a future release of LightGBM. \"\n",
            "/opt/conda/lib/python3.7/site-packages/lightgbm/engine.py:239: UserWarning: 'verbose_eval' argument is deprecated and will be removed in a future release of LightGBM. Pass 'log_evaluation()' callback via 'callbacks' argument instead.\n",
            "  _log_warning(\"'verbose_eval' argument is deprecated and will be removed in a future release of LightGBM. \"\n",
            "/opt/conda/lib/python3.7/site-packages/lightgbm/engine.py:239: UserWarning: 'verbose_eval' argument is deprecated and will be removed in a future release of LightGBM. Pass 'log_evaluation()' callback via 'callbacks' argument instead.\n",
            "  _log_warning(\"'verbose_eval' argument is deprecated and will be removed in a future release of LightGBM. \"\n",
            "/opt/conda/lib/python3.7/site-packages/lightgbm/engine.py:239: UserWarning: 'verbose_eval' argument is deprecated and will be removed in a future release of LightGBM. Pass 'log_evaluation()' callback via 'callbacks' argument instead.\n",
            "  _log_warning(\"'verbose_eval' argument is deprecated and will be removed in a future release of LightGBM. \"\n",
            "/opt/conda/lib/python3.7/site-packages/lightgbm/engine.py:239: UserWarning: 'verbose_eval' argument is deprecated and will be removed in a future release of LightGBM. Pass 'log_evaluation()' callback via 'callbacks' argument instead.\n",
            "  _log_warning(\"'verbose_eval' argument is deprecated and will be removed in a future release of LightGBM. \"\n",
            "/opt/conda/lib/python3.7/site-packages/lightgbm/engine.py:239: UserWarning: 'verbose_eval' argument is deprecated and will be removed in a future release of LightGBM. Pass 'log_evaluation()' callback via 'callbacks' argument instead.\n",
            "  _log_warning(\"'verbose_eval' argument is deprecated and will be removed in a future release of LightGBM. \"\n",
            "/opt/conda/lib/python3.7/site-packages/lightgbm/engine.py:239: UserWarning: 'verbose_eval' argument is deprecated and will be removed in a future release of LightGBM. Pass 'log_evaluation()' callback via 'callbacks' argument instead.\n",
            "  _log_warning(\"'verbose_eval' argument is deprecated and will be removed in a future release of LightGBM. \"\n",
            "/opt/conda/lib/python3.7/site-packages/lightgbm/engine.py:239: UserWarning: 'verbose_eval' argument is deprecated and will be removed in a future release of LightGBM. Pass 'log_evaluation()' callback via 'callbacks' argument instead.\n",
            "  _log_warning(\"'verbose_eval' argument is deprecated and will be removed in a future release of LightGBM. \"\n",
            "\t-127.4228\t = Validation score   (root_mean_squared_error)\n",
            "\t7.55s\t = Training   runtime\n",
            "\t0.12s\t = Validation runtime\n",
            "Fitting model: RandomForestMSE_BAG_L2 ... Training model for up to 185.5s of the 185.46s of remaining time.\n",
            "\t-129.1653\t = Validation score   (root_mean_squared_error)\n",
            "\t28.26s\t = Training   runtime\n",
            "\t0.81s\t = Validation runtime\n",
            "Fitting model: CatBoost_BAG_L2 ... Training model for up to 153.8s of the 153.76s of remaining time.\n",
            "\t-127.1419\t = Validation score   (root_mean_squared_error)\n",
            "\t33.48s\t = Training   runtime\n",
            "\t0.06s\t = Validation runtime\n",
            "Fitting model: ExtraTreesMSE_BAG_L2 ... Training model for up to 119.74s of the 119.71s of remaining time.\n",
            "\t-127.5481\t = Validation score   (root_mean_squared_error)\n",
            "\t6.42s\t = Training   runtime\n",
            "\t0.45s\t = Validation runtime\n",
            "Fitting model: NeuralNetFastAI_BAG_L2 ... Training model for up to 110.39s of the 110.36s of remaining time.\n",
            "\tRan out of time, stopping training early. (Stopping on epoch 13)\n",
            "\tRan out of time, stopping training early. (Stopping on epoch 12)\n",
            "\tRan out of time, stopping training early. (Stopping on epoch 14)\n",
            "\tRan out of time, stopping training early. (Stopping on epoch 14)\n",
            "\tRan out of time, stopping training early. (Stopping on epoch 15)\n",
            "\tRan out of time, stopping training early. (Stopping on epoch 16)\n",
            "\tRan out of time, stopping training early. (Stopping on epoch 16)\n",
            "\tRan out of time, stopping training early. (Stopping on epoch 16)\n",
            "\tRan out of time, stopping training early. (Stopping on epoch 20)\n",
            "\tRan out of time, stopping training early. (Stopping on epoch 24)\n",
            "\t-127.3519\t = Validation score   (root_mean_squared_error)\n",
            "\t105.63s\t = Training   runtime\n",
            "\t0.46s\t = Validation runtime\n",
            "Fitting model: XGBoost_BAG_L2 ... Training model for up to 3.56s of the 3.53s of remaining time.\n",
            "\tTime limit exceeded... Skipping XGBoost_BAG_L2.\n",
            "Fitting model: NeuralNetMXNet_BAG_L2 ... Training model for up to 3.12s of the 3.09s of remaining time.\n",
            "\tTime limit exceeded... Skipping NeuralNetMXNet_BAG_L2.\n",
            "Fitting model: LightGBMLarge_BAG_L2 ... Training model for up to 2.52s of the 2.49s of remaining time.\n",
            "/opt/conda/lib/python3.7/site-packages/lightgbm/engine.py:239: UserWarning: 'verbose_eval' argument is deprecated and will be removed in a future release of LightGBM. Pass 'log_evaluation()' callback via 'callbacks' argument instead.\n",
            "  _log_warning(\"'verbose_eval' argument is deprecated and will be removed in a future release of LightGBM. \"\n",
            "\tRan out of time, early stopping on iteration 2. Best iteration is:\n",
            "\t[2]\ttrain_set's rmse: 175.337\tvalid_set's rmse: 172.365\n",
            "\tTime limit exceeded... Skipping LightGBMLarge_BAG_L2.\n",
            "Completed 1/20 k-fold bagging repeats ...\n",
            "Fitting model: WeightedEnsemble_L3 ... Training model for up to 360.0s of the 2.13s of remaining time.\n",
            "\t-126.2513\t = Validation score   (root_mean_squared_error)\n",
            "\t0.24s\t = Training   runtime\n",
            "\t0.0s\t = Validation runtime\n",
            "AutoGluon training complete, total runtime = 598.35s ...\n",
            "TabularPredictor saved. To load, use: predictor = TabularPredictor.load(\"AutogluonModels/ag-20220122_214238/\")\n"
          ]
        }
      ],
      "source": [
        "predictor_new_features = TabularPredictor(label=\"count\", learner_kwargs={'ignored_columns': [\"casual\", \"registered\"]}).fit(\n",
        "    train_data=train, time_limit=600, presets=\"best_quality\"\n",
        ")"
      ]
    },
    {
      "cell_type": "code",
      "execution_count": null,
      "metadata": {
        "id": "iCTmwED09BlV",
        "outputId": "e962fbd7-d971-4624-fb75-73e5c260bb76"
      },
      "outputs": [
        {
          "name": "stdout",
          "output_type": "stream",
          "text": [
            "*** Summary of fit() ***\n",
            "Estimated performance of each model:\n",
            "                     model   score_val  pred_time_val    fit_time  pred_time_val_marginal  fit_time_marginal  stack_level  can_infer  fit_order\n",
            "0      WeightedEnsemble_L3 -126.251269       5.349639  504.346610                0.000602           0.235182            3       True         17\n",
            "1        LightGBMXT_BAG_L2 -126.879492       4.321084  384.505726                0.157390           7.677219            2       True         11\n",
            "2          CatBoost_BAG_L2 -127.141916       4.220661  410.309948                0.056967          33.481441            2       True         14\n",
            "3   NeuralNetFastAI_BAG_L2 -127.351876       4.619223  482.462566                0.455529         105.634058            2       True         16\n",
            "4          LightGBM_BAG_L2 -127.422847       4.286700  384.379559                0.123006           7.551052            2       True         12\n",
            "5     ExtraTreesMSE_BAG_L2 -127.548093       4.613111  383.249099                0.449417           6.420592            2       True         15\n",
            "6      WeightedEnsemble_L2 -127.820660       3.174750  215.119623                0.000599           0.333257            2       True         10\n",
            "7   RandomForestMSE_BAG_L2 -129.165296       4.974775  405.088245                0.811081          28.259738            2       True         13\n",
            "8     ExtraTreesMSE_BAG_L1 -130.555118       0.372941    3.212487                0.372941           3.212487            1       True          7\n",
            "9        LightGBMXT_BAG_L1 -131.270357       1.981600   39.838401                1.981600          39.838401            1       True          3\n",
            "10  RandomForestMSE_BAG_L1 -131.493225       0.399212    6.411921                0.399212           6.411921            1       True          5\n",
            "11         LightGBM_BAG_L1 -132.591776       0.421476   12.224387                0.421476          12.224387            1       True          4\n",
            "12         CatBoost_BAG_L1 -133.476814       0.097393  137.995703                0.097393         137.995703            1       True          6\n",
            "13          XGBoost_BAG_L1 -133.806074       0.160330   11.769861                0.160330          11.769861            1       True          9\n",
            "14  NeuralNetFastAI_BAG_L1 -135.133117       0.420397  165.323558                0.420397         165.323558            1       True          8\n",
            "15   KNeighborsUnif_BAG_L1 -154.084861       0.206337    0.031501                0.206337           0.031501            1       True          1\n",
            "16   KNeighborsDist_BAG_L1 -154.194968       0.104007    0.020688                0.104007           0.020688            1       True          2\n",
            "Number of models trained: 17\n",
            "Types of models trained:\n",
            "{'StackerEnsembleModel_LGB', 'StackerEnsembleModel_CatBoost', 'StackerEnsembleModel_XT', 'WeightedEnsembleModel', 'StackerEnsembleModel_XGBoost', 'StackerEnsembleModel_NNFastAiTabular', 'StackerEnsembleModel_KNN', 'StackerEnsembleModel_RF'}\n",
            "Bagging used: True  (with 10 folds)\n",
            "Multi-layer stack-ensembling used: True  (with 3 levels)\n",
            "Feature Metadata (Processed):\n",
            "(raw dtype, special dtypes):\n",
            "('category', [])  : 2 | ['season', 'weather']\n",
            "('float', [])     : 3 | ['temp', 'atemp', 'windspeed']\n",
            "('int', [])       : 3 | ['humidity', 'month', 'day']\n",
            "('int', ['bool']) : 3 | ['holiday', 'workingday', 'year']\n",
            "Plot summary of models saved to file: AutogluonModels/ag-20220122_214238/SummaryOfModels.html\n",
            "*** End of fit() summary ***\n"
          ]
        },
        {
          "data": {
            "text/plain": [
              "{'model_types': {'KNeighborsUnif_BAG_L1': 'StackerEnsembleModel_KNN',\n",
              "  'KNeighborsDist_BAG_L1': 'StackerEnsembleModel_KNN',\n",
              "  'LightGBMXT_BAG_L1': 'StackerEnsembleModel_LGB',\n",
              "  'LightGBM_BAG_L1': 'StackerEnsembleModel_LGB',\n",
              "  'RandomForestMSE_BAG_L1': 'StackerEnsembleModel_RF',\n",
              "  'CatBoost_BAG_L1': 'StackerEnsembleModel_CatBoost',\n",
              "  'ExtraTreesMSE_BAG_L1': 'StackerEnsembleModel_XT',\n",
              "  'NeuralNetFastAI_BAG_L1': 'StackerEnsembleModel_NNFastAiTabular',\n",
              "  'XGBoost_BAG_L1': 'StackerEnsembleModel_XGBoost',\n",
              "  'WeightedEnsemble_L2': 'WeightedEnsembleModel',\n",
              "  'LightGBMXT_BAG_L2': 'StackerEnsembleModel_LGB',\n",
              "  'LightGBM_BAG_L2': 'StackerEnsembleModel_LGB',\n",
              "  'RandomForestMSE_BAG_L2': 'StackerEnsembleModel_RF',\n",
              "  'CatBoost_BAG_L2': 'StackerEnsembleModel_CatBoost',\n",
              "  'ExtraTreesMSE_BAG_L2': 'StackerEnsembleModel_XT',\n",
              "  'NeuralNetFastAI_BAG_L2': 'StackerEnsembleModel_NNFastAiTabular',\n",
              "  'WeightedEnsemble_L3': 'WeightedEnsembleModel'},\n",
              " 'model_performance': {'KNeighborsUnif_BAG_L1': -154.08486063538746,\n",
              "  'KNeighborsDist_BAG_L1': -154.19496832542785,\n",
              "  'LightGBMXT_BAG_L1': -131.27035731098013,\n",
              "  'LightGBM_BAG_L1': -132.5917755173593,\n",
              "  'RandomForestMSE_BAG_L1': -131.49322499738653,\n",
              "  'CatBoost_BAG_L1': -133.47681376835683,\n",
              "  'ExtraTreesMSE_BAG_L1': -130.5551177857973,\n",
              "  'NeuralNetFastAI_BAG_L1': -135.13311681870087,\n",
              "  'XGBoost_BAG_L1': -133.8060735333166,\n",
              "  'WeightedEnsemble_L2': -127.82065987720837,\n",
              "  'LightGBMXT_BAG_L2': -126.87949212154241,\n",
              "  'LightGBM_BAG_L2': -127.42284738174548,\n",
              "  'RandomForestMSE_BAG_L2': -129.16529596558263,\n",
              "  'CatBoost_BAG_L2': -127.14191615718396,\n",
              "  'ExtraTreesMSE_BAG_L2': -127.54809287443437,\n",
              "  'NeuralNetFastAI_BAG_L2': -127.35187639323522,\n",
              "  'WeightedEnsemble_L3': -126.25126912365508},\n",
              " 'model_best': 'WeightedEnsemble_L3',\n",
              " 'model_paths': {'KNeighborsUnif_BAG_L1': 'AutogluonModels/ag-20220122_214238/models/KNeighborsUnif_BAG_L1/',\n",
              "  'KNeighborsDist_BAG_L1': 'AutogluonModels/ag-20220122_214238/models/KNeighborsDist_BAG_L1/',\n",
              "  'LightGBMXT_BAG_L1': 'AutogluonModels/ag-20220122_214238/models/LightGBMXT_BAG_L1/',\n",
              "  'LightGBM_BAG_L1': 'AutogluonModels/ag-20220122_214238/models/LightGBM_BAG_L1/',\n",
              "  'RandomForestMSE_BAG_L1': 'AutogluonModels/ag-20220122_214238/models/RandomForestMSE_BAG_L1/',\n",
              "  'CatBoost_BAG_L1': 'AutogluonModels/ag-20220122_214238/models/CatBoost_BAG_L1/',\n",
              "  'ExtraTreesMSE_BAG_L1': 'AutogluonModels/ag-20220122_214238/models/ExtraTreesMSE_BAG_L1/',\n",
              "  'NeuralNetFastAI_BAG_L1': 'AutogluonModels/ag-20220122_214238/models/NeuralNetFastAI_BAG_L1/',\n",
              "  'XGBoost_BAG_L1': 'AutogluonModels/ag-20220122_214238/models/XGBoost_BAG_L1/',\n",
              "  'WeightedEnsemble_L2': 'AutogluonModels/ag-20220122_214238/models/WeightedEnsemble_L2/',\n",
              "  'LightGBMXT_BAG_L2': 'AutogluonModels/ag-20220122_214238/models/LightGBMXT_BAG_L2/',\n",
              "  'LightGBM_BAG_L2': 'AutogluonModels/ag-20220122_214238/models/LightGBM_BAG_L2/',\n",
              "  'RandomForestMSE_BAG_L2': 'AutogluonModels/ag-20220122_214238/models/RandomForestMSE_BAG_L2/',\n",
              "  'CatBoost_BAG_L2': 'AutogluonModels/ag-20220122_214238/models/CatBoost_BAG_L2/',\n",
              "  'ExtraTreesMSE_BAG_L2': 'AutogluonModels/ag-20220122_214238/models/ExtraTreesMSE_BAG_L2/',\n",
              "  'NeuralNetFastAI_BAG_L2': 'AutogluonModels/ag-20220122_214238/models/NeuralNetFastAI_BAG_L2/',\n",
              "  'WeightedEnsemble_L3': 'AutogluonModels/ag-20220122_214238/models/WeightedEnsemble_L3/'},\n",
              " 'model_fit_times': {'KNeighborsUnif_BAG_L1': 0.031501054763793945,\n",
              "  'KNeighborsDist_BAG_L1': 0.020688295364379883,\n",
              "  'LightGBMXT_BAG_L1': 39.838401079177856,\n",
              "  'LightGBM_BAG_L1': 12.224387407302856,\n",
              "  'RandomForestMSE_BAG_L1': 6.41192102432251,\n",
              "  'CatBoost_BAG_L1': 137.9957025051117,\n",
              "  'ExtraTreesMSE_BAG_L1': 3.212486505508423,\n",
              "  'NeuralNetFastAI_BAG_L1': 165.3235580921173,\n",
              "  'XGBoost_BAG_L1': 11.769861459732056,\n",
              "  'WeightedEnsemble_L2': 0.33325672149658203,\n",
              "  'LightGBMXT_BAG_L2': 7.677218675613403,\n",
              "  'LightGBM_BAG_L2': 7.55105185508728,\n",
              "  'RandomForestMSE_BAG_L2': 28.259737730026245,\n",
              "  'CatBoost_BAG_L2': 33.481441020965576,\n",
              "  'ExtraTreesMSE_BAG_L2': 6.420591592788696,\n",
              "  'NeuralNetFastAI_BAG_L2': 105.6340582370758,\n",
              "  'WeightedEnsemble_L3': 0.2351818084716797},\n",
              " 'model_pred_times': {'KNeighborsUnif_BAG_L1': 0.20633745193481445,\n",
              "  'KNeighborsDist_BAG_L1': 0.10400748252868652,\n",
              "  'LightGBMXT_BAG_L1': 1.981600046157837,\n",
              "  'LightGBM_BAG_L1': 0.421475887298584,\n",
              "  'RandomForestMSE_BAG_L1': 0.3992116451263428,\n",
              "  'CatBoost_BAG_L1': 0.09739255905151367,\n",
              "  'ExtraTreesMSE_BAG_L1': 0.3729414939880371,\n",
              "  'NeuralNetFastAI_BAG_L1': 0.4203970432281494,\n",
              "  'XGBoost_BAG_L1': 0.16033005714416504,\n",
              "  'WeightedEnsemble_L2': 0.0005993843078613281,\n",
              "  'LightGBMXT_BAG_L2': 0.15739035606384277,\n",
              "  'LightGBM_BAG_L2': 0.12300610542297363,\n",
              "  'RandomForestMSE_BAG_L2': 0.8110811710357666,\n",
              "  'CatBoost_BAG_L2': 0.05696749687194824,\n",
              "  'ExtraTreesMSE_BAG_L2': 0.4494173526763916,\n",
              "  'NeuralNetFastAI_BAG_L2': 0.45552897453308105,\n",
              "  'WeightedEnsemble_L3': 0.0006022453308105469},\n",
              " 'num_bag_folds': 10,\n",
              " 'max_stack_level': 3,\n",
              " 'model_hyperparams': {'KNeighborsUnif_BAG_L1': {'use_orig_features': True,\n",
              "   'max_base_models': 25,\n",
              "   'max_base_models_per_type': 5,\n",
              "   'save_bag_folds': True,\n",
              "   'use_child_oof': True},\n",
              "  'KNeighborsDist_BAG_L1': {'use_orig_features': True,\n",
              "   'max_base_models': 25,\n",
              "   'max_base_models_per_type': 5,\n",
              "   'save_bag_folds': True,\n",
              "   'use_child_oof': True},\n",
              "  'LightGBMXT_BAG_L1': {'use_orig_features': True,\n",
              "   'max_base_models': 25,\n",
              "   'max_base_models_per_type': 5,\n",
              "   'save_bag_folds': True},\n",
              "  'LightGBM_BAG_L1': {'use_orig_features': True,\n",
              "   'max_base_models': 25,\n",
              "   'max_base_models_per_type': 5,\n",
              "   'save_bag_folds': True},\n",
              "  'RandomForestMSE_BAG_L1': {'use_orig_features': True,\n",
              "   'max_base_models': 25,\n",
              "   'max_base_models_per_type': 5,\n",
              "   'save_bag_folds': True,\n",
              "   'use_child_oof': True},\n",
              "  'CatBoost_BAG_L1': {'use_orig_features': True,\n",
              "   'max_base_models': 25,\n",
              "   'max_base_models_per_type': 5,\n",
              "   'save_bag_folds': True},\n",
              "  'ExtraTreesMSE_BAG_L1': {'use_orig_features': True,\n",
              "   'max_base_models': 25,\n",
              "   'max_base_models_per_type': 5,\n",
              "   'save_bag_folds': True,\n",
              "   'use_child_oof': True},\n",
              "  'NeuralNetFastAI_BAG_L1': {'use_orig_features': True,\n",
              "   'max_base_models': 25,\n",
              "   'max_base_models_per_type': 5,\n",
              "   'save_bag_folds': True},\n",
              "  'XGBoost_BAG_L1': {'use_orig_features': True,\n",
              "   'max_base_models': 25,\n",
              "   'max_base_models_per_type': 5,\n",
              "   'save_bag_folds': True},\n",
              "  'WeightedEnsemble_L2': {'use_orig_features': False,\n",
              "   'max_base_models': 25,\n",
              "   'max_base_models_per_type': 5,\n",
              "   'save_bag_folds': True},\n",
              "  'LightGBMXT_BAG_L2': {'use_orig_features': True,\n",
              "   'max_base_models': 25,\n",
              "   'max_base_models_per_type': 5,\n",
              "   'save_bag_folds': True},\n",
              "  'LightGBM_BAG_L2': {'use_orig_features': True,\n",
              "   'max_base_models': 25,\n",
              "   'max_base_models_per_type': 5,\n",
              "   'save_bag_folds': True},\n",
              "  'RandomForestMSE_BAG_L2': {'use_orig_features': True,\n",
              "   'max_base_models': 25,\n",
              "   'max_base_models_per_type': 5,\n",
              "   'save_bag_folds': True,\n",
              "   'use_child_oof': True},\n",
              "  'CatBoost_BAG_L2': {'use_orig_features': True,\n",
              "   'max_base_models': 25,\n",
              "   'max_base_models_per_type': 5,\n",
              "   'save_bag_folds': True},\n",
              "  'ExtraTreesMSE_BAG_L2': {'use_orig_features': True,\n",
              "   'max_base_models': 25,\n",
              "   'max_base_models_per_type': 5,\n",
              "   'save_bag_folds': True,\n",
              "   'use_child_oof': True},\n",
              "  'NeuralNetFastAI_BAG_L2': {'use_orig_features': True,\n",
              "   'max_base_models': 25,\n",
              "   'max_base_models_per_type': 5,\n",
              "   'save_bag_folds': True},\n",
              "  'WeightedEnsemble_L3': {'use_orig_features': False,\n",
              "   'max_base_models': 25,\n",
              "   'max_base_models_per_type': 5,\n",
              "   'save_bag_folds': True}},\n",
              " 'leaderboard':                      model   score_val  pred_time_val    fit_time  \\\n",
              " 0      WeightedEnsemble_L3 -126.251269       5.349639  504.346610   \n",
              " 1        LightGBMXT_BAG_L2 -126.879492       4.321084  384.505726   \n",
              " 2          CatBoost_BAG_L2 -127.141916       4.220661  410.309948   \n",
              " 3   NeuralNetFastAI_BAG_L2 -127.351876       4.619223  482.462566   \n",
              " 4          LightGBM_BAG_L2 -127.422847       4.286700  384.379559   \n",
              " 5     ExtraTreesMSE_BAG_L2 -127.548093       4.613111  383.249099   \n",
              " 6      WeightedEnsemble_L2 -127.820660       3.174750  215.119623   \n",
              " 7   RandomForestMSE_BAG_L2 -129.165296       4.974775  405.088245   \n",
              " 8     ExtraTreesMSE_BAG_L1 -130.555118       0.372941    3.212487   \n",
              " 9        LightGBMXT_BAG_L1 -131.270357       1.981600   39.838401   \n",
              " 10  RandomForestMSE_BAG_L1 -131.493225       0.399212    6.411921   \n",
              " 11         LightGBM_BAG_L1 -132.591776       0.421476   12.224387   \n",
              " 12         CatBoost_BAG_L1 -133.476814       0.097393  137.995703   \n",
              " 13          XGBoost_BAG_L1 -133.806074       0.160330   11.769861   \n",
              " 14  NeuralNetFastAI_BAG_L1 -135.133117       0.420397  165.323558   \n",
              " 15   KNeighborsUnif_BAG_L1 -154.084861       0.206337    0.031501   \n",
              " 16   KNeighborsDist_BAG_L1 -154.194968       0.104007    0.020688   \n",
              " \n",
              "     pred_time_val_marginal  fit_time_marginal  stack_level  can_infer  \\\n",
              " 0                 0.000602           0.235182            3       True   \n",
              " 1                 0.157390           7.677219            2       True   \n",
              " 2                 0.056967          33.481441            2       True   \n",
              " 3                 0.455529         105.634058            2       True   \n",
              " 4                 0.123006           7.551052            2       True   \n",
              " 5                 0.449417           6.420592            2       True   \n",
              " 6                 0.000599           0.333257            2       True   \n",
              " 7                 0.811081          28.259738            2       True   \n",
              " 8                 0.372941           3.212487            1       True   \n",
              " 9                 1.981600          39.838401            1       True   \n",
              " 10                0.399212           6.411921            1       True   \n",
              " 11                0.421476          12.224387            1       True   \n",
              " 12                0.097393         137.995703            1       True   \n",
              " 13                0.160330          11.769861            1       True   \n",
              " 14                0.420397         165.323558            1       True   \n",
              " 15                0.206337           0.031501            1       True   \n",
              " 16                0.104007           0.020688            1       True   \n",
              " \n",
              "     fit_order  \n",
              " 0          17  \n",
              " 1          11  \n",
              " 2          14  \n",
              " 3          16  \n",
              " 4          12  \n",
              " 5          15  \n",
              " 6          10  \n",
              " 7          13  \n",
              " 8           7  \n",
              " 9           3  \n",
              " 10          5  \n",
              " 11          4  \n",
              " 12          6  \n",
              " 13          9  \n",
              " 14          8  \n",
              " 15          1  \n",
              " 16          2  }"
            ]
          },
          "execution_count": 29,
          "metadata": {},
          "output_type": "execute_result"
        }
      ],
      "source": [
        "predictor_new_features.fit_summary()"
      ]
    },
    {
      "cell_type": "code",
      "execution_count": null,
      "metadata": {
        "id": "z7LGtT-z9BlV",
        "outputId": "b664805c-46d9-496a-d02f-db8808fde936"
      },
      "outputs": [
        {
          "data": {
            "text/plain": [
              "0    81.149010\n",
              "1    69.753960\n",
              "2    69.753960\n",
              "3    80.216728\n",
              "4    80.216728\n",
              "Name: count, dtype: float32"
            ]
          },
          "execution_count": 30,
          "metadata": {},
          "output_type": "execute_result"
        }
      ],
      "source": [
        "# Remember to set all negative values to zero\n",
        "predictions_new_features = predictor_new_features.predict(test)\n",
        "predictions_new_features.head()"
      ]
    },
    {
      "cell_type": "code",
      "execution_count": null,
      "metadata": {
        "id": "q715TdOn9BlV"
      },
      "outputs": [],
      "source": [
        "# Same submitting predictions\n",
        "submission_new_features = pd.read_csv('./sampleSubmission.csv', parse_dates=[\"datetime\"])\n",
        "submission_new_features[\"count\"] = predictions_new_features\n",
        "submission_new_features.to_csv(\"submission_new_features.csv\", index=False)"
      ]
    },
    {
      "cell_type": "code",
      "execution_count": null,
      "metadata": {
        "id": "-HCOOBYG9BlV",
        "outputId": "6a138b99-212a-4ddf-c975-ea59a2ec1d96"
      },
      "outputs": [
        {
          "name": "stdout",
          "output_type": "stream",
          "text": [
            "100%|█████████████████████████████████████████| 188k/188k [00:00<00:00, 540kB/s]\n",
            "Successfully submitted to Bike Sharing Demand"
          ]
        }
      ],
      "source": [
        "!kaggle competitions submit -c bike-sharing-demand -f submission_new_features.csv -m \"new features\""
      ]
    },
    {
      "cell_type": "code",
      "execution_count": null,
      "metadata": {
        "id": "Sw3b6mTY9BlW",
        "outputId": "ebc2f704-04ab-453f-b76a-4df00c576f39"
      },
      "outputs": [
        {
          "name": "stdout",
          "output_type": "stream",
          "text": [
            "fileName                     date                 description                        status    publicScore  privateScore  \n",
            "---------------------------  -------------------  ---------------------------------  --------  -----------  ------------  \n",
            "submission_new_features.csv  2022-01-22 21:58:49  new features                       complete  1.33121      1.33121       \n",
            "submission.csv               2022-01-22 21:42:10  first raw submission               complete  1.39377      1.39377       \n",
            "submission_new_hpo.csv       2022-01-22 20:30:12  new features with hyperparameters  complete  1.32740      1.32740       \n",
            "submission_new_features.csv  2022-01-22 20:10:51  new features                       complete  1.33883      1.33883       \n"
          ]
        }
      ],
      "source": [
        "!kaggle competitions submissions -c bike-sharing-demand | tail -n +1 | head -n 6"
      ]
    },
    {
      "cell_type": "markdown",
      "metadata": {
        "id": "virfDEVe9BlW"
      },
      "source": [
        "#### New Score of `?`"
      ]
    },
    {
      "cell_type": "markdown",
      "metadata": {
        "id": "Q_PZ79fZ9BlW"
      },
      "source": [
        "## Step 6: Hyper parameter optimization\n",
        "* There are many options for hyper parameter optimization.\n",
        "* Options are to change the AutoGluon higher level parameters or the individual model hyperparameters.\n",
        "* The hyperparameters of the models themselves that are in AutoGluon. Those need the `hyperparameter` and `hyperparameter_tune_kwargs` arguments."
      ]
    },
    {
      "cell_type": "code",
      "execution_count": null,
      "metadata": {
        "id": "FYnl9kji9BlW"
      },
      "outputs": [],
      "source": [
        "import autogluon.core as ag"
      ]
    },
    {
      "cell_type": "code",
      "execution_count": null,
      "metadata": {
        "id": "Rqcozett9BlW",
        "outputId": "fd26d413-db99-4624-a5e9-058444f473d0"
      },
      "outputs": [
        {
          "name": "stderr",
          "output_type": "stream",
          "text": [
            "No path specified. Models will be saved in: \"AutogluonModels/ag-20220122_215911/\"\n",
            "Presets specified: ['best_quality']\n",
            "Beginning AutoGluon training ... Time limit = 600s\n",
            "AutoGluon will save models to \"AutogluonModels/ag-20220122_215911/\"\n",
            "AutoGluon Version:  0.3.1\n",
            "Train Data Rows:    10886\n",
            "Train Data Columns: 13\n",
            "Preprocessing data ...\n",
            "AutoGluon infers your prediction problem is: 'regression' (because dtype of label-column == int and many unique label-values observed).\n",
            "\tLabel info (max, min, mean, stddev): (977, 1, 191.57413, 181.14445)\n",
            "\tIf 'regression' is not the correct problem_type, please manually specify the problem_type argument in fit() (You may specify problem_type as one of: ['binary', 'multiclass', 'regression'])\n",
            "Using Feature Generators to preprocess the data ...\n",
            "Dropping user-specified ignored columns: ['casual', 'registered']\n",
            "Fitting AutoMLPipelineFeatureGenerator...\n",
            "\tAvailable Memory:                    1911.49 MB\n",
            "\tTrain Data (Original)  Memory Usage: 0.81 MB (0.0% of available memory)\n",
            "\tInferring data type of each feature based on column values. Set feature_metadata_in to manually specify special dtypes of the features.\n",
            "\tStage 1 Generators:\n",
            "\t\tFitting AsTypeFeatureGenerator...\n",
            "\t\t\tNote: Converting 3 features to boolean dtype as they only contain 2 unique values.\n",
            "\tStage 2 Generators:\n",
            "\t\tFitting FillNaFeatureGenerator...\n",
            "\tStage 3 Generators:\n",
            "\t\tFitting IdentityFeatureGenerator...\n",
            "\t\tFitting CategoryFeatureGenerator...\n",
            "\t\t\tFitting CategoryMemoryMinimizeFeatureGenerator...\n",
            "\tStage 4 Generators:\n",
            "\t\tFitting DropUniqueFeatureGenerator...\n",
            "\tTypes of features in original data (raw dtype, special dtypes):\n",
            "\t\t('category', []) : 2 | ['season', 'weather']\n",
            "\t\t('float', [])    : 3 | ['temp', 'atemp', 'windspeed']\n",
            "\t\t('int', [])      : 6 | ['holiday', 'workingday', 'humidity', 'year', 'month', ...]\n",
            "\tTypes of features in processed data (raw dtype, special dtypes):\n",
            "\t\t('category', [])  : 2 | ['season', 'weather']\n",
            "\t\t('float', [])     : 3 | ['temp', 'atemp', 'windspeed']\n",
            "\t\t('int', [])       : 3 | ['humidity', 'month', 'day']\n",
            "\t\t('int', ['bool']) : 3 | ['holiday', 'workingday', 'year']\n",
            "\t0.2s = Fit runtime\n",
            "\t11 features in original data used to generate 11 features in processed data.\n",
            "\tTrain Data (Processed) Memory Usage: 0.58 MB (0.0% of available memory)\n",
            "Data preprocessing and feature engineering runtime = 0.2s ...\n",
            "AutoGluon will gauge predictive performance using evaluation metric: 'root_mean_squared_error'\n",
            "\tTo change this, specify the eval_metric argument of fit()\n",
            "AutoGluon will fit 2 stack levels (L1 to L2) ...\n",
            "Fitting 11 L1 models ...\n",
            "Fitting model: KNeighborsUnif_BAG_L1 ... Training model for up to 399.76s of the 599.79s of remaining time.\n",
            "\t-154.0849\t = Validation score   (root_mean_squared_error)\n",
            "\t0.05s\t = Training   runtime\n",
            "\t0.2s\t = Validation runtime\n",
            "Fitting model: KNeighborsDist_BAG_L1 ... Training model for up to 399.22s of the 599.25s of remaining time.\n",
            "\t-154.195\t = Validation score   (root_mean_squared_error)\n",
            "\t0.02s\t = Training   runtime\n",
            "\t0.1s\t = Validation runtime\n",
            "Fitting model: LightGBMXT_BAG_L1 ... Training model for up to 398.82s of the 598.84s of remaining time.\n",
            "/opt/conda/lib/python3.7/site-packages/lightgbm/engine.py:239: UserWarning: 'verbose_eval' argument is deprecated and will be removed in a future release of LightGBM. Pass 'log_evaluation()' callback via 'callbacks' argument instead.\n",
            "  _log_warning(\"'verbose_eval' argument is deprecated and will be removed in a future release of LightGBM. \"\n"
          ]
        },
        {
          "name": "stdout",
          "output_type": "stream",
          "text": [
            "[1000]\ttrain_set's rmse: 112.042\tvalid_set's rmse: 136.18\n"
          ]
        },
        {
          "name": "stderr",
          "output_type": "stream",
          "text": [
            "/opt/conda/lib/python3.7/site-packages/lightgbm/engine.py:239: UserWarning: 'verbose_eval' argument is deprecated and will be removed in a future release of LightGBM. Pass 'log_evaluation()' callback via 'callbacks' argument instead.\n",
            "  _log_warning(\"'verbose_eval' argument is deprecated and will be removed in a future release of LightGBM. \"\n"
          ]
        },
        {
          "name": "stdout",
          "output_type": "stream",
          "text": [
            "[1000]\ttrain_set's rmse: 113.786\tvalid_set's rmse: 131.485\n",
            "[2000]\ttrain_set's rmse: 104.313\tvalid_set's rmse: 130.988\n"
          ]
        },
        {
          "name": "stderr",
          "output_type": "stream",
          "text": [
            "/opt/conda/lib/python3.7/site-packages/lightgbm/engine.py:239: UserWarning: 'verbose_eval' argument is deprecated and will be removed in a future release of LightGBM. Pass 'log_evaluation()' callback via 'callbacks' argument instead.\n",
            "  _log_warning(\"'verbose_eval' argument is deprecated and will be removed in a future release of LightGBM. \"\n"
          ]
        },
        {
          "name": "stdout",
          "output_type": "stream",
          "text": [
            "[1000]\ttrain_set's rmse: 114.677\tvalid_set's rmse: 128.773\n",
            "[2000]\ttrain_set's rmse: 105.185\tvalid_set's rmse: 127.564\n",
            "[3000]\ttrain_set's rmse: 98.6078\tvalid_set's rmse: 127.149\n",
            "[4000]\ttrain_set's rmse: 93.7159\tvalid_set's rmse: 126.872\n"
          ]
        },
        {
          "name": "stderr",
          "output_type": "stream",
          "text": [
            "/opt/conda/lib/python3.7/site-packages/lightgbm/engine.py:239: UserWarning: 'verbose_eval' argument is deprecated and will be removed in a future release of LightGBM. Pass 'log_evaluation()' callback via 'callbacks' argument instead.\n",
            "  _log_warning(\"'verbose_eval' argument is deprecated and will be removed in a future release of LightGBM. \"\n"
          ]
        },
        {
          "name": "stdout",
          "output_type": "stream",
          "text": [
            "[1000]\ttrain_set's rmse: 113.176\tvalid_set's rmse: 135.767\n",
            "[2000]\ttrain_set's rmse: 103.644\tvalid_set's rmse: 135.432\n"
          ]
        },
        {
          "name": "stderr",
          "output_type": "stream",
          "text": [
            "/opt/conda/lib/python3.7/site-packages/lightgbm/engine.py:239: UserWarning: 'verbose_eval' argument is deprecated and will be removed in a future release of LightGBM. Pass 'log_evaluation()' callback via 'callbacks' argument instead.\n",
            "  _log_warning(\"'verbose_eval' argument is deprecated and will be removed in a future release of LightGBM. \"\n"
          ]
        },
        {
          "name": "stdout",
          "output_type": "stream",
          "text": [
            "[1000]\ttrain_set's rmse: 113.111\tvalid_set's rmse: 132.873\n",
            "[2000]\ttrain_set's rmse: 103.353\tvalid_set's rmse: 132.747\n"
          ]
        },
        {
          "name": "stderr",
          "output_type": "stream",
          "text": [
            "\t-132.4186\t = Validation score   (root_mean_squared_error)\n",
            "\t18.44s\t = Training   runtime\n",
            "\t1.9s\t = Validation runtime\n",
            "Fitting model: LightGBM_BAG_L1 ... Training model for up to 375.98s of the 576.0s of remaining time.\n",
            "/opt/conda/lib/python3.7/site-packages/lightgbm/engine.py:239: UserWarning: 'verbose_eval' argument is deprecated and will be removed in a future release of LightGBM. Pass 'log_evaluation()' callback via 'callbacks' argument instead.\n",
            "  _log_warning(\"'verbose_eval' argument is deprecated and will be removed in a future release of LightGBM. \"\n",
            "/opt/conda/lib/python3.7/site-packages/lightgbm/engine.py:239: UserWarning: 'verbose_eval' argument is deprecated and will be removed in a future release of LightGBM. Pass 'log_evaluation()' callback via 'callbacks' argument instead.\n",
            "  _log_warning(\"'verbose_eval' argument is deprecated and will be removed in a future release of LightGBM. \"\n"
          ]
        },
        {
          "name": "stdout",
          "output_type": "stream",
          "text": [
            "[1000]\ttrain_set's rmse: 92.1205\tvalid_set's rmse: 131.732\n"
          ]
        },
        {
          "name": "stderr",
          "output_type": "stream",
          "text": [
            "/opt/conda/lib/python3.7/site-packages/lightgbm/engine.py:239: UserWarning: 'verbose_eval' argument is deprecated and will be removed in a future release of LightGBM. Pass 'log_evaluation()' callback via 'callbacks' argument instead.\n",
            "  _log_warning(\"'verbose_eval' argument is deprecated and will be removed in a future release of LightGBM. \"\n",
            "/opt/conda/lib/python3.7/site-packages/lightgbm/engine.py:239: UserWarning: 'verbose_eval' argument is deprecated and will be removed in a future release of LightGBM. Pass 'log_evaluation()' callback via 'callbacks' argument instead.\n",
            "  _log_warning(\"'verbose_eval' argument is deprecated and will be removed in a future release of LightGBM. \"\n",
            "/opt/conda/lib/python3.7/site-packages/lightgbm/engine.py:239: UserWarning: 'verbose_eval' argument is deprecated and will be removed in a future release of LightGBM. Pass 'log_evaluation()' callback via 'callbacks' argument instead.\n",
            "  _log_warning(\"'verbose_eval' argument is deprecated and will be removed in a future release of LightGBM. \"\n",
            "\t-133.597\t = Validation score   (root_mean_squared_error)\n",
            "\t5.47s\t = Training   runtime\n",
            "\t0.4s\t = Validation runtime\n",
            "Fitting model: RandomForestMSE_BAG_L1 ... Training model for up to 369.24s of the 569.27s of remaining time.\n",
            "\t-131.4932\t = Validation score   (root_mean_squared_error)\n",
            "\t6.32s\t = Training   runtime\n",
            "\t0.38s\t = Validation runtime\n",
            "Fitting model: CatBoost_BAG_L1 ... Training model for up to 360.36s of the 560.38s of remaining time.\n",
            "\t-134.6739\t = Validation score   (root_mean_squared_error)\n",
            "\t53.89s\t = Training   runtime\n",
            "\t0.06s\t = Validation runtime\n",
            "Fitting model: ExtraTreesMSE_BAG_L1 ... Training model for up to 305.97s of the 506.0s of remaining time.\n",
            "\t-130.5551\t = Validation score   (root_mean_squared_error)\n",
            "\t3.21s\t = Training   runtime\n",
            "\t0.38s\t = Validation runtime\n",
            "Fitting model: NeuralNetFastAI_BAG_L1 ... Training model for up to 300.21s of the 500.24s of remaining time.\n",
            "\t-135.2152\t = Validation score   (root_mean_squared_error)\n",
            "\t90.0s\t = Training   runtime\n",
            "\t0.33s\t = Validation runtime\n",
            "Fitting model: XGBoost_BAG_L1 ... Training model for up to 209.47s of the 409.49s of remaining time.\n",
            "\t-134.625\t = Validation score   (root_mean_squared_error)\n",
            "\t5.35s\t = Training   runtime\n",
            "\t0.12s\t = Validation runtime\n",
            "Fitting model: NeuralNetMXNet_BAG_L1 ... Training model for up to 203.21s of the 403.23s of remaining time.\n",
            "\tRan out of time, stopping training early. (Stopping on epoch 35)\n",
            "\tRan out of time, stopping training early. (Stopping on epoch 36)\n",
            "\tRan out of time, stopping training early. (Stopping on epoch 46)\n",
            "\tRan out of time, stopping training early. (Stopping on epoch 44)\n",
            "\tRan out of time, stopping training early. (Stopping on epoch 52)\n",
            "\t-138.7619\t = Validation score   (root_mean_squared_error)\n",
            "\t189.6s\t = Training   runtime\n",
            "\t1.36s\t = Validation runtime\n",
            "Fitting model: LightGBMLarge_BAG_L1 ... Training model for up to 11.88s of the 211.91s of remaining time.\n",
            "/opt/conda/lib/python3.7/site-packages/lightgbm/engine.py:239: UserWarning: 'verbose_eval' argument is deprecated and will be removed in a future release of LightGBM. Pass 'log_evaluation()' callback via 'callbacks' argument instead.\n",
            "  _log_warning(\"'verbose_eval' argument is deprecated and will be removed in a future release of LightGBM. \"\n",
            "/opt/conda/lib/python3.7/site-packages/lightgbm/engine.py:239: UserWarning: 'verbose_eval' argument is deprecated and will be removed in a future release of LightGBM. Pass 'log_evaluation()' callback via 'callbacks' argument instead.\n",
            "  _log_warning(\"'verbose_eval' argument is deprecated and will be removed in a future release of LightGBM. \"\n",
            "/opt/conda/lib/python3.7/site-packages/lightgbm/engine.py:239: UserWarning: 'verbose_eval' argument is deprecated and will be removed in a future release of LightGBM. Pass 'log_evaluation()' callback via 'callbacks' argument instead.\n",
            "  _log_warning(\"'verbose_eval' argument is deprecated and will be removed in a future release of LightGBM. \"\n",
            "/opt/conda/lib/python3.7/site-packages/lightgbm/engine.py:239: UserWarning: 'verbose_eval' argument is deprecated and will be removed in a future release of LightGBM. Pass 'log_evaluation()' callback via 'callbacks' argument instead.\n",
            "  _log_warning(\"'verbose_eval' argument is deprecated and will be removed in a future release of LightGBM. \"\n",
            "/opt/conda/lib/python3.7/site-packages/lightgbm/engine.py:239: UserWarning: 'verbose_eval' argument is deprecated and will be removed in a future release of LightGBM. Pass 'log_evaluation()' callback via 'callbacks' argument instead.\n",
            "  _log_warning(\"'verbose_eval' argument is deprecated and will be removed in a future release of LightGBM. \"\n",
            "\t-132.2304\t = Validation score   (root_mean_squared_error)\n",
            "\t8.27s\t = Training   runtime\n",
            "\t0.23s\t = Validation runtime\n",
            "Fitting model: WeightedEnsemble_L2 ... Training model for up to 360.0s of the 202.05s of remaining time.\n",
            "\t-127.7576\t = Validation score   (root_mean_squared_error)\n",
            "\t0.39s\t = Training   runtime\n",
            "\t0.0s\t = Validation runtime\n",
            "Fitting 9 L2 models ...\n",
            "Fitting model: LightGBMXT_BAG_L2 ... Training model for up to 201.56s of the 201.52s of remaining time.\n",
            "/opt/conda/lib/python3.7/site-packages/lightgbm/engine.py:239: UserWarning: 'verbose_eval' argument is deprecated and will be removed in a future release of LightGBM. Pass 'log_evaluation()' callback via 'callbacks' argument instead.\n",
            "  _log_warning(\"'verbose_eval' argument is deprecated and will be removed in a future release of LightGBM. \"\n",
            "/opt/conda/lib/python3.7/site-packages/lightgbm/engine.py:239: UserWarning: 'verbose_eval' argument is deprecated and will be removed in a future release of LightGBM. Pass 'log_evaluation()' callback via 'callbacks' argument instead.\n",
            "  _log_warning(\"'verbose_eval' argument is deprecated and will be removed in a future release of LightGBM. \"\n",
            "/opt/conda/lib/python3.7/site-packages/lightgbm/engine.py:239: UserWarning: 'verbose_eval' argument is deprecated and will be removed in a future release of LightGBM. Pass 'log_evaluation()' callback via 'callbacks' argument instead.\n",
            "  _log_warning(\"'verbose_eval' argument is deprecated and will be removed in a future release of LightGBM. \"\n",
            "/opt/conda/lib/python3.7/site-packages/lightgbm/engine.py:239: UserWarning: 'verbose_eval' argument is deprecated and will be removed in a future release of LightGBM. Pass 'log_evaluation()' callback via 'callbacks' argument instead.\n",
            "  _log_warning(\"'verbose_eval' argument is deprecated and will be removed in a future release of LightGBM. \"\n",
            "/opt/conda/lib/python3.7/site-packages/lightgbm/engine.py:239: UserWarning: 'verbose_eval' argument is deprecated and will be removed in a future release of LightGBM. Pass 'log_evaluation()' callback via 'callbacks' argument instead.\n",
            "  _log_warning(\"'verbose_eval' argument is deprecated and will be removed in a future release of LightGBM. \"\n",
            "\t-126.8306\t = Validation score   (root_mean_squared_error)\n",
            "\t3.97s\t = Training   runtime\n",
            "\t0.1s\t = Validation runtime\n",
            "Fitting model: LightGBM_BAG_L2 ... Training model for up to 197.13s of the 197.09s of remaining time.\n",
            "/opt/conda/lib/python3.7/site-packages/lightgbm/engine.py:239: UserWarning: 'verbose_eval' argument is deprecated and will be removed in a future release of LightGBM. Pass 'log_evaluation()' callback via 'callbacks' argument instead.\n",
            "  _log_warning(\"'verbose_eval' argument is deprecated and will be removed in a future release of LightGBM. \"\n",
            "/opt/conda/lib/python3.7/site-packages/lightgbm/engine.py:239: UserWarning: 'verbose_eval' argument is deprecated and will be removed in a future release of LightGBM. Pass 'log_evaluation()' callback via 'callbacks' argument instead.\n",
            "  _log_warning(\"'verbose_eval' argument is deprecated and will be removed in a future release of LightGBM. \"\n",
            "/opt/conda/lib/python3.7/site-packages/lightgbm/engine.py:239: UserWarning: 'verbose_eval' argument is deprecated and will be removed in a future release of LightGBM. Pass 'log_evaluation()' callback via 'callbacks' argument instead.\n",
            "  _log_warning(\"'verbose_eval' argument is deprecated and will be removed in a future release of LightGBM. \"\n",
            "/opt/conda/lib/python3.7/site-packages/lightgbm/engine.py:239: UserWarning: 'verbose_eval' argument is deprecated and will be removed in a future release of LightGBM. Pass 'log_evaluation()' callback via 'callbacks' argument instead.\n",
            "  _log_warning(\"'verbose_eval' argument is deprecated and will be removed in a future release of LightGBM. \"\n",
            "/opt/conda/lib/python3.7/site-packages/lightgbm/engine.py:239: UserWarning: 'verbose_eval' argument is deprecated and will be removed in a future release of LightGBM. Pass 'log_evaluation()' callback via 'callbacks' argument instead.\n",
            "  _log_warning(\"'verbose_eval' argument is deprecated and will be removed in a future release of LightGBM. \"\n",
            "\t-127.8349\t = Validation score   (root_mean_squared_error)\n",
            "\t3.99s\t = Training   runtime\n",
            "\t0.08s\t = Validation runtime\n",
            "Fitting model: RandomForestMSE_BAG_L2 ... Training model for up to 192.74s of the 192.7s of remaining time.\n",
            "\t-129.0571\t = Validation score   (root_mean_squared_error)\n",
            "\t33.68s\t = Training   runtime\n",
            "\t0.5s\t = Validation runtime\n",
            "Fitting model: CatBoost_BAG_L2 ... Training model for up to 156.12s of the 156.08s of remaining time.\n",
            "\t-127.0848\t = Validation score   (root_mean_squared_error)\n",
            "\t18.39s\t = Training   runtime\n",
            "\t0.03s\t = Validation runtime\n",
            "Fitting model: ExtraTreesMSE_BAG_L2 ... Training model for up to 137.39s of the 137.35s of remaining time.\n",
            "\t-127.4907\t = Validation score   (root_mean_squared_error)\n",
            "\t7.12s\t = Training   runtime\n",
            "\t0.58s\t = Validation runtime\n",
            "Fitting model: NeuralNetFastAI_BAG_L2 ... Training model for up to 127.2s of the 127.16s of remaining time.\n",
            "No improvement since epoch 9: early stopping\n",
            "\t-126.9906\t = Validation score   (root_mean_squared_error)\n",
            "\t92.27s\t = Training   runtime\n",
            "\t0.35s\t = Validation runtime\n",
            "Fitting model: XGBoost_BAG_L2 ... Training model for up to 34.08s of the 34.04s of remaining time.\n",
            "\t-128.2722\t = Validation score   (root_mean_squared_error)\n",
            "\t7.82s\t = Training   runtime\n",
            "\t0.07s\t = Validation runtime\n",
            "Fitting model: NeuralNetMXNet_BAG_L2 ... Training model for up to 25.64s of the 25.6s of remaining time.\n",
            "\tRan out of time, stopping training early. (Stopping on epoch 2)\n",
            "\tRan out of time, stopping training early. (Stopping on epoch 3)\n",
            "\tRan out of time, stopping training early. (Stopping on epoch 3)\n",
            "\tRan out of time, stopping training early. (Stopping on epoch 3)\n",
            "\tRan out of time, stopping training early. (Stopping on epoch 6)\n",
            "\t-162.0457\t = Validation score   (root_mean_squared_error)\n",
            "\t22.92s\t = Training   runtime\n",
            "\t1.32s\t = Validation runtime\n",
            "Fitting model: LightGBMLarge_BAG_L2 ... Training model for up to 1.0s of the 0.96s of remaining time.\n",
            "/opt/conda/lib/python3.7/site-packages/lightgbm/engine.py:239: UserWarning: 'verbose_eval' argument is deprecated and will be removed in a future release of LightGBM. Pass 'log_evaluation()' callback via 'callbacks' argument instead.\n",
            "  _log_warning(\"'verbose_eval' argument is deprecated and will be removed in a future release of LightGBM. \"\n",
            "\tRan out of time, early stopping on iteration 1. Best iteration is:\n",
            "\t[1]\ttrain_set's rmse: 177.467\tvalid_set's rmse: 180.305\n",
            "\tTime limit exceeded... Skipping LightGBMLarge_BAG_L2.\n",
            "Fitting model: WeightedEnsemble_L3 ... Training model for up to 360.0s of the 0.59s of remaining time.\n",
            "\t-126.045\t = Validation score   (root_mean_squared_error)\n",
            "\t0.29s\t = Training   runtime\n",
            "\t0.0s\t = Validation runtime\n",
            "AutoGluon training complete, total runtime = 599.97s ...\n",
            "TabularPredictor saved. To load, use: predictor = TabularPredictor.load(\"AutogluonModels/ag-20220122_215911/\")\n"
          ]
        }
      ],
      "source": [
        "predictor_new_hpo = TabularPredictor(label=\"count\", eval_metric=\"root_mean_squared_error\", learner_kwargs={'ignored_columns': [\"casual\", \"registered\"]}).fit(\n",
        "    train_data=train, time_limit=600, num_bag_folds=5, num_bag_sets=1, num_stack_levels=1, presets=\"best_quality\"\n",
        ")"
      ]
    },
    {
      "cell_type": "code",
      "execution_count": null,
      "metadata": {
        "id": "Pko4ksMB9BlW",
        "outputId": "5605ee48-8b9e-41b6-98b2-08668ba46beb"
      },
      "outputs": [
        {
          "name": "stdout",
          "output_type": "stream",
          "text": [
            "*** Summary of fit() ***\n",
            "Estimated performance of each model:\n",
            "                     model   score_val  pred_time_val    fit_time  pred_time_val_marginal  fit_time_marginal  stack_level  can_infer  fit_order\n",
            "0      WeightedEnsemble_L3 -126.045028       6.536176  502.675130                0.000597           0.294658            3       True         21\n",
            "1        LightGBMXT_BAG_L2 -126.830602       5.571856  384.600178                0.102930           3.967500            2       True         13\n",
            "2   NeuralNetFastAI_BAG_L2 -126.990560       5.819721  472.901083                0.350796          92.268406            2       True         18\n",
            "3          CatBoost_BAG_L2 -127.084828       5.502139  399.023029                0.033214          18.390352            2       True         16\n",
            "4     ExtraTreesMSE_BAG_L2 -127.490684       6.048640  387.754214                0.579714           7.121537            2       True         17\n",
            "5      WeightedEnsemble_L2 -127.757584       4.353149  307.960792                0.000538           0.390820            2       True         12\n",
            "6          LightGBM_BAG_L2 -127.834880       5.544947  384.622159                0.076022           3.989482            2       True         14\n",
            "7           XGBoost_BAG_L2 -128.272187       5.542272  388.450866                0.073347           7.818189            2       True         19\n",
            "8   RandomForestMSE_BAG_L2 -129.057098       5.968467  414.315600                0.499542          33.682923            2       True         15\n",
            "9     ExtraTreesMSE_BAG_L1 -130.555118       0.376325    3.207441                0.376325           3.207441            1       True          7\n",
            "10  RandomForestMSE_BAG_L1 -131.493225       0.377915    6.316131                0.377915           6.316131            1       True          5\n",
            "11    LightGBMLarge_BAG_L1 -132.230402       0.233296    8.270575                0.233296           8.270575            1       True         11\n",
            "12       LightGBMXT_BAG_L1 -132.418571       1.904254   18.443405                1.904254          18.443405            1       True          3\n",
            "13         LightGBM_BAG_L1 -133.597027       0.396323    5.473814                0.396323           5.473814            1       True          4\n",
            "14          XGBoost_BAG_L1 -134.625006       0.117327    5.353741                0.117327           5.353741            1       True          9\n",
            "15         CatBoost_BAG_L1 -134.673937       0.061571   53.891242                0.061571          53.891242            1       True          6\n",
            "16  NeuralNetFastAI_BAG_L1 -135.215160       0.329847   89.998242                0.329847          89.998242            1       True          8\n",
            "17   NeuralNetMXNet_BAG_L1 -138.761852       1.364269  189.604753                1.364269         189.604753            1       True         10\n",
            "18   KNeighborsUnif_BAG_L1 -154.084861       0.203937    0.051935                0.203937           0.051935            1       True          1\n",
            "19   KNeighborsDist_BAG_L1 -154.194968       0.103861    0.021398                0.103861           0.021398            1       True          2\n",
            "20   NeuralNetMXNet_BAG_L2 -162.045658       6.787967  403.550593                1.319041          22.917916            2       True         20\n",
            "Number of models trained: 21\n",
            "Types of models trained:\n",
            "{'StackerEnsembleModel_LGB', 'StackerEnsembleModel_CatBoost', 'StackerEnsembleModel_XT', 'StackerEnsembleModel_TabularNeuralNet', 'StackerEnsembleModel_XGBoost', 'StackerEnsembleModel_NNFastAiTabular', 'StackerEnsembleModel_KNN', 'WeightedEnsembleModel', 'StackerEnsembleModel_RF'}\n",
            "Bagging used: True  (with 5 folds)\n",
            "Multi-layer stack-ensembling used: True  (with 3 levels)\n",
            "Feature Metadata (Processed):\n",
            "(raw dtype, special dtypes):\n",
            "('category', [])  : 2 | ['season', 'weather']\n",
            "('float', [])     : 3 | ['temp', 'atemp', 'windspeed']\n",
            "('int', [])       : 3 | ['humidity', 'month', 'day']\n",
            "('int', ['bool']) : 3 | ['holiday', 'workingday', 'year']\n",
            "Plot summary of models saved to file: AutogluonModels/ag-20220122_215911/SummaryOfModels.html\n",
            "*** End of fit() summary ***\n"
          ]
        },
        {
          "data": {
            "text/plain": [
              "{'model_types': {'KNeighborsUnif_BAG_L1': 'StackerEnsembleModel_KNN',\n",
              "  'KNeighborsDist_BAG_L1': 'StackerEnsembleModel_KNN',\n",
              "  'LightGBMXT_BAG_L1': 'StackerEnsembleModel_LGB',\n",
              "  'LightGBM_BAG_L1': 'StackerEnsembleModel_LGB',\n",
              "  'RandomForestMSE_BAG_L1': 'StackerEnsembleModel_RF',\n",
              "  'CatBoost_BAG_L1': 'StackerEnsembleModel_CatBoost',\n",
              "  'ExtraTreesMSE_BAG_L1': 'StackerEnsembleModel_XT',\n",
              "  'NeuralNetFastAI_BAG_L1': 'StackerEnsembleModel_NNFastAiTabular',\n",
              "  'XGBoost_BAG_L1': 'StackerEnsembleModel_XGBoost',\n",
              "  'NeuralNetMXNet_BAG_L1': 'StackerEnsembleModel_TabularNeuralNet',\n",
              "  'LightGBMLarge_BAG_L1': 'StackerEnsembleModel_LGB',\n",
              "  'WeightedEnsemble_L2': 'WeightedEnsembleModel',\n",
              "  'LightGBMXT_BAG_L2': 'StackerEnsembleModel_LGB',\n",
              "  'LightGBM_BAG_L2': 'StackerEnsembleModel_LGB',\n",
              "  'RandomForestMSE_BAG_L2': 'StackerEnsembleModel_RF',\n",
              "  'CatBoost_BAG_L2': 'StackerEnsembleModel_CatBoost',\n",
              "  'ExtraTreesMSE_BAG_L2': 'StackerEnsembleModel_XT',\n",
              "  'NeuralNetFastAI_BAG_L2': 'StackerEnsembleModel_NNFastAiTabular',\n",
              "  'XGBoost_BAG_L2': 'StackerEnsembleModel_XGBoost',\n",
              "  'NeuralNetMXNet_BAG_L2': 'StackerEnsembleModel_TabularNeuralNet',\n",
              "  'WeightedEnsemble_L3': 'WeightedEnsembleModel'},\n",
              " 'model_performance': {'KNeighborsUnif_BAG_L1': -154.08486063538746,\n",
              "  'KNeighborsDist_BAG_L1': -154.19496832542785,\n",
              "  'LightGBMXT_BAG_L1': -132.41857090664794,\n",
              "  'LightGBM_BAG_L1': -133.59702675471698,\n",
              "  'RandomForestMSE_BAG_L1': -131.49322499738653,\n",
              "  'CatBoost_BAG_L1': -134.67393667395922,\n",
              "  'ExtraTreesMSE_BAG_L1': -130.5551177857973,\n",
              "  'NeuralNetFastAI_BAG_L1': -135.21516027398687,\n",
              "  'XGBoost_BAG_L1': -134.62500562193148,\n",
              "  'NeuralNetMXNet_BAG_L1': -138.76185217737125,\n",
              "  'LightGBMLarge_BAG_L1': -132.23040161005045,\n",
              "  'WeightedEnsemble_L2': -127.75758445893365,\n",
              "  'LightGBMXT_BAG_L2': -126.83060178244257,\n",
              "  'LightGBM_BAG_L2': -127.83487962989295,\n",
              "  'RandomForestMSE_BAG_L2': -129.0570984357583,\n",
              "  'CatBoost_BAG_L2': -127.08482849740099,\n",
              "  'ExtraTreesMSE_BAG_L2': -127.49068378579109,\n",
              "  'NeuralNetFastAI_BAG_L2': -126.9905599235836,\n",
              "  'XGBoost_BAG_L2': -128.2721870541398,\n",
              "  'NeuralNetMXNet_BAG_L2': -162.04565775098285,\n",
              "  'WeightedEnsemble_L3': -126.04502753350947},\n",
              " 'model_best': 'WeightedEnsemble_L3',\n",
              " 'model_paths': {'KNeighborsUnif_BAG_L1': 'AutogluonModels/ag-20220122_215911/models/KNeighborsUnif_BAG_L1/',\n",
              "  'KNeighborsDist_BAG_L1': 'AutogluonModels/ag-20220122_215911/models/KNeighborsDist_BAG_L1/',\n",
              "  'LightGBMXT_BAG_L1': 'AutogluonModels/ag-20220122_215911/models/LightGBMXT_BAG_L1/',\n",
              "  'LightGBM_BAG_L1': 'AutogluonModels/ag-20220122_215911/models/LightGBM_BAG_L1/',\n",
              "  'RandomForestMSE_BAG_L1': 'AutogluonModels/ag-20220122_215911/models/RandomForestMSE_BAG_L1/',\n",
              "  'CatBoost_BAG_L1': 'AutogluonModels/ag-20220122_215911/models/CatBoost_BAG_L1/',\n",
              "  'ExtraTreesMSE_BAG_L1': 'AutogluonModels/ag-20220122_215911/models/ExtraTreesMSE_BAG_L1/',\n",
              "  'NeuralNetFastAI_BAG_L1': 'AutogluonModels/ag-20220122_215911/models/NeuralNetFastAI_BAG_L1/',\n",
              "  'XGBoost_BAG_L1': 'AutogluonModels/ag-20220122_215911/models/XGBoost_BAG_L1/',\n",
              "  'NeuralNetMXNet_BAG_L1': 'AutogluonModels/ag-20220122_215911/models/NeuralNetMXNet_BAG_L1/',\n",
              "  'LightGBMLarge_BAG_L1': 'AutogluonModels/ag-20220122_215911/models/LightGBMLarge_BAG_L1/',\n",
              "  'WeightedEnsemble_L2': 'AutogluonModels/ag-20220122_215911/models/WeightedEnsemble_L2/',\n",
              "  'LightGBMXT_BAG_L2': 'AutogluonModels/ag-20220122_215911/models/LightGBMXT_BAG_L2/',\n",
              "  'LightGBM_BAG_L2': 'AutogluonModels/ag-20220122_215911/models/LightGBM_BAG_L2/',\n",
              "  'RandomForestMSE_BAG_L2': 'AutogluonModels/ag-20220122_215911/models/RandomForestMSE_BAG_L2/',\n",
              "  'CatBoost_BAG_L2': 'AutogluonModels/ag-20220122_215911/models/CatBoost_BAG_L2/',\n",
              "  'ExtraTreesMSE_BAG_L2': 'AutogluonModels/ag-20220122_215911/models/ExtraTreesMSE_BAG_L2/',\n",
              "  'NeuralNetFastAI_BAG_L2': 'AutogluonModels/ag-20220122_215911/models/NeuralNetFastAI_BAG_L2/',\n",
              "  'XGBoost_BAG_L2': 'AutogluonModels/ag-20220122_215911/models/XGBoost_BAG_L2/',\n",
              "  'NeuralNetMXNet_BAG_L2': 'AutogluonModels/ag-20220122_215911/models/NeuralNetMXNet_BAG_L2/',\n",
              "  'WeightedEnsemble_L3': 'AutogluonModels/ag-20220122_215911/models/WeightedEnsemble_L3/'},\n",
              " 'model_fit_times': {'KNeighborsUnif_BAG_L1': 0.05193471908569336,\n",
              "  'KNeighborsDist_BAG_L1': 0.02139759063720703,\n",
              "  'LightGBMXT_BAG_L1': 18.443405389785767,\n",
              "  'LightGBM_BAG_L1': 5.473814249038696,\n",
              "  'RandomForestMSE_BAG_L1': 6.316130876541138,\n",
              "  'CatBoost_BAG_L1': 53.891242265701294,\n",
              "  'ExtraTreesMSE_BAG_L1': 3.2074408531188965,\n",
              "  'NeuralNetFastAI_BAG_L1': 89.99824237823486,\n",
              "  'XGBoost_BAG_L1': 5.353741407394409,\n",
              "  'NeuralNetMXNet_BAG_L1': 189.60475277900696,\n",
              "  'LightGBMLarge_BAG_L1': 8.270574808120728,\n",
              "  'WeightedEnsemble_L2': 0.3908200263977051,\n",
              "  'LightGBMXT_BAG_L2': 3.9675004482269287,\n",
              "  'LightGBM_BAG_L2': 3.9894816875457764,\n",
              "  'RandomForestMSE_BAG_L2': 33.68292284011841,\n",
              "  'CatBoost_BAG_L2': 18.39035153388977,\n",
              "  'ExtraTreesMSE_BAG_L2': 7.121536731719971,\n",
              "  'NeuralNetFastAI_BAG_L2': 92.26840591430664,\n",
              "  'XGBoost_BAG_L2': 7.818188667297363,\n",
              "  'NeuralNetMXNet_BAG_L2': 22.91791558265686,\n",
              "  'WeightedEnsemble_L3': 0.29465818405151367},\n",
              " 'model_pred_times': {'KNeighborsUnif_BAG_L1': 0.20393705368041992,\n",
              "  'KNeighborsDist_BAG_L1': 0.10386085510253906,\n",
              "  'LightGBMXT_BAG_L1': 1.9042541980743408,\n",
              "  'LightGBM_BAG_L1': 0.39632320404052734,\n",
              "  'RandomForestMSE_BAG_L1': 0.3779146671295166,\n",
              "  'CatBoost_BAG_L1': 0.06157064437866211,\n",
              "  'ExtraTreesMSE_BAG_L1': 0.3763248920440674,\n",
              "  'NeuralNetFastAI_BAG_L1': 0.3298473358154297,\n",
              "  'XGBoost_BAG_L1': 0.11732673645019531,\n",
              "  'NeuralNetMXNet_BAG_L1': 1.3642692565917969,\n",
              "  'LightGBMLarge_BAG_L1': 0.23329639434814453,\n",
              "  'WeightedEnsemble_L2': 0.0005383491516113281,\n",
              "  'LightGBMXT_BAG_L2': 0.10293030738830566,\n",
              "  'LightGBM_BAG_L2': 0.07602190971374512,\n",
              "  'RandomForestMSE_BAG_L2': 0.499542236328125,\n",
              "  'CatBoost_BAG_L2': 0.03321409225463867,\n",
              "  'ExtraTreesMSE_BAG_L2': 0.579714298248291,\n",
              "  'NeuralNetFastAI_BAG_L2': 0.3507955074310303,\n",
              "  'XGBoost_BAG_L2': 0.07334709167480469,\n",
              "  'NeuralNetMXNet_BAG_L2': 1.3190414905548096,\n",
              "  'WeightedEnsemble_L3': 0.0005967617034912109},\n",
              " 'num_bag_folds': 5,\n",
              " 'max_stack_level': 3,\n",
              " 'model_hyperparams': {'KNeighborsUnif_BAG_L1': {'use_orig_features': True,\n",
              "   'max_base_models': 25,\n",
              "   'max_base_models_per_type': 5,\n",
              "   'save_bag_folds': True,\n",
              "   'use_child_oof': True},\n",
              "  'KNeighborsDist_BAG_L1': {'use_orig_features': True,\n",
              "   'max_base_models': 25,\n",
              "   'max_base_models_per_type': 5,\n",
              "   'save_bag_folds': True,\n",
              "   'use_child_oof': True},\n",
              "  'LightGBMXT_BAG_L1': {'use_orig_features': True,\n",
              "   'max_base_models': 25,\n",
              "   'max_base_models_per_type': 5,\n",
              "   'save_bag_folds': True},\n",
              "  'LightGBM_BAG_L1': {'use_orig_features': True,\n",
              "   'max_base_models': 25,\n",
              "   'max_base_models_per_type': 5,\n",
              "   'save_bag_folds': True},\n",
              "  'RandomForestMSE_BAG_L1': {'use_orig_features': True,\n",
              "   'max_base_models': 25,\n",
              "   'max_base_models_per_type': 5,\n",
              "   'save_bag_folds': True,\n",
              "   'use_child_oof': True},\n",
              "  'CatBoost_BAG_L1': {'use_orig_features': True,\n",
              "   'max_base_models': 25,\n",
              "   'max_base_models_per_type': 5,\n",
              "   'save_bag_folds': True},\n",
              "  'ExtraTreesMSE_BAG_L1': {'use_orig_features': True,\n",
              "   'max_base_models': 25,\n",
              "   'max_base_models_per_type': 5,\n",
              "   'save_bag_folds': True,\n",
              "   'use_child_oof': True},\n",
              "  'NeuralNetFastAI_BAG_L1': {'use_orig_features': True,\n",
              "   'max_base_models': 25,\n",
              "   'max_base_models_per_type': 5,\n",
              "   'save_bag_folds': True},\n",
              "  'XGBoost_BAG_L1': {'use_orig_features': True,\n",
              "   'max_base_models': 25,\n",
              "   'max_base_models_per_type': 5,\n",
              "   'save_bag_folds': True},\n",
              "  'NeuralNetMXNet_BAG_L1': {'use_orig_features': True,\n",
              "   'max_base_models': 25,\n",
              "   'max_base_models_per_type': 5,\n",
              "   'save_bag_folds': True},\n",
              "  'LightGBMLarge_BAG_L1': {'use_orig_features': True,\n",
              "   'max_base_models': 25,\n",
              "   'max_base_models_per_type': 5,\n",
              "   'save_bag_folds': True},\n",
              "  'WeightedEnsemble_L2': {'use_orig_features': False,\n",
              "   'max_base_models': 25,\n",
              "   'max_base_models_per_type': 5,\n",
              "   'save_bag_folds': True},\n",
              "  'LightGBMXT_BAG_L2': {'use_orig_features': True,\n",
              "   'max_base_models': 25,\n",
              "   'max_base_models_per_type': 5,\n",
              "   'save_bag_folds': True},\n",
              "  'LightGBM_BAG_L2': {'use_orig_features': True,\n",
              "   'max_base_models': 25,\n",
              "   'max_base_models_per_type': 5,\n",
              "   'save_bag_folds': True},\n",
              "  'RandomForestMSE_BAG_L2': {'use_orig_features': True,\n",
              "   'max_base_models': 25,\n",
              "   'max_base_models_per_type': 5,\n",
              "   'save_bag_folds': True,\n",
              "   'use_child_oof': True},\n",
              "  'CatBoost_BAG_L2': {'use_orig_features': True,\n",
              "   'max_base_models': 25,\n",
              "   'max_base_models_per_type': 5,\n",
              "   'save_bag_folds': True},\n",
              "  'ExtraTreesMSE_BAG_L2': {'use_orig_features': True,\n",
              "   'max_base_models': 25,\n",
              "   'max_base_models_per_type': 5,\n",
              "   'save_bag_folds': True,\n",
              "   'use_child_oof': True},\n",
              "  'NeuralNetFastAI_BAG_L2': {'use_orig_features': True,\n",
              "   'max_base_models': 25,\n",
              "   'max_base_models_per_type': 5,\n",
              "   'save_bag_folds': True},\n",
              "  'XGBoost_BAG_L2': {'use_orig_features': True,\n",
              "   'max_base_models': 25,\n",
              "   'max_base_models_per_type': 5,\n",
              "   'save_bag_folds': True},\n",
              "  'NeuralNetMXNet_BAG_L2': {'use_orig_features': True,\n",
              "   'max_base_models': 25,\n",
              "   'max_base_models_per_type': 5,\n",
              "   'save_bag_folds': True},\n",
              "  'WeightedEnsemble_L3': {'use_orig_features': False,\n",
              "   'max_base_models': 25,\n",
              "   'max_base_models_per_type': 5,\n",
              "   'save_bag_folds': True}},\n",
              " 'leaderboard':                      model   score_val  pred_time_val    fit_time  \\\n",
              " 0      WeightedEnsemble_L3 -126.045028       6.536176  502.675130   \n",
              " 1        LightGBMXT_BAG_L2 -126.830602       5.571856  384.600178   \n",
              " 2   NeuralNetFastAI_BAG_L2 -126.990560       5.819721  472.901083   \n",
              " 3          CatBoost_BAG_L2 -127.084828       5.502139  399.023029   \n",
              " 4     ExtraTreesMSE_BAG_L2 -127.490684       6.048640  387.754214   \n",
              " 5      WeightedEnsemble_L2 -127.757584       4.353149  307.960792   \n",
              " 6          LightGBM_BAG_L2 -127.834880       5.544947  384.622159   \n",
              " 7           XGBoost_BAG_L2 -128.272187       5.542272  388.450866   \n",
              " 8   RandomForestMSE_BAG_L2 -129.057098       5.968467  414.315600   \n",
              " 9     ExtraTreesMSE_BAG_L1 -130.555118       0.376325    3.207441   \n",
              " 10  RandomForestMSE_BAG_L1 -131.493225       0.377915    6.316131   \n",
              " 11    LightGBMLarge_BAG_L1 -132.230402       0.233296    8.270575   \n",
              " 12       LightGBMXT_BAG_L1 -132.418571       1.904254   18.443405   \n",
              " 13         LightGBM_BAG_L1 -133.597027       0.396323    5.473814   \n",
              " 14          XGBoost_BAG_L1 -134.625006       0.117327    5.353741   \n",
              " 15         CatBoost_BAG_L1 -134.673937       0.061571   53.891242   \n",
              " 16  NeuralNetFastAI_BAG_L1 -135.215160       0.329847   89.998242   \n",
              " 17   NeuralNetMXNet_BAG_L1 -138.761852       1.364269  189.604753   \n",
              " 18   KNeighborsUnif_BAG_L1 -154.084861       0.203937    0.051935   \n",
              " 19   KNeighborsDist_BAG_L1 -154.194968       0.103861    0.021398   \n",
              " 20   NeuralNetMXNet_BAG_L2 -162.045658       6.787967  403.550593   \n",
              " \n",
              "     pred_time_val_marginal  fit_time_marginal  stack_level  can_infer  \\\n",
              " 0                 0.000597           0.294658            3       True   \n",
              " 1                 0.102930           3.967500            2       True   \n",
              " 2                 0.350796          92.268406            2       True   \n",
              " 3                 0.033214          18.390352            2       True   \n",
              " 4                 0.579714           7.121537            2       True   \n",
              " 5                 0.000538           0.390820            2       True   \n",
              " 6                 0.076022           3.989482            2       True   \n",
              " 7                 0.073347           7.818189            2       True   \n",
              " 8                 0.499542          33.682923            2       True   \n",
              " 9                 0.376325           3.207441            1       True   \n",
              " 10                0.377915           6.316131            1       True   \n",
              " 11                0.233296           8.270575            1       True   \n",
              " 12                1.904254          18.443405            1       True   \n",
              " 13                0.396323           5.473814            1       True   \n",
              " 14                0.117327           5.353741            1       True   \n",
              " 15                0.061571          53.891242            1       True   \n",
              " 16                0.329847          89.998242            1       True   \n",
              " 17                1.364269         189.604753            1       True   \n",
              " 18                0.203937           0.051935            1       True   \n",
              " 19                0.103861           0.021398            1       True   \n",
              " 20                1.319041          22.917916            2       True   \n",
              " \n",
              "     fit_order  \n",
              " 0          21  \n",
              " 1          13  \n",
              " 2          18  \n",
              " 3          16  \n",
              " 4          17  \n",
              " 5          12  \n",
              " 6          14  \n",
              " 7          19  \n",
              " 8          15  \n",
              " 9           7  \n",
              " 10          5  \n",
              " 11         11  \n",
              " 12          3  \n",
              " 13          4  \n",
              " 14          9  \n",
              " 15          6  \n",
              " 16          8  \n",
              " 17         10  \n",
              " 18          1  \n",
              " 19          2  \n",
              " 20         20  }"
            ]
          },
          "execution_count": 36,
          "metadata": {},
          "output_type": "execute_result"
        }
      ],
      "source": [
        "predictor_new_hpo.fit_summary()"
      ]
    },
    {
      "cell_type": "code",
      "execution_count": null,
      "metadata": {
        "id": "FfFaap2w9BlX"
      },
      "outputs": [],
      "source": [
        "# Remember to set all negative values to zero\n",
        "predictions_new_hpo = predictor_new_hpo.predict(test)\n",
        "predictions_new_hpo.iloc[predictions_new_hpo.lt(0)] = 0"
      ]
    },
    {
      "cell_type": "code",
      "execution_count": null,
      "metadata": {
        "id": "SSdqyqvq9BlX"
      },
      "outputs": [],
      "source": [
        "# Same submitting predictions\n",
        "submission_new_hpo = pd.read_csv('./sampleSubmission.csv', parse_dates=[\"datetime\"])\n",
        "submission_new_hpo[\"count\"] = predictions_new_hpo\n",
        "submission_new_hpo.to_csv(\"submission_new_hpo.csv\", index=False)"
      ]
    },
    {
      "cell_type": "code",
      "execution_count": null,
      "metadata": {
        "id": "JV0TCNmp9BlX",
        "outputId": "e3da2594-b8d5-44a9-871f-f59fbb027d46"
      },
      "outputs": [
        {
          "name": "stdout",
          "output_type": "stream",
          "text": [
            "100%|█████████████████████████████████████████| 189k/189k [00:00<00:00, 557kB/s]\n",
            "Successfully submitted to Bike Sharing Demand"
          ]
        }
      ],
      "source": [
        "!kaggle competitions submit -c bike-sharing-demand -f submission_new_hpo.csv -m \"new features with hyperparameters\""
      ]
    },
    {
      "cell_type": "code",
      "execution_count": null,
      "metadata": {
        "id": "TrqWEQUc9BlX",
        "outputId": "99af3449-fbfa-4b79-8345-bbcd3808bdbf"
      },
      "outputs": [
        {
          "name": "stdout",
          "output_type": "stream",
          "text": [
            "fileName                     date                 description                        status    publicScore  privateScore  \n",
            "---------------------------  -------------------  ---------------------------------  --------  -----------  ------------  \n",
            "submission_new_hpo.csv       2022-01-22 22:15:21  new features with hyperparameters  complete  1.31933      1.31933       \n",
            "submission_new_features.csv  2022-01-22 21:58:49  new features                       complete  1.33121      1.33121       \n",
            "submission.csv               2022-01-22 21:42:10  first raw submission               complete  1.39377      1.39377       \n",
            "submission_new_hpo.csv       2022-01-22 20:30:12  new features with hyperparameters  complete  1.32740      1.32740       \n"
          ]
        }
      ],
      "source": [
        "!kaggle competitions submissions -c bike-sharing-demand | tail -n +1 | head -n 6"
      ]
    },
    {
      "cell_type": "markdown",
      "metadata": {
        "id": "3hY7A_bF9BlX"
      },
      "source": [
        "#### New Score of `?`"
      ]
    },
    {
      "cell_type": "markdown",
      "metadata": {
        "id": "ofWjgcmC9BlY"
      },
      "source": [
        "\n",
        "## Step 7: Write a Report\n",
        "### Refer to the markdown file for the full report\n",
        "### Creating plots and table for report"
      ]
    },
    {
      "cell_type": "code",
      "execution_count": null,
      "metadata": {
        "jupyter": {
          "source_hidden": true
        },
        "colab": {
          "base_uri": "https://localhost:8080/",
          "height": 389
        },
        "id": "M9rcH_UH9BlY",
        "outputId": "af7d597e-2167-4064-9e6c-96f193f41a8e"
      },
      "outputs": [
        {
          "output_type": "display_data",
          "data": {
            "image/png": "[encoded data removed]",
            "text/plain": [
              "<Figure size 576x432 with 1 Axes>"
            ]
          },
          "metadata": {
            "needs_background": "light"
          }
        }
      ],
      "source": [
        "import pandas as pd\n",
        "import matplotlib.pyplot as plt\n",
        "\n",
        "# Taking the top model score from each training run and creating a line plot to show improvement\n",
        "# You can create these in the notebook and save them to PNG or use some other tool (e.g. google sheets, excel)\n",
        "fig = pd.DataFrame(\n",
        "    {\n",
        "        \"model\": [\"initial\", \"add_features\", \"hpo\"],\n",
        "        \"score\": [ 1.39377   ,  1.33121  ,  1.32740]\n",
        "    }\n",
        ").plot(x=\"model\", y=\"score\", figsize=(8, 6)).get_figure()\n",
        "fig.savefig('model_train_score.png')"
      ]
    },
    {
      "cell_type": "code",
      "execution_count": null,
      "metadata": {
        "colab": {
          "base_uri": "https://localhost:8080/",
          "height": 390
        },
        "id": "2J--4pOW9BlY",
        "outputId": "66878517-b17a-494b-dcad-a165957dcfea"
      },
      "outputs": [
        {
          "output_type": "display_data",
          "data": {
            "image/png": "[encoded data removed]",
            "text/plain": [
              "<Figure size 576x432 with 1 Axes>"
            ]
          },
          "metadata": {
            "needs_background": "light"
          }
        }
      ],
      "source": [
        "# Take the 3 kaggle scores and creating a line plot to show improvement\n",
        "fig = pd.DataFrame(\n",
        "    {\n",
        "        \"test_eval\": [\"initial\", \"add_features\", \"WeightedEnsemble\", \"WeightedEnsemble\"],\n",
        "        \"score\": [ 1.39377  , 1.33121,  1.31933 , 1.32740 ]\n",
        "    }\n",
        ").plot(x=\"test_eval\", y=\"score\", figsize=(8, 6)).get_figure()\n",
        "fig.savefig('model_test_score.png')"
      ]
    },
    {
      "cell_type": "markdown",
      "metadata": {
        "id": "JXqJg09D9BlY"
      },
      "source": [
        "### Hyperparameter table"
      ]
    },
    {
      "cell_type": "code",
      "execution_count": null,
      "metadata": {
        "colab": {
          "base_uri": "https://localhost:8080/",
          "height": 143
        },
        "id": "cVCD91KZ9BlY",
        "outputId": "202e73ec-6734-4b51-e713-6c17d304cef0"
      },
      "outputs": [
        {
          "output_type": "execute_result",
          "data": {
            "text/html": [
              "\n",
              "  <div id=\"df-d1910623-fbf6-40d4-bcad-a87515bd5563\">\n",
              "    <div class=\"colab-df-container\">\n",
              "      <div>\n",
              "<style scoped>\n",
              "    .dataframe tbody tr th:only-of-type {\n",
              "        vertical-align: middle;\n",
              "    }\n",
              "\n",
              "    .dataframe tbody tr th {\n",
              "        vertical-align: top;\n",
              "    }\n",
              "\n",
              "    .dataframe thead th {\n",
              "        text-align: right;\n",
              "    }\n",
              "</style>\n",
              "<table border=\"1\" class=\"dataframe\">\n",
              "  <thead>\n",
              "    <tr style=\"text-align: right;\">\n",
              "      <th></th>\n",
              "      <th>model</th>\n",
              "      <th>WeightedEnsemble</th>\n",
              "      <th>score</th>\n",
              "    </tr>\n",
              "  </thead>\n",
              "  <tbody>\n",
              "    <tr>\n",
              "      <th>0</th>\n",
              "      <td>initial</td>\n",
              "      <td>0</td>\n",
              "      <td>1.33883</td>\n",
              "    </tr>\n",
              "    <tr>\n",
              "      <th>1</th>\n",
              "      <td>add_features</td>\n",
              "      <td>0</td>\n",
              "      <td>1.39281</td>\n",
              "    </tr>\n",
              "    <tr>\n",
              "      <th>2</th>\n",
              "      <td>WeightedEnsemble</td>\n",
              "      <td>1</td>\n",
              "      <td>1.32740</td>\n",
              "    </tr>\n",
              "  </tbody>\n",
              "</table>\n",
              "</div>\n",
              "      <button class=\"colab-df-convert\" onclick=\"convertToInteractive('df-d1910623-fbf6-40d4-bcad-a87515bd5563')\"\n",
              "              title=\"Convert this dataframe to an interactive table.\"\n",
              "              style=\"display:none;\">\n",
              "        \n",
              "  <svg xmlns=\"http://www.w3.org/2000/svg\" height=\"24px\"viewBox=\"0 0 24 24\"\n",
              "       width=\"24px\">\n",
              "    <path d=\"M0 0h24v24H0V0z\" fill=\"none\"/>\n",
              "    <path d=\"M18.56 5.44l.94 2.06.94-2.06 2.06-.94-2.06-.94-.94-2.06-.94 2.06-2.06.94zm-11 1L8.5 8.5l.94-2.06 2.06-.94-2.06-.94L8.5 2.5l-.94 2.06-2.06.94zm10 10l.94 2.06.94-2.06 2.06-.94-2.06-.94-.94-2.06-.94 2.06-2.06.94z\"/><path d=\"M17.41 7.96l-1.37-1.37c-.4-.4-.92-.59-1.43-.59-.52 0-1.04.2-1.43.59L10.3 9.45l-7.72 7.72c-.78.78-.78 2.05 0 2.83L4 21.41c.39.39.9.59 1.41.59.51 0 1.02-.2 1.41-.59l7.78-7.78 2.81-2.81c.8-.78.8-2.07 0-2.86zM5.41 20L4 18.59l7.72-7.72 1.47 1.35L5.41 20z\"/>\n",
              "  </svg>\n",
              "      </button>\n",
              "      \n",
              "  <style>\n",
              "    .colab-df-container {\n",
              "      display:flex;\n",
              "      flex-wrap:wrap;\n",
              "      gap: 12px;\n",
              "    }\n",
              "\n",
              "    .colab-df-convert {\n",
              "      background-color: #E8F0FE;\n",
              "      border: none;\n",
              "      border-radius: 50%;\n",
              "      cursor: pointer;\n",
              "      display: none;\n",
              "      fill: #1967D2;\n",
              "      height: 32px;\n",
              "      padding: 0 0 0 0;\n",
              "      width: 32px;\n",
              "    }\n",
              "\n",
              "    .colab-df-convert:hover {\n",
              "      background-color: #E2EBFA;\n",
              "      box-shadow: 0px 1px 2px rgba(60, 64, 67, 0.3), 0px 1px 3px 1px rgba(60, 64, 67, 0.15);\n",
              "      fill: #174EA6;\n",
              "    }\n",
              "\n",
              "    [theme=dark] .colab-df-convert {\n",
              "      background-color: #3B4455;\n",
              "      fill: #D2E3FC;\n",
              "    }\n",
              "\n",
              "    [theme=dark] .colab-df-convert:hover {\n",
              "      background-color: #434B5C;\n",
              "      box-shadow: 0px 1px 3px 1px rgba(0, 0, 0, 0.15);\n",
              "      filter: drop-shadow(0px 1px 2px rgba(0, 0, 0, 0.3));\n",
              "      fill: #FFFFFF;\n",
              "    }\n",
              "  </style>\n",
              "\n",
              "      <script>\n",
              "        const buttonEl =\n",
              "          document.querySelector('#df-d1910623-fbf6-40d4-bcad-a87515bd5563 button.colab-df-convert');\n",
              "        buttonEl.style.display =\n",
              "          google.colab.kernel.accessAllowed ? 'block' : 'none';\n",
              "\n",
              "        async function convertToInteractive(key) {\n",
              "          const element = document.querySelector('#df-d1910623-fbf6-40d4-bcad-a87515bd5563');\n",
              "          const dataTable =\n",
              "            await google.colab.kernel.invokeFunction('convertToInteractive',\n",
              "                                                     [key], {});\n",
              "          if (!dataTable) return;\n",
              "\n",
              "          const docLinkHtml = 'Like what you see? Visit the ' +\n",
              "            '<a target=\"_blank\" href=https://colab.research.google.com/notebooks/data_table.ipynb>data table notebook</a>'\n",
              "            + ' to learn more about interactive tables.';\n",
              "          element.innerHTML = '';\n",
              "          dataTable['output_type'] = 'display_data';\n",
              "          await google.colab.output.renderOutput(dataTable, element);\n",
              "          const docLink = document.createElement('div');\n",
              "          docLink.innerHTML = docLinkHtml;\n",
              "          element.appendChild(docLink);\n",
              "        }\n",
              "      </script>\n",
              "    </div>\n",
              "  </div>\n",
              "  "
            ],
            "text/plain": [
              "              model  WeightedEnsemble    score\n",
              "0           initial                 0  1.33883\n",
              "1      add_features                 0  1.39281\n",
              "2  WeightedEnsemble                 1  1.32740"
            ]
          },
          "metadata": {},
          "execution_count": 7
        }
      ],
      "source": [
        "# The 3 hyperparameters we tuned with the kaggle score as the result\n",
        "pd.DataFrame({\n",
        "    \"model\": [\"initial\", \"add_features\", \"WeightedEnsemble\"],\n",
        "    \"WeightedEnsemble\": [0, 0, 5],\n",
        "    \"WeightedEnsemble\": [20, 20, 1],\n",
        "    \"WeightedEnsemble\": [0, 0, 1],\n",
        "    \"score\": [1.33883, 1.39281, 1.32740 ]\n",
        "})"
      ]
    },
    {
      "cell_type": "code",
      "execution_count": null,
      "metadata": {
        "colab": {
          "base_uri": "https://localhost:8080/",
          "height": 389
        },
        "id": "xbT3M7nv9BlZ",
        "outputId": "7d13775b-2767-427d-94ac-077bf67157e8"
      },
      "outputs": [
        {
          "output_type": "display_data",
          "data": {
            "image/png": "[encoded data removed]",
            "text/plain": [
              "<Figure size 576x432 with 1 Axes>"
            ]
          },
          "metadata": {
            "needs_background": "light"
          }
        }
      ],
      "source": [
        "fig = pd.DataFrame(\n",
        "    {\n",
        "        \"model\": [\"initial\", \"add_features\", \"hpo\"],\n",
        "         \"WeightedEnsemble\": [0, 0, 5],\n",
        "    \"WeightedEnsemble\": [20, 20, 1],\n",
        "    \"WeightedEnsemble\": [0, 0, 1],\n",
        "        \"score\": [1.33883 , 1.39281 , 1.32740 ]\n",
        "    }\n",
        ").plot(x=\"model\", y=\"score\", figsize=(8, 6)).get_figure()\n",
        "fig.savefig('model_test2_score.png')"
      ]
    },
    {
      "cell_type": "code",
      "execution_count": null,
      "metadata": {
        "id": "S0uLM0Gw9BlZ"
      },
      "outputs": [],
      "source": [
        ""
      ]
    }
  ],
  "metadata": {
    "instance_type": "ml.t3.medium",
    "kernelspec": {
      "display_name": "Python 3 (Data Science)",
      "language": "python",
      "name": "python3__SAGEMAKER_INTERNAL__arn:aws:sagemaker:us-east-1:081325390199:image/datascience-1.0"
    },
    "language_info": {
      "codemirror_mode": {
        "name": "ipython",
        "version": 3
      },
      "file_extension": ".py",
      "mimetype": "text/x-python",
      "name": "python",
      "nbconvert_exporter": "python",
      "pygments_lexer": "ipython3",
      "version": "3.7.10"
    },
    "colab": {
      "name": "Copy of project-template.ipynb",
      "provenance": [],
      "include_colab_link": true
    }
  },
  "nbformat": 4,
  "nbformat_minor": 0
}